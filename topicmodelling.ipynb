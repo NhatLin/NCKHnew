{
 "cells": [
  {
   "cell_type": "markdown",
   "metadata": {},
   "source": [
    "# 1. Setting the Working Environment"
   ]
  },
  {
   "cell_type": "code",
   "execution_count": 202,
   "metadata": {},
   "outputs": [
    {
     "name": "stdout",
     "output_type": "stream",
     "text": [
      "Requirement already satisfied: pyLDAvis in c:\\users\\asus\\appdata\\local\\packages\\pythonsoftwarefoundation.python.3.11_qbz5n2kfra8p0\\localcache\\local-packages\\python311\\site-packages (3.4.1)\n",
      "Requirement already satisfied: numpy>=1.24.2 in c:\\users\\asus\\appdata\\local\\packages\\pythonsoftwarefoundation.python.3.11_qbz5n2kfra8p0\\localcache\\local-packages\\python311\\site-packages (from pyLDAvis) (1.26.1)\n",
      "Requirement already satisfied: scipy in c:\\users\\asus\\appdata\\local\\packages\\pythonsoftwarefoundation.python.3.11_qbz5n2kfra8p0\\localcache\\local-packages\\python311\\site-packages (from pyLDAvis) (1.11.3)\n",
      "Requirement already satisfied: pandas>=2.0.0 in c:\\users\\asus\\appdata\\local\\packages\\pythonsoftwarefoundation.python.3.11_qbz5n2kfra8p0\\localcache\\local-packages\\python311\\site-packages (from pyLDAvis) (2.1.2)\n",
      "Requirement already satisfied: joblib>=1.2.0 in c:\\users\\asus\\appdata\\local\\packages\\pythonsoftwarefoundation.python.3.11_qbz5n2kfra8p0\\localcache\\local-packages\\python311\\site-packages (from pyLDAvis) (1.3.2)\n",
      "Requirement already satisfied: jinja2 in c:\\users\\asus\\appdata\\local\\packages\\pythonsoftwarefoundation.python.3.11_qbz5n2kfra8p0\\localcache\\local-packages\\python311\\site-packages (from pyLDAvis) (3.1.3)\n",
      "Requirement already satisfied: numexpr in c:\\users\\asus\\appdata\\local\\packages\\pythonsoftwarefoundation.python.3.11_qbz5n2kfra8p0\\localcache\\local-packages\\python311\\site-packages (from pyLDAvis) (2.9.0)\n",
      "Requirement already satisfied: funcy in c:\\users\\asus\\appdata\\local\\packages\\pythonsoftwarefoundation.python.3.11_qbz5n2kfra8p0\\localcache\\local-packages\\python311\\site-packages (from pyLDAvis) (2.0)\n",
      "Requirement already satisfied: scikit-learn>=1.0.0 in c:\\users\\asus\\appdata\\local\\packages\\pythonsoftwarefoundation.python.3.11_qbz5n2kfra8p0\\localcache\\local-packages\\python311\\site-packages (from pyLDAvis) (1.3.2)\n",
      "Requirement already satisfied: gensim in c:\\users\\asus\\appdata\\local\\packages\\pythonsoftwarefoundation.python.3.11_qbz5n2kfra8p0\\localcache\\local-packages\\python311\\site-packages (from pyLDAvis) (4.3.2)\n",
      "Requirement already satisfied: setuptools in c:\\program files\\windowsapps\\pythonsoftwarefoundation.python.3.11_3.11.2288.0_x64__qbz5n2kfra8p0\\lib\\site-packages (from pyLDAvis) (65.5.0)\n",
      "Requirement already satisfied: python-dateutil>=2.8.2 in c:\\users\\asus\\appdata\\local\\packages\\pythonsoftwarefoundation.python.3.11_qbz5n2kfra8p0\\localcache\\local-packages\\python311\\site-packages (from pandas>=2.0.0->pyLDAvis) (2.8.2)\n",
      "Requirement already satisfied: pytz>=2020.1 in c:\\users\\asus\\appdata\\local\\packages\\pythonsoftwarefoundation.python.3.11_qbz5n2kfra8p0\\localcache\\local-packages\\python311\\site-packages (from pandas>=2.0.0->pyLDAvis) (2023.3.post1)\n",
      "Requirement already satisfied: tzdata>=2022.1 in c:\\users\\asus\\appdata\\local\\packages\\pythonsoftwarefoundation.python.3.11_qbz5n2kfra8p0\\localcache\\local-packages\\python311\\site-packages (from pandas>=2.0.0->pyLDAvis) (2023.3)\n",
      "Requirement already satisfied: threadpoolctl>=2.0.0 in c:\\users\\asus\\appdata\\local\\packages\\pythonsoftwarefoundation.python.3.11_qbz5n2kfra8p0\\localcache\\local-packages\\python311\\site-packages (from scikit-learn>=1.0.0->pyLDAvis) (3.2.0)\n",
      "Requirement already satisfied: smart-open>=1.8.1 in c:\\users\\asus\\appdata\\local\\packages\\pythonsoftwarefoundation.python.3.11_qbz5n2kfra8p0\\localcache\\local-packages\\python311\\site-packages (from gensim->pyLDAvis) (7.0.1)\n",
      "Requirement already satisfied: MarkupSafe>=2.0 in c:\\users\\asus\\appdata\\local\\packages\\pythonsoftwarefoundation.python.3.11_qbz5n2kfra8p0\\localcache\\local-packages\\python311\\site-packages (from jinja2->pyLDAvis) (2.1.1)\n",
      "Requirement already satisfied: six>=1.5 in c:\\users\\asus\\appdata\\local\\packages\\pythonsoftwarefoundation.python.3.11_qbz5n2kfra8p0\\localcache\\local-packages\\python311\\site-packages (from python-dateutil>=2.8.2->pandas>=2.0.0->pyLDAvis) (1.16.0)\n",
      "Requirement already satisfied: wrapt in c:\\users\\asus\\appdata\\local\\packages\\pythonsoftwarefoundation.python.3.11_qbz5n2kfra8p0\\localcache\\local-packages\\python311\\site-packages (from smart-open>=1.8.1->gensim->pyLDAvis) (1.16.0)\n"
     ]
    },
    {
     "name": "stderr",
     "output_type": "stream",
     "text": [
      "\n",
      "[notice] A new release of pip is available: 23.3.1 -> 24.0\n",
      "[notice] To update, run: C:\\Users\\ASUS\\AppData\\Local\\Microsoft\\WindowsApps\\PythonSoftwareFoundation.Python.3.11_qbz5n2kfra8p0\\python.exe -m pip install --upgrade pip\n"
     ]
    },
    {
     "name": "stdout",
     "output_type": "stream",
     "text": [
      "Requirement already satisfied: wordcloud in c:\\users\\asus\\appdata\\local\\packages\\pythonsoftwarefoundation.python.3.11_qbz5n2kfra8p0\\localcache\\local-packages\\python311\\site-packages (1.9.3)\n",
      "Requirement already satisfied: numpy>=1.6.1 in c:\\users\\asus\\appdata\\local\\packages\\pythonsoftwarefoundation.python.3.11_qbz5n2kfra8p0\\localcache\\local-packages\\python311\\site-packages (from wordcloud) (1.26.1)\n",
      "Requirement already satisfied: pillow in c:\\users\\asus\\appdata\\local\\packages\\pythonsoftwarefoundation.python.3.11_qbz5n2kfra8p0\\localcache\\local-packages\\python311\\site-packages (from wordcloud) (10.1.0)\n",
      "Requirement already satisfied: matplotlib in c:\\users\\asus\\appdata\\local\\packages\\pythonsoftwarefoundation.python.3.11_qbz5n2kfra8p0\\localcache\\local-packages\\python311\\site-packages (from wordcloud) (3.8.1)\n",
      "Requirement already satisfied: contourpy>=1.0.1 in c:\\users\\asus\\appdata\\local\\packages\\pythonsoftwarefoundation.python.3.11_qbz5n2kfra8p0\\localcache\\local-packages\\python311\\site-packages (from matplotlib->wordcloud) (1.2.0)\n",
      "Requirement already satisfied: cycler>=0.10 in c:\\users\\asus\\appdata\\local\\packages\\pythonsoftwarefoundation.python.3.11_qbz5n2kfra8p0\\localcache\\local-packages\\python311\\site-packages (from matplotlib->wordcloud) (0.12.1)\n",
      "Requirement already satisfied: fonttools>=4.22.0 in c:\\users\\asus\\appdata\\local\\packages\\pythonsoftwarefoundation.python.3.11_qbz5n2kfra8p0\\localcache\\local-packages\\python311\\site-packages (from matplotlib->wordcloud) (4.44.0)\n",
      "Requirement already satisfied: kiwisolver>=1.3.1 in c:\\users\\asus\\appdata\\local\\packages\\pythonsoftwarefoundation.python.3.11_qbz5n2kfra8p0\\localcache\\local-packages\\python311\\site-packages (from matplotlib->wordcloud) (1.4.5)\n",
      "Requirement already satisfied: packaging>=20.0 in c:\\users\\asus\\appdata\\local\\packages\\pythonsoftwarefoundation.python.3.11_qbz5n2kfra8p0\\localcache\\local-packages\\python311\\site-packages (from matplotlib->wordcloud) (23.2)\n",
      "Requirement already satisfied: pyparsing>=2.3.1 in c:\\users\\asus\\appdata\\local\\packages\\pythonsoftwarefoundation.python.3.11_qbz5n2kfra8p0\\localcache\\local-packages\\python311\\site-packages (from matplotlib->wordcloud) (3.1.1)\n",
      "Requirement already satisfied: python-dateutil>=2.7 in c:\\users\\asus\\appdata\\local\\packages\\pythonsoftwarefoundation.python.3.11_qbz5n2kfra8p0\\localcache\\local-packages\\python311\\site-packages (from matplotlib->wordcloud) (2.8.2)\n",
      "Requirement already satisfied: six>=1.5 in c:\\users\\asus\\appdata\\local\\packages\\pythonsoftwarefoundation.python.3.11_qbz5n2kfra8p0\\localcache\\local-packages\\python311\\site-packages (from python-dateutil>=2.7->matplotlib->wordcloud) (1.16.0)\n"
     ]
    },
    {
     "name": "stderr",
     "output_type": "stream",
     "text": [
      "\n",
      "[notice] A new release of pip is available: 23.3.1 -> 24.0\n",
      "[notice] To update, run: C:\\Users\\ASUS\\AppData\\Local\\Microsoft\\WindowsApps\\PythonSoftwareFoundation.Python.3.11_qbz5n2kfra8p0\\python.exe -m pip install --upgrade pip\n"
     ]
    },
    {
     "name": "stdout",
     "output_type": "stream",
     "text": [
      "Requirement already satisfied: gensim in c:\\users\\asus\\appdata\\local\\packages\\pythonsoftwarefoundation.python.3.11_qbz5n2kfra8p0\\localcache\\local-packages\\python311\\site-packages (4.3.2)\n",
      "Requirement already satisfied: numpy>=1.18.5 in c:\\users\\asus\\appdata\\local\\packages\\pythonsoftwarefoundation.python.3.11_qbz5n2kfra8p0\\localcache\\local-packages\\python311\\site-packages (from gensim) (1.26.1)\n",
      "Requirement already satisfied: scipy>=1.7.0 in c:\\users\\asus\\appdata\\local\\packages\\pythonsoftwarefoundation.python.3.11_qbz5n2kfra8p0\\localcache\\local-packages\\python311\\site-packages (from gensim) (1.11.3)\n",
      "Requirement already satisfied: smart-open>=1.8.1 in c:\\users\\asus\\appdata\\local\\packages\\pythonsoftwarefoundation.python.3.11_qbz5n2kfra8p0\\localcache\\local-packages\\python311\\site-packages (from gensim) (7.0.1)\n",
      "Requirement already satisfied: wrapt in c:\\users\\asus\\appdata\\local\\packages\\pythonsoftwarefoundation.python.3.11_qbz5n2kfra8p0\\localcache\\local-packages\\python311\\site-packages (from smart-open>=1.8.1->gensim) (1.16.0)\n"
     ]
    },
    {
     "name": "stderr",
     "output_type": "stream",
     "text": [
      "\n",
      "[notice] A new release of pip is available: 23.3.1 -> 24.0\n",
      "[notice] To update, run: C:\\Users\\ASUS\\AppData\\Local\\Microsoft\\WindowsApps\\PythonSoftwareFoundation.Python.3.11_qbz5n2kfra8p0\\python.exe -m pip install --upgrade pip\n"
     ]
    },
    {
     "name": "stdout",
     "output_type": "stream",
     "text": [
      "Requirement already satisfied: nltk in c:\\users\\asus\\appdata\\local\\packages\\pythonsoftwarefoundation.python.3.11_qbz5n2kfra8p0\\localcache\\local-packages\\python311\\site-packages (3.8.1)\n",
      "Requirement already satisfied: click in c:\\users\\asus\\appdata\\local\\packages\\pythonsoftwarefoundation.python.3.11_qbz5n2kfra8p0\\localcache\\local-packages\\python311\\site-packages (from nltk) (8.1.7)\n",
      "Requirement already satisfied: joblib in c:\\users\\asus\\appdata\\local\\packages\\pythonsoftwarefoundation.python.3.11_qbz5n2kfra8p0\\localcache\\local-packages\\python311\\site-packages (from nltk) (1.3.2)\n",
      "Requirement already satisfied: regex>=2021.8.3 in c:\\users\\asus\\appdata\\local\\packages\\pythonsoftwarefoundation.python.3.11_qbz5n2kfra8p0\\localcache\\local-packages\\python311\\site-packages (from nltk) (2023.12.25)\n",
      "Requirement already satisfied: tqdm in c:\\users\\asus\\appdata\\local\\packages\\pythonsoftwarefoundation.python.3.11_qbz5n2kfra8p0\\localcache\\local-packages\\python311\\site-packages (from nltk) (4.66.2)\n",
      "Requirement already satisfied: colorama in c:\\users\\asus\\appdata\\local\\packages\\pythonsoftwarefoundation.python.3.11_qbz5n2kfra8p0\\localcache\\local-packages\\python311\\site-packages (from click->nltk) (0.4.6)\n"
     ]
    },
    {
     "name": "stderr",
     "output_type": "stream",
     "text": [
      "\n",
      "[notice] A new release of pip is available: 23.3.1 -> 24.0\n",
      "[notice] To update, run: C:\\Users\\ASUS\\AppData\\Local\\Microsoft\\WindowsApps\\PythonSoftwareFoundation.Python.3.11_qbz5n2kfra8p0\\python.exe -m pip install --upgrade pip\n"
     ]
    }
   ],
   "source": [
    "!pip install pyLDAvis\n",
    "!pip install wordcloud\n",
    "!pip install gensim\n",
    "!pip install nltk"
   ]
  },
  {
   "cell_type": "code",
   "execution_count": 203,
   "metadata": {},
   "outputs": [
    {
     "name": "stdout",
     "output_type": "stream",
     "text": [
      "Requirement already satisfied: wordcloud in c:\\users\\asus\\appdata\\local\\packages\\pythonsoftwarefoundation.python.3.11_qbz5n2kfra8p0\\localcache\\local-packages\\python311\\site-packages (1.9.3)\n",
      "Requirement already satisfied: numpy>=1.6.1 in c:\\users\\asus\\appdata\\local\\packages\\pythonsoftwarefoundation.python.3.11_qbz5n2kfra8p0\\localcache\\local-packages\\python311\\site-packages (from wordcloud) (1.26.1)\n",
      "Requirement already satisfied: pillow in c:\\users\\asus\\appdata\\local\\packages\\pythonsoftwarefoundation.python.3.11_qbz5n2kfra8p0\\localcache\\local-packages\\python311\\site-packages (from wordcloud) (10.1.0)\n",
      "Requirement already satisfied: matplotlib in c:\\users\\asus\\appdata\\local\\packages\\pythonsoftwarefoundation.python.3.11_qbz5n2kfra8p0\\localcache\\local-packages\\python311\\site-packages (from wordcloud) (3.8.1)\n",
      "Requirement already satisfied: contourpy>=1.0.1 in c:\\users\\asus\\appdata\\local\\packages\\pythonsoftwarefoundation.python.3.11_qbz5n2kfra8p0\\localcache\\local-packages\\python311\\site-packages (from matplotlib->wordcloud) (1.2.0)\n",
      "Requirement already satisfied: cycler>=0.10 in c:\\users\\asus\\appdata\\local\\packages\\pythonsoftwarefoundation.python.3.11_qbz5n2kfra8p0\\localcache\\local-packages\\python311\\site-packages (from matplotlib->wordcloud) (0.12.1)\n",
      "Requirement already satisfied: fonttools>=4.22.0 in c:\\users\\asus\\appdata\\local\\packages\\pythonsoftwarefoundation.python.3.11_qbz5n2kfra8p0\\localcache\\local-packages\\python311\\site-packages (from matplotlib->wordcloud) (4.44.0)\n",
      "Requirement already satisfied: kiwisolver>=1.3.1 in c:\\users\\asus\\appdata\\local\\packages\\pythonsoftwarefoundation.python.3.11_qbz5n2kfra8p0\\localcache\\local-packages\\python311\\site-packages (from matplotlib->wordcloud) (1.4.5)\n",
      "Requirement already satisfied: packaging>=20.0 in c:\\users\\asus\\appdata\\local\\packages\\pythonsoftwarefoundation.python.3.11_qbz5n2kfra8p0\\localcache\\local-packages\\python311\\site-packages (from matplotlib->wordcloud) (23.2)\n",
      "Requirement already satisfied: pyparsing>=2.3.1 in c:\\users\\asus\\appdata\\local\\packages\\pythonsoftwarefoundation.python.3.11_qbz5n2kfra8p0\\localcache\\local-packages\\python311\\site-packages (from matplotlib->wordcloud) (3.1.1)\n",
      "Requirement already satisfied: python-dateutil>=2.7 in c:\\users\\asus\\appdata\\local\\packages\\pythonsoftwarefoundation.python.3.11_qbz5n2kfra8p0\\localcache\\local-packages\\python311\\site-packages (from matplotlib->wordcloud) (2.8.2)\n",
      "Requirement already satisfied: six>=1.5 in c:\\users\\asus\\appdata\\local\\packages\\pythonsoftwarefoundation.python.3.11_qbz5n2kfra8p0\\localcache\\local-packages\\python311\\site-packages (from python-dateutil>=2.7->matplotlib->wordcloud) (1.16.0)\n"
     ]
    },
    {
     "name": "stderr",
     "output_type": "stream",
     "text": [
      "\n",
      "[notice] A new release of pip is available: 23.3.1 -> 24.0\n",
      "[notice] To update, run: C:\\Users\\ASUS\\AppData\\Local\\Microsoft\\WindowsApps\\PythonSoftwareFoundation.Python.3.11_qbz5n2kfra8p0\\python.exe -m pip install --upgrade pip\n"
     ]
    }
   ],
   "source": [
    "\n",
    "!pip install wordcloud"
   ]
  },
  {
   "cell_type": "code",
   "execution_count": 204,
   "metadata": {},
   "outputs": [],
   "source": [
    "import pyLDAvis\n",
    "import pyLDAvis.gensim_models \n",
    "import pickle\n",
    "import pandas as pd\n",
    "import os\n",
    "import re\n",
    "from wordcloud import WordCloud\n",
    "import gensim\n",
    "from gensim.utils import simple_preprocess\n",
    "import nltk\n",
    "from nltk.corpus import stopwords\n",
    "import gensim.corpora as corpora\n",
    "import warnings\n",
    "warnings.filterwarnings('ignore')"
   ]
  },
  {
   "cell_type": "markdown",
   "metadata": {},
   "source": [
    "# 2. Importing Data"
   ]
  },
  {
   "cell_type": "code",
   "execution_count": 205,
   "metadata": {},
   "outputs": [
    {
     "name": "stdout",
     "output_type": "stream",
     "text": [
      "The shape of data ---> (101567, 7)\n"
     ]
    },
    {
     "data": {
      "text/html": [
       "<div>\n",
       "<style scoped>\n",
       "    .dataframe tbody tr th:only-of-type {\n",
       "        vertical-align: middle;\n",
       "    }\n",
       "\n",
       "    .dataframe tbody tr th {\n",
       "        vertical-align: top;\n",
       "    }\n",
       "\n",
       "    .dataframe thead th {\n",
       "        text-align: right;\n",
       "    }\n",
       "</style>\n",
       "<table border=\"1\" class=\"dataframe\">\n",
       "  <thead>\n",
       "    <tr style=\"text-align: right;\">\n",
       "      <th></th>\n",
       "      <th>Unnamed: 0</th>\n",
       "      <th>reviewer_name</th>\n",
       "      <th>reviewer_country</th>\n",
       "      <th>rental_date</th>\n",
       "      <th>comments</th>\n",
       "      <th>sentiment</th>\n",
       "      <th>label</th>\n",
       "    </tr>\n",
       "  </thead>\n",
       "  <tbody>\n",
       "    <tr>\n",
       "      <th>0</th>\n",
       "      <td>0</td>\n",
       "      <td>Igor</td>\n",
       "      <td>Ba Lan</td>\n",
       "      <td>2023-12-02 00:00:00</td>\n",
       "      <td>best support ever witnessed answer fast kind s...</td>\n",
       "      <td>positive</td>\n",
       "      <td>1</td>\n",
       "    </tr>\n",
       "    <tr>\n",
       "      <th>1</th>\n",
       "      <td>1</td>\n",
       "      <td>Kevin</td>\n",
       "      <td>Pháp</td>\n",
       "      <td>2023-12-04 00:00:00</td>\n",
       "      <td>everything ok</td>\n",
       "      <td>positive</td>\n",
       "      <td>1</td>\n",
       "    </tr>\n",
       "    <tr>\n",
       "      <th>2</th>\n",
       "      <td>2</td>\n",
       "      <td>Walid</td>\n",
       "      <td>Pháp</td>\n",
       "      <td>2023-12-09 00:00:00</td>\n",
       "      <td>great accommodation games owner responded quickly</td>\n",
       "      <td>positive</td>\n",
       "      <td>1</td>\n",
       "    </tr>\n",
       "    <tr>\n",
       "      <th>3</th>\n",
       "      <td>3</td>\n",
       "      <td>Maxence</td>\n",
       "      <td>Vương quốc Anh</td>\n",
       "      <td>2023-12-11 00:00:00</td>\n",
       "      <td>thanks nigel tra friendly stay ho chi minh cit...</td>\n",
       "      <td>positive</td>\n",
       "      <td>1</td>\n",
       "    </tr>\n",
       "    <tr>\n",
       "      <th>4</th>\n",
       "      <td>4</td>\n",
       "      <td>Lisa</td>\n",
       "      <td>Ai/len</td>\n",
       "      <td>2023-12-10 00:00:00</td>\n",
       "      <td>nigel others dedicated responded quickly stay ...</td>\n",
       "      <td>positive</td>\n",
       "      <td>1</td>\n",
       "    </tr>\n",
       "    <tr>\n",
       "      <th>5</th>\n",
       "      <td>5</td>\n",
       "      <td>Linh</td>\n",
       "      <td>Vietnam</td>\n",
       "      <td>2023-12-20 00:00:00</td>\n",
       "      <td>ok room price</td>\n",
       "      <td>positive</td>\n",
       "      <td>1</td>\n",
       "    </tr>\n",
       "    <tr>\n",
       "      <th>6</th>\n",
       "      <td>6</td>\n",
       "      <td>Heonsoo</td>\n",
       "      <td>Vietnam</td>\n",
       "      <td>2023-12-24 00:00:00</td>\n",
       "      <td>good</td>\n",
       "      <td>positive</td>\n",
       "      <td>1</td>\n",
       "    </tr>\n",
       "    <tr>\n",
       "      <th>7</th>\n",
       "      <td>7</td>\n",
       "      <td>Đức</td>\n",
       "      <td>Vietnam</td>\n",
       "      <td>2023-11-18 00:00:00</td>\n",
       "      <td>best option budget close range everything real...</td>\n",
       "      <td>positive</td>\n",
       "      <td>1</td>\n",
       "    </tr>\n",
       "    <tr>\n",
       "      <th>8</th>\n",
       "      <td>8</td>\n",
       "      <td>Mark</td>\n",
       "      <td>Vietnam</td>\n",
       "      <td>2023-11-30 00:00:00</td>\n",
       "      <td>great time homeowners quickly everything solve...</td>\n",
       "      <td>positive</td>\n",
       "      <td>1</td>\n",
       "    </tr>\n",
       "    <tr>\n",
       "      <th>9</th>\n",
       "      <td>9</td>\n",
       "      <td>Delon</td>\n",
       "      <td>Singapore</td>\n",
       "      <td>2023-11-19 00:00:00</td>\n",
       "      <td>good accommodation</td>\n",
       "      <td>positive</td>\n",
       "      <td>1</td>\n",
       "    </tr>\n",
       "  </tbody>\n",
       "</table>\n",
       "</div>"
      ],
      "text/plain": [
       "   Unnamed: 0 reviewer_name reviewer_country          rental_date  \\\n",
       "0           0          Igor           Ba Lan  2023-12-02 00:00:00   \n",
       "1           1         Kevin             Pháp  2023-12-04 00:00:00   \n",
       "2           2         Walid             Pháp  2023-12-09 00:00:00   \n",
       "3           3       Maxence   Vương quốc Anh  2023-12-11 00:00:00   \n",
       "4           4          Lisa           Ai/len  2023-12-10 00:00:00   \n",
       "5           5          Linh          Vietnam  2023-12-20 00:00:00   \n",
       "6           6       Heonsoo          Vietnam  2023-12-24 00:00:00   \n",
       "7           7           Đức          Vietnam  2023-11-18 00:00:00   \n",
       "8           8          Mark          Vietnam  2023-11-30 00:00:00   \n",
       "9           9         Delon        Singapore  2023-11-19 00:00:00   \n",
       "\n",
       "                                            comments sentiment  label  \n",
       "0  best support ever witnessed answer fast kind s...  positive      1  \n",
       "1                                     everything ok   positive      1  \n",
       "2  great accommodation games owner responded quickly  positive      1  \n",
       "3  thanks nigel tra friendly stay ho chi minh cit...  positive      1  \n",
       "4  nigel others dedicated responded quickly stay ...  positive      1  \n",
       "5                                      ok room price  positive      1  \n",
       "6                                               good  positive      1  \n",
       "7  best option budget close range everything real...  positive      1  \n",
       "8  great time homeowners quickly everything solve...  positive      1  \n",
       "9                                good accommodation   positive      1  "
      ]
     },
     "execution_count": 205,
     "metadata": {},
     "output_type": "execute_result"
    }
   ],
   "source": [
    "# Master Folder PathC\n",
    "path = \"E:\\\\NCKH\\\\NCKHNew\\\\labeled_data_final.csv\"\n",
    "df = pd.read_csv(os.path.join(path))\n",
    "print(\"The shape of data --->\",df.shape)\n",
    "df.head(10) # Print head"
   ]
  },
  {
   "cell_type": "markdown",
   "metadata": {},
   "source": [
    "# 3. Inital Pre-Processing Data"
   ]
  },
  {
   "cell_type": "code",
   "execution_count": 206,
   "metadata": {},
   "outputs": [
    {
     "data": {
      "text/html": [
       "<div>\n",
       "<style scoped>\n",
       "    .dataframe tbody tr th:only-of-type {\n",
       "        vertical-align: middle;\n",
       "    }\n",
       "\n",
       "    .dataframe tbody tr th {\n",
       "        vertical-align: top;\n",
       "    }\n",
       "\n",
       "    .dataframe thead th {\n",
       "        text-align: right;\n",
       "    }\n",
       "</style>\n",
       "<table border=\"1\" class=\"dataframe\">\n",
       "  <thead>\n",
       "    <tr style=\"text-align: right;\">\n",
       "      <th></th>\n",
       "      <th>rental_date</th>\n",
       "      <th>comments</th>\n",
       "      <th>sentiment</th>\n",
       "      <th>label</th>\n",
       "    </tr>\n",
       "  </thead>\n",
       "  <tbody>\n",
       "    <tr>\n",
       "      <th>0</th>\n",
       "      <td>2023-12-02 00:00:00</td>\n",
       "      <td>best support ever witnessed answer fast kind s...</td>\n",
       "      <td>positive</td>\n",
       "      <td>1</td>\n",
       "    </tr>\n",
       "    <tr>\n",
       "      <th>1</th>\n",
       "      <td>2023-12-04 00:00:00</td>\n",
       "      <td>everything ok</td>\n",
       "      <td>positive</td>\n",
       "      <td>1</td>\n",
       "    </tr>\n",
       "    <tr>\n",
       "      <th>2</th>\n",
       "      <td>2023-12-09 00:00:00</td>\n",
       "      <td>great accommodation games owner responded quickly</td>\n",
       "      <td>positive</td>\n",
       "      <td>1</td>\n",
       "    </tr>\n",
       "    <tr>\n",
       "      <th>3</th>\n",
       "      <td>2023-12-11 00:00:00</td>\n",
       "      <td>thanks nigel tra friendly stay ho chi minh cit...</td>\n",
       "      <td>positive</td>\n",
       "      <td>1</td>\n",
       "    </tr>\n",
       "    <tr>\n",
       "      <th>4</th>\n",
       "      <td>2023-12-10 00:00:00</td>\n",
       "      <td>nigel others dedicated responded quickly stay ...</td>\n",
       "      <td>positive</td>\n",
       "      <td>1</td>\n",
       "    </tr>\n",
       "    <tr>\n",
       "      <th>...</th>\n",
       "      <td>...</td>\n",
       "      <td>...</td>\n",
       "      <td>...</td>\n",
       "      <td>...</td>\n",
       "    </tr>\n",
       "    <tr>\n",
       "      <th>101562</th>\n",
       "      <td>1/2020</td>\n",
       "      <td>seriously need train staff make drinks embarra...</td>\n",
       "      <td>negative</td>\n",
       "      <td>2</td>\n",
       "    </tr>\n",
       "    <tr>\n",
       "      <th>101563</th>\n",
       "      <td>1/2020</td>\n",
       "      <td>need scooter driver get around</td>\n",
       "      <td>negative</td>\n",
       "      <td>2</td>\n",
       "    </tr>\n",
       "    <tr>\n",
       "      <th>101564</th>\n",
       "      <td>12/2019</td>\n",
       "      <td>would expect bit facilities pay million vnd ni...</td>\n",
       "      <td>negative</td>\n",
       "      <td>2</td>\n",
       "    </tr>\n",
       "    <tr>\n",
       "      <th>101565</th>\n",
       "      <td>12/2019</td>\n",
       "      <td>would expect bit facilities pay million vnd ni...</td>\n",
       "      <td>negative</td>\n",
       "      <td>2</td>\n",
       "    </tr>\n",
       "    <tr>\n",
       "      <th>101566</th>\n",
       "      <td>12/2019</td>\n",
       "      <td>would need time get hot water shower water wou...</td>\n",
       "      <td>positive</td>\n",
       "      <td>1</td>\n",
       "    </tr>\n",
       "  </tbody>\n",
       "</table>\n",
       "<p>101567 rows × 4 columns</p>\n",
       "</div>"
      ],
      "text/plain": [
       "                rental_date  \\\n",
       "0       2023-12-02 00:00:00   \n",
       "1       2023-12-04 00:00:00   \n",
       "2       2023-12-09 00:00:00   \n",
       "3       2023-12-11 00:00:00   \n",
       "4       2023-12-10 00:00:00   \n",
       "...                     ...   \n",
       "101562               1/2020   \n",
       "101563               1/2020   \n",
       "101564              12/2019   \n",
       "101565              12/2019   \n",
       "101566              12/2019   \n",
       "\n",
       "                                                 comments sentiment  label  \n",
       "0       best support ever witnessed answer fast kind s...  positive      1  \n",
       "1                                          everything ok   positive      1  \n",
       "2       great accommodation games owner responded quickly  positive      1  \n",
       "3       thanks nigel tra friendly stay ho chi minh cit...  positive      1  \n",
       "4       nigel others dedicated responded quickly stay ...  positive      1  \n",
       "...                                                   ...       ...    ...  \n",
       "101562  seriously need train staff make drinks embarra...  negative      2  \n",
       "101563                     need scooter driver get around  negative      2  \n",
       "101564  would expect bit facilities pay million vnd ni...  negative      2  \n",
       "101565  would expect bit facilities pay million vnd ni...  negative      2  \n",
       "101566  would need time get hot water shower water wou...  positive      1  \n",
       "\n",
       "[101567 rows x 4 columns]"
      ]
     },
     "execution_count": 206,
     "metadata": {},
     "output_type": "execute_result"
    }
   ],
   "source": [
    "#Remove the columns\n",
    "df = df.drop(['Unnamed: 0','reviewer_name','reviewer_country'], axis = 1)\n",
    "df"
   ]
  },
  {
   "cell_type": "markdown",
   "metadata": {},
   "source": [
    "# 4. Initating the LDA analysis"
   ]
  },
  {
   "cell_type": "code",
   "execution_count": 207,
   "metadata": {},
   "outputs": [
    {
     "name": "stdout",
     "output_type": "stream",
     "text": [
      "['best', 'support', 'ever', 'witnessed', 'answer', 'fast', 'kind', 'support', 'accommodation', 'close', 'city', 'center', 'minutes', 'walk', 'although', 'place', 'quiet', 'perfect', 'place', 'rest', 'sightseeing', 'party', 'air', 'conditioning', 'projector', 'works', 'well', 'owner', 'provides', 'netflix']\n"
     ]
    }
   ],
   "source": [
    "stop_words = stopwords.words('english')\n",
    "stop_words.extend(['from', 'subject', 're', 'us', 'could','would','use','model','one','two','set', 'also', 'bit', 'hoi', \n",
    "                   'even', 'without', 'nan', 'ks', 'lot'])\n",
    "\"\"\"\n",
    "    Functions for converting sentence to words\n",
    "\"\"\"  \n",
    "def sent_to_words(sentences):\n",
    "    for sentence in sentences:\n",
    "        yield(gensim.utils.simple_preprocess(str(sentence), deacc=True))\n",
    "\"\"\"\n",
    "    Functions removing the stopwords \n",
    "\"\"\"        \n",
    "def remove_stopwords(texts):\n",
    "    return [[word for word in simple_preprocess(str(doc)) \n",
    "             if word not in stop_words] for doc in texts]\n",
    "\n",
    "data = df.comments.values.tolist()#creating the array of token \n",
    "data_words = list(sent_to_words(data))#converting them into list\n",
    "\n",
    "data_words = remove_stopwords(data_words)# remove stop words\n",
    "print(data_words[:1][0][:30])"
   ]
  },
  {
   "cell_type": "code",
   "execution_count": 208,
   "metadata": {},
   "outputs": [
    {
     "name": "stdout",
     "output_type": "stream",
     "text": [
      "[(0, 1), (1, 1), (2, 1), (3, 1), (4, 1), (5, 1), (6, 1), (7, 1), (8, 1), (9, 1), (10, 1), (11, 1), (12, 1), (13, 1), (14, 1), (15, 1), (16, 1), (17, 1), (18, 1), (19, 1), (20, 2), (21, 1), (22, 1), (23, 1), (24, 1), (25, 1), (26, 1), (27, 1), (28, 2), (29, 1)]\n"
     ]
    }
   ],
   "source": [
    "# Create Dictionary \n",
    "id2word = corpora.Dictionary(data_words)\n",
    "\n",
    "# Create Corpus\n",
    "texts = data_words\n",
    "\n",
    "# Term Document Frequency\n",
    "corpus = [id2word.doc2bow(text) for text in texts]\n",
    "\n",
    "# Printing the corpus in a numeric form which implies the frequency of the word\n",
    "print(corpus[:1][0][:30])"
   ]
  },
  {
   "cell_type": "code",
   "execution_count": 209,
   "metadata": {},
   "outputs": [
    {
     "data": {
      "text/plain": [
       "<gensim.corpora.dictionary.Dictionary at 0x138ef1d0110>"
      ]
     },
     "execution_count": 209,
     "metadata": {},
     "output_type": "execute_result"
    }
   ],
   "source": [
    "#Showing the code\n",
    "id2word"
   ]
  },
  {
   "cell_type": "markdown",
   "metadata": {},
   "source": [
    "# 5. LDA model training"
   ]
  },
  {
   "cell_type": "code",
   "execution_count": 210,
   "metadata": {},
   "outputs": [
    {
     "name": "stdout",
     "output_type": "stream",
     "text": [
      "[(0,\n",
      "  '0.017*\"pool\" + 0.016*\"sea\" + 0.015*\"like\" + 0.012*\"room\" + 0.012*\"near\" + '\n",
      "  '0.011*\"beautiful\" + 0.011*\"many\" + 0.010*\"swimming\" + 0.010*\"clean\" + '\n",
      "  '0.009*\"air\"'),\n",
      " (1,\n",
      "  '0.075*\"staff\" + 0.056*\"clean\" + 0.054*\"enthusiastic\" + 0.040*\"room\" + '\n",
      "  '0.039*\"friendly\" + 0.023*\"hotel\" + 0.020*\"service\" + 0.020*\"good\" + '\n",
      "  '0.019*\"cute\" + 0.018*\"breakfast\"'),\n",
      " (2,\n",
      "  '0.035*\"room\" + 0.021*\"hotel\" + 0.010*\"clean\" + 0.010*\"convenient\" + '\n",
      "  '0.008*\"water\" + 0.008*\"price\" + 0.007*\"time\" + 0.007*\"night\" + '\n",
      "  '0.007*\"breakfast\" + 0.007*\"quite\"'),\n",
      " (3,\n",
      "  '0.058*\"room\" + 0.053*\"clean\" + 0.033*\"comfortable\" + 0.032*\"location\" + '\n",
      "  '0.031*\"good\" + 0.031*\"beautiful\" + 0.028*\"near\" + 0.018*\"view\" + '\n",
      "  '0.018*\"nice\" + 0.017*\"quiet\"')]\n"
     ]
    }
   ],
   "source": [
    "from pprint import pprint\n",
    "# number of topics\n",
    "num_topics = 4\n",
    "\n",
    "# Build LDA model\n",
    "lda_model = gensim.models.LdaMulticore(corpus=corpus,\n",
    "                                       id2word=id2word,\n",
    "                                       num_topics=num_topics)\n",
    "\n",
    "# Print the Keyword in the 10 topics\n",
    "pprint(lda_model.print_topics())\n",
    "doc_lda = lda_model[corpus]"
   ]
  },
  {
   "cell_type": "markdown",
   "metadata": {},
   "source": [
    "# 6. Analysing the LDA model"
   ]
  },
  {
   "cell_type": "code",
   "execution_count": 211,
   "metadata": {},
   "outputs": [
    {
     "data": {
      "text/html": [
       "\n",
       "<link rel=\"stylesheet\" type=\"text/css\" href=\"https://cdn.jsdelivr.net/gh/bmabey/pyLDAvis@3.4.0/pyLDAvis/js/ldavis.v1.0.0.css\">\n",
       "\n",
       "\n",
       "<div id=\"ldavis_el1891613438530575682097329572\" style=\"background-color:white;\"></div>\n",
       "<script type=\"text/javascript\">\n",
       "\n",
       "var ldavis_el1891613438530575682097329572_data = {\"mdsDat\": {\"x\": [0.10253485854098181, -0.09222234851840778, -0.10132751139912925, 0.09101500137655516], \"y\": [-0.06109259735700648, -0.08017032254494608, 0.07271621466396848, 0.06854670523798401], \"topics\": [1, 2, 3, 4], \"cluster\": [1, 1, 1, 1], \"Freq\": [32.026591436277, 30.008322969786548, 20.154153776229453, 17.810931817706997]}, \"tinfo\": {\"Term\": [\"staff\", \"enthusiastic\", \"clean\", \"comfortable\", \"friendly\", \"good\", \"beautiful\", \"location\", \"room\", \"service\", \"near\", \"space\", \"pool\", \"quiet\", \"nice\", \"view\", \"cute\", \"everything\", \"sea\", \"bed\", \"spacious\", \"air\", \"happy\", \"swimming\", \"large\", \"like\", \"breakfast\", \"great\", \"center\", \"many\", \"fridge\", \"annoying\", \"rude\", \"drain\", \"leaking\", \"fix\", \"smoke\", \"minibar\", \"mostly\", \"leaked\", \"dirt\", \"stained\", \"started\", \"bill\", \"literally\", \"impossible\", \"mentioned\", \"issue\", \"ago\", \"tau\", \"spoke\", \"standards\", \"function\", \"barking\", \"wet\", \"correct\", \"bottles\", \"solution\", \"treated\", \"torn\", \"told\", \"thin\", \"smoking\", \"knew\", \"paid\", \"con\", \"got\", \"properly\", \"otherwise\", \"wanted\", \"weak\", \"someone\", \"limited\", \"worked\", \"business\", \"card\", \"lift\", \"fault\", \"nothing\", \"asked\", \"door\", \"com\", \"hot\", \"water\", \"since\", \"night\", \"get\", \"booking\", \"old\", \"booked\", \"towels\", \"shower\", \"problem\", \"another\", \"said\", \"smell\", \"wifi\", \"day\", \"go\", \"car\", \"dirty\", \"little\", \"hotel\", \"far\", \"small\", \"hard\", \"room\", \"convenient\", \"time\", \"stay\", \"first\", \"price\", \"travel\", \"quite\", \"right\", \"next\", \"center\", \"area\", \"breakfast\", \"check\", \"bathroom\", \"people\", \"clean\", \"location\", \"owner\", \"near\", \"new\", \"really\", \"good\", \"like\", \"dislike\", \"sapa\", \"trained\", \"arranging\", \"suggestion\", \"training\", \"boiled\", \"salad\", \"fi\", \"dropped\", \"talks\", \"wi\", \"specially\", \"statue\", \"gold\", \"planet\", \"dung\", \"leg\", \"trc\", \"counselor\", \"somewhat\", \"reservations\", \"stronger\", \"oki\", \"idea\", \"duyen\", \"evaluated\", \"pointed\", \"asleep\", \"excited\", \"staff\", \"cheerful\", \"talked\", \"moisture\", \"happy\", \"enthusiastic\", \"attitude\", \"service\", \"attentive\", \"dedicated\", \"pleased\", \"cute\", \"polite\", \"worker\", \"friendly\", \"employee\", \"diverse\", \"opportunity\", \"professional\", \"thoughtful\", \"support\", \"come\", \"extremely\", \"owner\", \"breakfast\", \"clean\", \"back\", \"ok\", \"delicious\", \"receptionist\", \"welcoming\", \"fun\", \"hotel\", \"good\", \"room\", \"definitely\", \"beautiful\", \"cool\", \"price\", \"nice\", \"time\", \"location\", \"sea\", \"comfortable\", \"convenient\", \"near\", \"view\", \"new\", \"tasty\", \"world\", \"tuy\", \"isolated\", \"insulation\", \"jacuzzi\", \"beside\", \"reduce\", \"spoon\", \"corridors\", \"rai\", \"animals\", \"catering\", \"greatly\", \"spending\", \"passengers\", \"feature\", \"major\", \"updated\", \"bt\", \"sing\", \"dull\", \"veiw\", \"koi\", \"equivalent\", \"vew\", \"burning\", \"warmer\", \"royal\", \"windy\", \"install\", \"sounds\", \"tasted\", \"police\", \"master\", \"compare\", \"tot\", \"events\", \"quynh\", \"everything\", \"space\", \"sheets\", \"hanoi\", \"noises\", \"pedestrian\", \"comfortable\", \"quiet\", \"bed\", \"large\", \"smooth\", \"central\", \"spacious\", \"location\", \"nice\", \"beautiful\", \"view\", \"facilities\", \"near\", \"fine\", \"good\", \"great\", \"airy\", \"center\", \"clean\", \"room\", \"rooms\", \"design\", \"decor\", \"easy\", \"elevator\", \"place\", \"quite\", \"fully\", \"street\", \"price\", \"sea\", \"food\", \"ok\", \"friendly\", \"convenient\", \"beach\", \"hotel\", \"property\", \"bikes\", \"twice\", \"smelled\", \"simply\", \"odd\", \"separated\", \"outlets\", \"lighthouse\", \"attached\", \"restroom\", \"plenty\", \"allow\", \"shape\", \"ly\", \"disturbing\", \"micro\", \"cooling\", \"visible\", \"nicely\", \"considering\", \"cleared\", \"appear\", \"sach\", \"pump\", \"flights\", \"community\", \"comfy\", \"pv\", \"tobacco\", \"vung\", \"rat\", \"flies\", \"update\", \"bbq\", \"rubbish\", \"serious\", \"seem\", \"green\", \"se\", \"air\", \"trees\", \"beauty\", \"pools\", \"conditioning\", \"conditioner\", \"pool\", \"swimming\", \"village\", \"resort\", \"nha\", \"scene\", \"lots\", \"massage\", \"kitchen\", \"average\", \"vietnam\", \"host\", \"eat\", \"many\", \"anything\", \"like\", \"fresh\", \"sea\", \"full\", \"around\", \"drink\", \"equipped\", \"fully\", \"children\", \"beach\", \"amenities\", \"see\", \"bad\", \"near\", \"beautiful\", \"guests\", \"place\", \"view\", \"family\", \"friendly\", \"room\", \"breakfast\", \"clean\", \"really\", \"enthusiastic\", \"cool\", \"food\", \"hotel\", \"convenient\", \"quiet\", \"staff\"], \"Freq\": [22556.0, 17170.0, 29243.0, 9273.0, 14189.0, 12898.0, 11828.0, 11057.0, 33322.0, 6422.0, 10658.0, 4113.0, 4096.0, 4442.0, 6176.0, 6489.0, 6403.0, 3365.0, 6594.0, 3234.0, 3637.0, 1854.0, 2863.0, 2325.0, 2853.0, 5320.0, 8239.0, 4722.0, 5580.0, 3478.0, 159.88997786400196, 272.85147626730674, 94.20966888154027, 112.87200520716296, 67.8101916524853, 129.39036590868943, 90.30118657954704, 55.27163417657024, 61.12908641147933, 46.28990664358241, 46.673140146006475, 53.02453405352463, 89.82469532475628, 39.97838261804452, 49.93403484072771, 57.849830586898754, 72.5769088371562, 325.52568415994494, 52.30728746718858, 235.17113069415987, 66.01057010063786, 47.83823462455272, 35.70692910733257, 41.68177925894, 173.71698723331022, 49.509168787856886, 202.96761428156034, 30.49290961831016, 31.612214586609486, 29.221861977608764, 465.05314802579494, 154.03316774403424, 74.07843377351134, 70.9354615991987, 248.01245585700343, 137.77527068624036, 574.054585090313, 156.67532383871847, 132.61156698827705, 247.78591099076183, 294.16828218590103, 186.27418702667333, 264.92697209954525, 91.4272799198572, 283.3956583099749, 308.62209646189535, 174.18787152364564, 200.40454324540622, 791.0012682742247, 627.3176585493107, 978.4622347984118, 278.30116033347, 1190.4423561618487, 2373.4126096083514, 224.77711121751844, 2078.2003576453603, 1073.1395564114323, 1117.2305089620825, 1455.244984591572, 668.7500370075603, 452.7748695331064, 1204.6267003976127, 514.4153522318428, 497.79399293625744, 492.1292465298629, 628.871492770824, 636.4684259882356, 1298.0782119970754, 1793.0979662148925, 854.0757908880275, 760.4450578738189, 1306.6463251775701, 6173.273505858444, 776.7541394664161, 1785.4050766836287, 683.3780365026819, 10160.145132744425, 2817.4627067025885, 2105.694628258956, 1138.5923720441442, 801.3588424819065, 2322.6523239239536, 952.7305655020374, 1947.603881641641, 1069.501475845859, 1385.0050971502305, 1853.092754484033, 1068.7026009222054, 2057.4443824708487, 1113.9071570480319, 1118.941338188345, 957.8682236749934, 2922.3576634343694, 1919.9014482758114, 1481.277952684486, 1774.0692046897227, 1222.8507450122113, 1097.380310356888, 1224.818084468646, 1119.914264032576, 93.50309640501196, 138.6037254028631, 58.37865092708157, 45.42126508890977, 69.20667619673232, 62.90068233243152, 31.141625999266672, 30.375798543948726, 80.94171804249642, 48.175173547864794, 30.21947773389932, 86.70969148266919, 37.77871207773588, 43.52808549447531, 26.980321010324797, 31.26649389442569, 25.141541568993254, 23.295640638774234, 22.409668042661632, 19.228776973888746, 47.91593719589456, 20.527561950550282, 35.33726435070252, 35.48876213141979, 83.4583995218187, 14.4506531317345, 21.266313198394606, 20.47058414092294, 33.99901036025654, 22.55510803562012, 20258.002058639413, 141.0265416476497, 59.999456182592134, 33.53896060518478, 2551.7542183080127, 14716.683580720979, 990.2484485844413, 5526.659174206706, 615.3615079513758, 923.3168029917617, 111.3035390424084, 5113.802767048393, 1284.2949842836229, 171.2881584621223, 10506.781614528578, 748.0338942959869, 539.1497640709216, 1252.8906575305584, 792.6229872582562, 1509.5914291393162, 1406.6378063248383, 2529.2541199400057, 2276.702514150562, 3771.121986754691, 4928.807830556616, 15056.568627616136, 2403.683623642113, 2256.456376846321, 2761.9096621009226, 2287.22510973309, 337.00225560997984, 634.5947343811873, 6288.015309726534, 5419.624210774643, 10675.404881176662, 736.4120648550105, 3847.868404627996, 1304.163364156342, 2092.1920433854207, 2089.914928634979, 1723.278690997027, 2816.3097522862067, 2112.547405689849, 2466.5370744985494, 1998.022727959251, 1932.3556008307173, 1730.787909759881, 1415.4452673998221, 131.34957986965273, 92.7643573028949, 46.89688590896041, 60.0864733070757, 64.16756879137685, 99.07341410230974, 57.85110123006501, 37.82657552926775, 36.49049650331186, 55.619764664165736, 31.444213987439152, 31.6585767458609, 27.360857771782392, 31.36239980994625, 39.00690706748681, 23.22384351996696, 23.23706457273116, 58.20220654300521, 38.75507585609548, 23.13657295114149, 37.61068889001401, 27.34452821340423, 19.418835890907076, 23.96443111702526, 20.195645369439813, 19.048041615050955, 34.07263375432737, 25.134533902276733, 19.765196573145932, 24.791309456585516, 26.6355116240853, 89.30632571869752, 46.6246790639143, 38.93906928057085, 158.5638941826402, 43.36084852882947, 70.51882414873546, 42.237951715832764, 38.95261782245666, 2515.6171108541257, 2984.304329299149, 283.64595555049607, 475.17830637522457, 110.37469394316052, 283.1379248453978, 5970.600468564237, 3021.5236581246777, 2187.2297816647515, 1940.4797858426118, 398.40839100159855, 1067.5679695962626, 2267.631023188731, 5741.417918871598, 3276.991879187247, 5664.193702137147, 3336.576813468748, 1536.811370211425, 5092.803190730096, 590.6250250638408, 5707.816098268323, 2374.101074899145, 1362.1435470912472, 2520.343771910435, 9696.629880846842, 10600.445767954325, 2348.649380987799, 613.1627418994643, 361.58027434224107, 715.7418002785869, 454.42551089400746, 1218.9654721516183, 1457.5584957027713, 784.0291558093579, 637.154468178359, 1509.5106938478204, 1536.5265603172795, 968.2294900245909, 949.1756235929455, 1472.7252564159237, 1101.8728565228002, 887.621697942365, 1023.108046446992, 372.9179144681889, 131.2974138836192, 125.30617870419645, 134.27743114611891, 50.31186748292194, 51.53298286201713, 49.82746845387289, 52.72108641764107, 34.864182611117386, 32.416842769104996, 28.064311799377357, 44.772780386795574, 59.14593787334934, 31.94968952368356, 64.14935305170943, 34.74712180751158, 29.910455548557593, 24.254354328440066, 26.10338287780487, 36.15497898496188, 74.020807858021, 24.294867565983473, 22.432528324504947, 191.24785624339046, 29.65315984665948, 23.360383692604987, 21.717945113738917, 43.25256070895269, 19.1494424969845, 19.55792530175912, 300.75373226681484, 60.9123691785948, 55.480841250514885, 41.724377488852745, 103.77382473631184, 61.198687930893435, 49.999179416314895, 178.90894034717724, 350.90104477221865, 64.81144736979695, 1450.848430344469, 441.8054491278913, 68.83934729351267, 178.80047559460684, 309.1940227640879, 567.0968210583248, 2745.432929604132, 1606.3493551202657, 189.34123671946733, 868.260549716419, 119.7591560735818, 138.99481698579112, 290.17682244837954, 145.2919530158527, 515.1265762421191, 157.56098952895442, 349.05200922091166, 593.9883495516021, 713.4450310582595, 1717.3896274204983, 355.5081360184267, 2345.2407511463343, 483.15783676770224, 2645.384698271224, 1373.2704958122688, 860.9058590089886, 390.3618623958654, 800.4687536588584, 880.0105182506808, 460.47949826048057, 1258.9024524564143, 660.465685004678, 570.9428852111839, 578.5534922378998, 1859.1314930480592, 1801.3936644220792, 798.7262970036904, 878.7153643348099, 1146.2127092933706, 638.0797102598506, 1386.3222654395258, 1886.3711767791444, 1089.8751944191156, 1567.5373094526892, 706.2478560424601, 1179.391160317027, 684.9862998550072, 677.6520734906337, 787.2570036563177, 687.3494833537715, 645.3319298772299, 648.0549571893074], \"Total\": [22556.0, 17170.0, 29243.0, 9273.0, 14189.0, 12898.0, 11828.0, 11057.0, 33322.0, 6422.0, 10658.0, 4113.0, 4096.0, 4442.0, 6176.0, 6489.0, 6403.0, 3365.0, 6594.0, 3234.0, 3637.0, 1854.0, 2863.0, 2325.0, 2853.0, 5320.0, 8239.0, 4722.0, 5580.0, 3478.0, 160.95620743347368, 275.1987363945168, 95.27249970136424, 114.2137897305727, 68.7618318658271, 131.48732487144702, 91.93368001247849, 56.30604693927887, 62.29649590987865, 47.18565092390322, 47.59461855761683, 54.11571355861934, 91.79653915409575, 40.857283526600185, 51.062869514793626, 59.173905162298105, 74.29695849497291, 333.3403289219666, 53.58508384498578, 241.09082427575717, 67.6829449476884, 49.062622416651244, 36.64727985054138, 42.78000210975104, 178.3558163999876, 50.89255768027976, 208.75224035307568, 31.371455600140372, 32.540383014479104, 30.12319894983004, 488.2733475164502, 160.31892779995388, 76.58226480300249, 73.30861702492246, 260.4651689629689, 143.39976149993018, 615.4831830006366, 163.64393525233146, 138.1819927857935, 262.6123166189115, 314.90682918358226, 196.90892051299937, 283.7535976225259, 94.99312963452898, 305.19848334990456, 333.72677469467874, 184.72908898722383, 213.982626187324, 896.744151096137, 705.7645360949533, 1128.4213931755996, 302.39477535712905, 1402.88593821106, 2944.608008018142, 242.23638043365602, 2604.7494342887608, 1281.455718951358, 1346.5053304112612, 1794.609194969954, 785.4268819125269, 518.079819186713, 1503.2772876567954, 596.6700402451081, 576.0893476895183, 571.6531032694439, 774.2043639336213, 794.3077799662065, 1845.430079244409, 2767.8294610294533, 1172.6820087865021, 1018.6996050745895, 2023.5493631051288, 14271.653865688288, 1082.9833687264747, 3172.8169704494035, 927.79936551932, 33322.36695865456, 6604.707774538411, 4412.888239276163, 1927.7856821967732, 1172.9536417882005, 6093.49845807571, 1563.90737465348, 4893.070856786825, 1942.0213572323642, 3096.370027660328, 5580.1092433188305, 2012.2072668331232, 8239.548778743363, 2351.578128104909, 2379.369223656028, 1728.608099146105, 29243.093481350035, 11057.914089281321, 5963.926423333609, 10658.359489298593, 3692.3996815420205, 2605.992084383994, 12898.394275100747, 5320.65525779754, 94.62733021651061, 140.275752952625, 59.488872232942114, 46.35307632175955, 70.91575051871752, 64.73451943688721, 32.06196356412406, 31.30087638422999, 83.50076527826708, 49.72399001037078, 31.267807143000642, 89.752613326347, 39.10541057167115, 45.085669558663305, 27.987907768215496, 32.45887456506109, 26.121998513768272, 24.25825672039499, 23.349699146347955, 20.039880333431928, 49.994068488991914, 21.437440001936622, 36.95725667804671, 37.14332171660146, 87.52120327561333, 15.216611624679098, 22.408578633493768, 21.59112286156447, 35.89980623533557, 23.8270133656232, 22556.102637386306, 149.8885289898142, 63.56538525165054, 35.4754946702112, 2863.6713880073194, 17170.475456127624, 1105.2193611589648, 6422.262669513032, 694.19081120274, 1065.7112889535283, 120.60677558951363, 6403.432882965591, 1530.1654466633547, 188.34760649751163, 14189.478046375134, 887.7566793043698, 637.4732566957716, 1555.623745843336, 972.2324560845934, 1954.5183613640752, 1814.4354628129438, 3484.3029642977945, 3422.5242500266063, 5963.926423333609, 8239.548778743363, 29243.093481350035, 3810.686448332511, 3705.7207094689675, 4681.618568764178, 3813.075572889851, 437.66483231364487, 925.6137561907622, 14271.653865688288, 12898.394275100747, 33322.36695865456, 1204.4689119512827, 11828.805707027319, 2701.557896354625, 6093.49845807571, 6176.068982799869, 4412.888239276163, 11057.914089281321, 6594.841947603932, 9273.978276623067, 6604.707774538411, 10658.359489298593, 6489.570219019065, 3692.3996815420205, 132.29164500741587, 93.78874873038959, 47.79548457782384, 61.33860799389805, 65.54821996478732, 101.36440855263446, 59.22286134332588, 38.73102147411786, 37.39361394020125, 57.041314815844984, 32.26101032796226, 32.49013388088541, 28.137545110762005, 32.26680194453389, 40.17436106429403, 24.056215083346054, 24.095599991747918, 60.35663333633103, 40.1985336184047, 24.006092455411224, 39.03285949555075, 28.397005987834028, 20.169875671089056, 24.895034222304687, 20.98434601249913, 19.794739599840252, 35.41142286667196, 26.156637734085066, 20.575276834428863, 25.819336343028642, 27.775828446328163, 94.88163010358137, 49.11173800458567, 40.89180764516396, 172.12002173681338, 45.74927433545815, 75.61870488975202, 44.93994159494702, 41.47837595069696, 3365.7974406880776, 4113.036657411851, 338.135281410154, 586.1561807282114, 124.31881664581499, 340.7281109239215, 9273.978276623067, 4442.313309564688, 3234.774467173148, 2853.386972926697, 524.4188104142706, 1564.1665061499166, 3637.5516807639433, 11057.914089281321, 6176.068982799869, 11828.805707027319, 6489.570219019065, 2667.376630967591, 10658.359489298593, 894.7209604736202, 12898.394275100747, 4722.579608647151, 2519.1730479030766, 5580.1092433188305, 29243.093481350035, 33322.36695865456, 5216.647089199293, 1046.2216967499626, 533.2284073277975, 1376.4579028253252, 763.5117721078693, 3356.155609199067, 4893.070856786825, 1819.9869707768207, 1322.1381633278786, 6093.49845807571, 6594.841947603932, 3668.537804779762, 3705.7207094689675, 14189.478046375134, 6604.707774538411, 3118.51119360721, 14271.653865688288, 376.1810991648132, 132.45314837095677, 127.54044390763096, 136.72514770186888, 51.266776503109185, 52.53824471038215, 50.84781574331569, 53.91017022373545, 35.753640759689745, 33.249959438691135, 28.891622436829373, 46.141647321029154, 61.082374345417236, 33.0433793057455, 66.3598044281214, 35.95523135752923, 30.95411980773434, 25.13422221952454, 27.118341742359902, 37.58552149121146, 76.95244797059348, 25.26557514422593, 23.345079229353466, 199.05803747854927, 30.866009439328522, 24.321670029941867, 22.61313400013831, 45.0709583484576, 19.958345470951024, 20.409891381029148, 316.6452369793838, 63.595349891500376, 58.216891877846116, 43.67104987032137, 111.15654166529514, 65.0231892613143, 52.973944156684595, 198.08255628334553, 405.556494641547, 69.71206066875796, 1854.8912044177466, 525.9549703338994, 74.46685861170599, 206.6197787828064, 373.01975804658116, 732.1815618310911, 4096.11489212429, 2325.2455115848425, 225.34199374858065, 1215.0322759780715, 137.1717825875867, 162.74355069802144, 373.932566584004, 174.57378476029263, 754.1735660577449, 191.88086533087434, 492.081290256936, 922.4035648250184, 1189.2110118816295, 3478.946512949914, 523.5542836745743, 5320.65525779754, 764.4354847538325, 6594.841947603932, 2924.5042134107553, 1620.657882711189, 605.1075755373328, 1536.9243648997335, 1819.9869707768207, 751.462438736759, 3118.51119360721, 1324.788735474779, 1132.4348335083587, 1172.1767055803084, 10658.359489298593, 11828.805707027319, 2683.3136381799436, 3356.155609199067, 6489.570219019065, 1947.3581617618959, 14189.478046375134, 33322.36695865456, 8239.548778743363, 29243.093481350035, 2605.992084383994, 17170.475456127624, 2701.557896354625, 3668.537804779762, 14271.653865688288, 6604.707774538411, 4442.313309564688, 22556.102637386306], \"Category\": [\"Default\", \"Default\", \"Default\", \"Default\", \"Default\", \"Default\", \"Default\", \"Default\", \"Default\", \"Default\", \"Default\", \"Default\", \"Default\", \"Default\", \"Default\", \"Default\", \"Default\", \"Default\", \"Default\", \"Default\", \"Default\", \"Default\", \"Default\", \"Default\", \"Default\", \"Default\", \"Default\", \"Default\", \"Default\", \"Default\", \"Topic1\", \"Topic1\", \"Topic1\", \"Topic1\", \"Topic1\", \"Topic1\", \"Topic1\", \"Topic1\", \"Topic1\", \"Topic1\", \"Topic1\", \"Topic1\", \"Topic1\", \"Topic1\", \"Topic1\", \"Topic1\", \"Topic1\", \"Topic1\", \"Topic1\", \"Topic1\", \"Topic1\", \"Topic1\", \"Topic1\", \"Topic1\", \"Topic1\", \"Topic1\", \"Topic1\", \"Topic1\", \"Topic1\", \"Topic1\", \"Topic1\", \"Topic1\", \"Topic1\", \"Topic1\", \"Topic1\", \"Topic1\", \"Topic1\", \"Topic1\", \"Topic1\", \"Topic1\", \"Topic1\", \"Topic1\", \"Topic1\", \"Topic1\", \"Topic1\", \"Topic1\", \"Topic1\", \"Topic1\", \"Topic1\", \"Topic1\", \"Topic1\", \"Topic1\", \"Topic1\", \"Topic1\", \"Topic1\", \"Topic1\", \"Topic1\", \"Topic1\", \"Topic1\", \"Topic1\", \"Topic1\", \"Topic1\", \"Topic1\", \"Topic1\", \"Topic1\", \"Topic1\", \"Topic1\", \"Topic1\", \"Topic1\", \"Topic1\", \"Topic1\", \"Topic1\", \"Topic1\", \"Topic1\", \"Topic1\", \"Topic1\", \"Topic1\", \"Topic1\", \"Topic1\", \"Topic1\", \"Topic1\", \"Topic1\", \"Topic1\", \"Topic1\", \"Topic1\", \"Topic1\", \"Topic1\", \"Topic1\", \"Topic1\", \"Topic1\", \"Topic1\", \"Topic1\", \"Topic1\", \"Topic1\", \"Topic1\", \"Topic1\", \"Topic1\", \"Topic1\", \"Topic1\", \"Topic1\", \"Topic2\", \"Topic2\", \"Topic2\", \"Topic2\", \"Topic2\", \"Topic2\", \"Topic2\", \"Topic2\", \"Topic2\", \"Topic2\", \"Topic2\", \"Topic2\", \"Topic2\", \"Topic2\", \"Topic2\", \"Topic2\", \"Topic2\", \"Topic2\", \"Topic2\", \"Topic2\", \"Topic2\", \"Topic2\", \"Topic2\", \"Topic2\", \"Topic2\", \"Topic2\", \"Topic2\", \"Topic2\", \"Topic2\", \"Topic2\", \"Topic2\", \"Topic2\", \"Topic2\", \"Topic2\", \"Topic2\", \"Topic2\", \"Topic2\", \"Topic2\", \"Topic2\", \"Topic2\", \"Topic2\", \"Topic2\", \"Topic2\", \"Topic2\", \"Topic2\", \"Topic2\", \"Topic2\", \"Topic2\", \"Topic2\", \"Topic2\", \"Topic2\", \"Topic2\", \"Topic2\", \"Topic2\", \"Topic2\", \"Topic2\", \"Topic2\", \"Topic2\", \"Topic2\", \"Topic2\", \"Topic2\", \"Topic2\", \"Topic2\", \"Topic2\", \"Topic2\", \"Topic2\", \"Topic2\", \"Topic2\", \"Topic2\", \"Topic2\", \"Topic2\", \"Topic2\", \"Topic2\", \"Topic2\", \"Topic2\", \"Topic2\", \"Topic2\", \"Topic2\", \"Topic3\", \"Topic3\", \"Topic3\", \"Topic3\", \"Topic3\", \"Topic3\", \"Topic3\", \"Topic3\", \"Topic3\", \"Topic3\", \"Topic3\", \"Topic3\", \"Topic3\", \"Topic3\", \"Topic3\", \"Topic3\", \"Topic3\", \"Topic3\", \"Topic3\", \"Topic3\", \"Topic3\", \"Topic3\", \"Topic3\", \"Topic3\", \"Topic3\", \"Topic3\", \"Topic3\", \"Topic3\", \"Topic3\", \"Topic3\", \"Topic3\", \"Topic3\", \"Topic3\", \"Topic3\", \"Topic3\", \"Topic3\", \"Topic3\", \"Topic3\", \"Topic3\", \"Topic3\", \"Topic3\", \"Topic3\", \"Topic3\", \"Topic3\", \"Topic3\", \"Topic3\", \"Topic3\", \"Topic3\", \"Topic3\", \"Topic3\", \"Topic3\", \"Topic3\", \"Topic3\", \"Topic3\", \"Topic3\", \"Topic3\", \"Topic3\", \"Topic3\", \"Topic3\", \"Topic3\", \"Topic3\", \"Topic3\", \"Topic3\", \"Topic3\", \"Topic3\", \"Topic3\", \"Topic3\", \"Topic3\", \"Topic3\", \"Topic3\", \"Topic3\", \"Topic3\", \"Topic3\", \"Topic3\", \"Topic3\", \"Topic3\", \"Topic3\", \"Topic3\", \"Topic3\", \"Topic3\", \"Topic3\", \"Topic3\", \"Topic4\", \"Topic4\", \"Topic4\", \"Topic4\", \"Topic4\", \"Topic4\", \"Topic4\", \"Topic4\", \"Topic4\", \"Topic4\", \"Topic4\", \"Topic4\", \"Topic4\", \"Topic4\", \"Topic4\", \"Topic4\", \"Topic4\", \"Topic4\", \"Topic4\", \"Topic4\", \"Topic4\", \"Topic4\", \"Topic4\", \"Topic4\", \"Topic4\", \"Topic4\", \"Topic4\", \"Topic4\", \"Topic4\", \"Topic4\", \"Topic4\", \"Topic4\", \"Topic4\", \"Topic4\", \"Topic4\", \"Topic4\", \"Topic4\", \"Topic4\", \"Topic4\", \"Topic4\", \"Topic4\", \"Topic4\", \"Topic4\", \"Topic4\", \"Topic4\", \"Topic4\", \"Topic4\", \"Topic4\", \"Topic4\", \"Topic4\", \"Topic4\", \"Topic4\", \"Topic4\", \"Topic4\", \"Topic4\", \"Topic4\", \"Topic4\", \"Topic4\", \"Topic4\", \"Topic4\", \"Topic4\", \"Topic4\", \"Topic4\", \"Topic4\", \"Topic4\", \"Topic4\", \"Topic4\", \"Topic4\", \"Topic4\", \"Topic4\", \"Topic4\", \"Topic4\", \"Topic4\", \"Topic4\", \"Topic4\", \"Topic4\", \"Topic4\", \"Topic4\", \"Topic4\", \"Topic4\", \"Topic4\", \"Topic4\", \"Topic4\", \"Topic4\", \"Topic4\", \"Topic4\", \"Topic4\", \"Topic4\", \"Topic4\", \"Topic4\", \"Topic4\", \"Topic4\"], \"logprob\": [30.0, 29.0, 28.0, 27.0, 26.0, 25.0, 24.0, 23.0, 22.0, 21.0, 20.0, 19.0, 18.0, 17.0, 16.0, 15.0, 14.0, 13.0, 12.0, 11.0, 10.0, 9.0, 8.0, 7.0, 6.0, 5.0, 4.0, 3.0, 2.0, 1.0, -7.4976, -6.9632, -8.0266, -7.8459, -8.3554, -7.7093, -8.069, -8.5599, -8.4591, -8.7372, -8.7289, -8.6014, -8.0743, -8.8838, -8.6614, -8.5143, -8.2875, -6.7867, -8.615, -7.1118, -8.3823, -8.7043, -8.9968, -8.8421, -7.4147, -8.67, -7.2591, -9.1546, -9.1186, -9.1972, -6.43, -7.5349, -8.267, -8.3103, -7.0586, -7.6465, -6.2194, -7.5179, -7.6847, -7.0596, -6.888, -7.3449, -6.9927, -8.0566, -6.9253, -6.84, -7.412, -7.2718, -5.8988, -6.1307, -5.6861, -6.9434, -5.49, -4.8, -7.157, -4.9329, -5.5938, -5.5535, -5.2892, -6.0667, -6.4567, -5.4782, -6.3291, -6.3619, -6.3734, -6.1282, -6.1162, -5.4035, -5.0804, -5.8221, -5.9382, -5.3969, -3.8441, -5.917, -5.0847, -6.0451, -3.3459, -4.6285, -4.9197, -5.5346, -5.8858, -4.8217, -5.7128, -4.9978, -5.5972, -5.3387, -5.0475, -5.5979, -4.9429, -5.5565, -5.552, -5.7074, -4.592, -5.0121, -5.2715, -5.0911, -5.4632, -5.5714, -5.4616, -5.5511, -7.969, -7.5754, -8.4401, -8.691, -8.2699, -8.3655, -9.0685, -9.0934, -8.1133, -8.6322, -9.0985, -8.0445, -8.8753, -8.7336, -9.2119, -9.0645, -9.2825, -9.3588, -9.3975, -9.5506, -8.6376, -9.4853, -8.9421, -8.9378, -8.0827, -9.8363, -9.4499, -9.488, -8.9807, -9.3911, -2.5907, -7.5581, -8.4127, -8.9943, -4.6625, -2.9103, -5.6091, -3.8897, -6.0848, -5.6791, -7.7948, -3.9673, -5.3491, -7.3637, -3.2472, -5.8896, -6.217, -5.3738, -5.8317, -5.1874, -5.2581, -4.6713, -4.7765, -4.2719, -4.0042, -2.8875, -4.7223, -4.7855, -4.5833, -4.7719, -6.6869, -6.054, -3.7606, -3.9092, -3.2313, -5.9052, -4.2518, -5.3337, -4.8611, -4.8621, -5.055, -4.5638, -4.8514, -4.6965, -4.9071, -4.9405, -5.0507, -5.2518, -7.2311, -7.5789, -8.261, -8.0132, -7.9475, -7.5131, -8.0511, -8.4759, -8.5119, -8.0904, -8.6607, -8.654, -8.7998, -8.6634, -8.4452, -8.9638, -8.9632, -8.045, -8.4517, -8.9675, -8.4817, -8.8004, -9.1427, -8.9324, -9.1035, -9.162, -8.5805, -8.8847, -9.125, -8.8985, -8.8267, -7.6169, -8.2668, -8.447, -7.0428, -8.3394, -7.8531, -8.3656, -8.4466, -4.2787, -4.1078, -6.4612, -5.9453, -7.4051, -6.463, -3.4144, -4.0954, -4.4186, -4.5383, -6.1215, -5.1358, -4.3825, -3.4535, -4.0143, -3.467, -3.9963, -4.7715, -3.5734, -5.7278, -3.4594, -4.3366, -4.8921, -4.2768, -2.9294, -2.8403, -4.3474, -5.6903, -6.2185, -5.5356, -5.9899, -5.0032, -4.8244, -5.4445, -5.6519, -4.7894, -4.7717, -5.2335, -5.2534, -4.8141, -5.1042, -5.3204, -5.1784, -6.064, -7.1079, -7.1546, -7.0855, -8.0671, -8.0431, -8.0768, -8.0203, -8.4339, -8.5067, -8.6509, -8.1838, -7.9054, -8.5212, -7.8241, -8.4373, -8.5872, -8.7968, -8.7233, -8.3975, -7.681, -8.7951, -8.8749, -6.7318, -8.5958, -8.8343, -8.9072, -8.2183, -9.0331, -9.012, -6.2791, -7.8759, -7.9693, -8.2543, -7.3431, -7.8712, -8.0734, -6.7985, -6.1249, -7.8139, -4.7055, -5.8945, -7.7536, -6.7991, -6.2514, -5.6448, -4.0677, -4.6036, -6.7418, -5.2189, -7.1999, -7.0509, -6.3149, -7.0066, -5.741, -6.9256, -6.1301, -5.5985, -5.4153, -4.5368, -6.1118, -4.2252, -5.805, -4.1048, -4.7604, -5.2274, -6.0183, -5.3002, -5.2054, -5.8531, -4.8474, -5.4924, -5.6381, -5.6248, -4.4575, -4.489, -5.3023, -5.2069, -4.9411, -5.5269, -4.751, -4.443, -4.9915, -4.6281, -5.4254, -4.9126, -5.456, -5.4667, -5.3168, -5.4525, -5.5156, -5.5114], \"loglift\": [30.0, 29.0, 28.0, 27.0, 26.0, 25.0, 24.0, 23.0, 22.0, 21.0, 20.0, 19.0, 18.0, 17.0, 16.0, 15.0, 14.0, 13.0, 12.0, 11.0, 10.0, 9.0, 8.0, 7.0, 6.0, 5.0, 4.0, 3.0, 2.0, 1.0, 1.132, 1.13, 1.1274, 1.1268, 1.1247, 1.1225, 1.1207, 1.1201, 1.1197, 1.1194, 1.1191, 1.1182, 1.1169, 1.1169, 1.1162, 1.116, 1.1152, 1.1149, 1.1145, 1.1137, 1.1136, 1.1133, 1.1126, 1.1126, 1.1123, 1.111, 1.1105, 1.1102, 1.1097, 1.1082, 1.0899, 1.0986, 1.1054, 1.1057, 1.0896, 1.0986, 1.0689, 1.0951, 1.0975, 1.0805, 1.0705, 1.0831, 1.07, 1.1003, 1.0645, 1.0604, 1.0798, 1.073, 1.0131, 1.0208, 0.996, 1.0556, 0.9744, 0.923, 1.0638, 0.9128, 0.9612, 0.9519, 0.929, 0.9778, 1.0039, 0.9171, 0.9903, 0.9925, 0.9888, 0.9307, 0.9171, 0.7868, 0.7045, 0.8216, 0.8462, 0.7012, 0.3006, 0.8063, 0.5636, 0.8328, -0.0492, 0.2867, 0.3987, 0.612, 0.7576, 0.1741, 0.643, 0.2174, 0.5421, 0.3341, 0.0363, 0.5058, -0.2489, 0.3914, 0.3842, 0.5482, -1.1646, -0.6123, -0.2542, -0.6545, 0.0335, 0.2737, -1.2157, -0.4197, 1.1917, 1.1917, 1.1849, 1.1834, 1.1793, 1.175, 1.1746, 1.1737, 1.1726, 1.1721, 1.1696, 1.1692, 1.1692, 1.1685, 1.167, 1.1663, 1.1654, 1.1632, 1.1626, 1.1624, 1.1612, 1.1603, 1.1589, 1.1581, 1.1562, 1.152, 1.1514, 1.1504, 1.1493, 1.1488, 1.0962, 1.1428, 1.146, 1.1476, 1.0884, 1.0495, 1.0939, 1.0535, 1.0832, 1.0603, 1.1234, 0.9788, 1.0285, 1.1088, 0.9032, 1.0324, 1.0362, 0.9873, 0.9994, 0.9454, 0.9491, 0.8834, 0.796, 0.7453, 0.6898, 0.5399, 0.7429, 0.7076, 0.676, 0.6926, 0.9423, 0.8262, 0.3841, 0.3366, 0.0654, 0.7117, 0.0807, 0.4754, 0.1347, 0.1201, 0.2634, -0.164, 0.0653, -0.1207, 0.0081, -0.5039, -0.1179, 0.2449, 1.5946, 1.5908, 1.5828, 1.5811, 1.5805, 1.5789, 1.5783, 1.5781, 1.5773, 1.5765, 1.5761, 1.5758, 1.5738, 1.5733, 1.5723, 1.5665, 1.5655, 1.5654, 1.5652, 1.5649, 1.5646, 1.564, 1.5638, 1.5637, 1.5635, 1.5633, 1.5632, 1.5619, 1.5616, 1.5611, 1.5598, 1.5412, 1.5498, 1.5528, 1.5197, 1.5481, 1.5319, 1.5398, 1.5389, 1.3106, 1.281, 1.426, 1.3919, 1.4828, 1.4166, 1.1614, 1.2163, 1.2104, 1.2162, 1.3269, 1.2198, 1.1292, 0.9463, 0.968, 0.8654, 0.9365, 1.0504, 0.8632, 1.1864, 0.7865, 0.914, 0.9869, 0.8069, 0.4979, 0.4564, 0.8037, 1.0674, 1.2133, 0.9478, 1.0829, 0.589, 0.3907, 0.7596, 0.8718, 0.2063, 0.145, 0.2697, 0.2397, -0.6636, -0.189, 0.3452, -1.0337, 1.7166, 1.7166, 1.7077, 1.7073, 1.7066, 1.706, 1.7051, 1.7031, 1.7002, 1.7, 1.6963, 1.6952, 1.6931, 1.6917, 1.6915, 1.6912, 1.6911, 1.6897, 1.6872, 1.6866, 1.6865, 1.6862, 1.6855, 1.6853, 1.6853, 1.685, 1.685, 1.6842, 1.684, 1.6827, 1.6739, 1.6823, 1.6772, 1.6798, 1.6566, 1.6647, 1.6676, 1.6236, 1.5806, 1.6525, 1.4797, 1.551, 1.6468, 1.5807, 1.5377, 1.4699, 1.3253, 1.3555, 1.5513, 1.3893, 1.5896, 1.5676, 1.4718, 1.5418, 1.3441, 1.5283, 1.3819, 1.2852, 1.2144, 1.0194, 1.3383, 0.9061, 1.2666, 0.8119, 0.9694, 1.0928, 1.287, 1.073, 0.9987, 1.2356, 0.8182, 1.0293, 1.0405, 1.0193, -0.0209, -0.1566, 0.5136, 0.3853, -0.0084, 0.6096, -0.6005, -1.1462, -0.2975, -1.2008, 0.4198, -0.9528, 0.3532, 0.0364, -1.1721, -0.5373, -0.2038, -1.8244]}, \"token.table\": {\"Topic\": [1, 2, 1, 2, 3, 4, 1, 2, 3, 4, 2, 4, 1, 2, 3, 4, 3, 1, 2, 3, 1, 2, 3, 4, 1, 2, 3, 4, 4, 1, 2, 3, 4, 1, 2, 3, 4, 2, 1, 2, 3, 4, 1, 2, 4, 4, 1, 2, 3, 4, 1, 2, 3, 4, 1, 2, 3, 4, 1, 2, 3, 4, 1, 2, 3, 4, 1, 1, 2, 3, 4, 1, 2, 3, 4, 1, 2, 3, 4, 1, 2, 3, 4, 1, 2, 3, 4, 1, 2, 3, 4, 1, 3, 4, 1, 2, 1, 2, 3, 4, 1, 2, 3, 4, 1, 2, 3, 4, 1, 2, 3, 4, 3, 3, 1, 2, 3, 4, 1, 2, 3, 4, 1, 2, 3, 4, 3, 1, 2, 3, 4, 1, 2, 3, 4, 1, 2, 3, 4, 1, 2, 3, 4, 1, 2, 3, 4, 1, 2, 3, 4, 4, 1, 2, 3, 4, 1, 2, 3, 4, 1, 2, 3, 4, 1, 3, 4, 4, 1, 2, 3, 4, 1, 2, 3, 4, 1, 2, 3, 4, 1, 2, 3, 4, 2, 4, 1, 2, 3, 4, 1, 2, 3, 4, 4, 1, 2, 2, 3, 2, 1, 2, 3, 4, 1, 2, 3, 4, 1, 2, 3, 4, 1, 2, 3, 4, 1, 2, 3, 4, 1, 2, 3, 4, 1, 2, 3, 4, 1, 1, 2, 3, 4, 2, 4, 1, 2, 3, 4, 1, 2, 3, 4, 1, 2, 1, 2, 3, 4, 1, 2, 2, 3, 2, 2, 1, 2, 3, 4, 1, 2, 3, 4, 1, 2, 3, 4, 1, 2, 3, 4, 1, 2, 3, 4, 1, 2, 3, 4, 3, 2, 3, 1, 3, 4, 1, 2, 3, 4, 2, 4, 1, 2, 3, 4, 1, 2, 3, 4, 1, 2, 3, 4, 1, 2, 3, 4, 1, 2, 3, 4, 3, 1, 2, 1, 2, 3, 4, 1, 2, 3, 4, 1, 2, 3, 1, 2, 4, 4, 1, 2, 3, 4, 1, 2, 3, 4, 1, 1, 2, 3, 4, 1, 2, 3, 4, 1, 2, 3, 4, 1, 2, 3, 4, 1, 1, 2, 3, 4, 1, 2, 3, 4, 2, 1, 2, 3, 4, 1, 2, 3, 4, 1, 2, 3, 4, 3, 1, 2, 3, 4, 1, 2, 3, 4, 1, 2, 3, 4, 1, 2, 3, 4, 1, 2, 3, 4, 1, 2, 3, 4, 1, 2, 3, 4, 1, 2, 3, 4, 1, 2, 3, 4, 1, 2, 3, 1, 3, 1, 3, 1, 2, 1, 3, 4, 1, 2, 3, 4, 1, 2, 3, 1, 2, 3, 4, 1, 1, 2, 1, 2, 4, 4, 1, 2, 3, 4, 1, 2, 3, 4, 1, 1, 2, 3, 4, 1, 2, 3, 4, 1, 2, 3, 4, 2, 4, 1, 3, 4, 1, 2, 3, 4, 1, 2, 3, 4, 1, 2, 3, 4, 1, 3, 4, 1, 1, 2, 3, 1, 2, 1, 2, 3, 4, 1, 2, 3, 4, 1, 2, 3, 4, 1, 2, 3, 4, 1, 2, 3, 4, 3, 4, 1, 2, 3, 4, 1, 3, 4, 1, 2, 3, 4, 4, 1, 2, 3, 4, 1, 2, 1, 2, 3, 4, 1, 2, 3, 4, 1, 2, 1, 4, 1, 2, 3, 4, 1, 2, 3, 4, 3, 1, 2, 3, 4, 1, 2, 3, 4, 1, 2, 3, 4, 2, 3, 1, 2, 3, 4, 3, 4, 2, 1, 2, 3, 1, 2, 3, 4, 1, 2, 3, 4, 1, 2, 3, 4, 1, 2, 3, 4, 1, 2, 3, 4, 1, 2, 3, 4, 1, 2, 3, 1, 3, 4, 2, 4, 4, 1, 2, 3, 4, 1, 2, 3, 4, 2, 3, 4, 3, 1, 3, 4, 1, 2, 3, 4, 1, 2, 3, 4, 3, 2, 1, 2, 3, 4, 4, 1, 2, 3, 4, 1, 2, 3, 4, 1, 2, 3, 4, 3, 1, 2, 3, 4, 1, 1, 2, 3, 4, 1, 2, 3, 4, 2, 1, 2, 1, 2, 3, 4, 2, 3, 4, 1, 2, 3, 4, 1, 2, 3, 4, 1, 2, 3, 4, 4, 1, 4, 1, 2, 3, 4, 2, 4, 1, 2, 3, 4, 1, 2, 3, 4, 4, 1, 2, 3, 4, 2, 3, 1, 2, 3, 4, 1, 2, 3, 4, 1, 2, 4, 1, 2, 4, 1, 3, 4, 1, 2, 3, 4, 1, 1, 2, 3, 4, 1, 2, 4, 1, 3, 4, 1, 2, 3, 4, 1, 2, 3, 4, 2, 1, 3, 1, 2, 3, 1, 2, 3, 4, 1, 1, 2, 1, 2, 3, 4, 2, 3, 4, 1, 2, 3, 4, 1, 2, 3, 4, 1, 2, 4, 1, 2, 4, 1, 2, 3, 4, 1, 2, 3, 4, 1, 2, 3, 4, 2, 4, 1, 3, 4, 3, 1, 2, 3, 4, 1, 2, 4, 1, 2, 3, 4, 1, 2, 3, 4, 4, 1, 2, 3, 4, 1, 2, 3, 4, 1, 2, 3, 4, 2, 2, 4, 1, 2, 3, 4, 2, 1, 1, 2, 3, 4, 3, 2, 3, 4, 2, 4, 1, 3, 3, 3, 1, 2, 3, 4, 1, 2, 3, 4, 1, 2, 3, 4, 4, 1, 2, 3, 4, 1, 2, 3, 4, 3, 1, 2, 3, 4, 1, 2, 3, 4, 1, 2, 3, 4, 1, 2, 3, 4, 1, 2, 1, 2, 3, 4, 3, 1, 2, 4, 1, 2, 3, 4, 3], \"Freq\": [0.970419308299093, 0.018661909774982555, 0.13154410318991835, 0.07008497301102207, 0.016173455310235865, 0.7822561218384079, 0.036122965064169406, 0.32867928651793704, 0.5406536089824037, 0.09447544709090461, 0.016371334787103377, 0.9659087524390992, 0.09284499234205758, 0.29740591042903, 0.11096108840880052, 0.4981926418354309, 0.9849143779252395, 0.9920103688580723, 0.0036337376148647335, 0.0036337376148647335, 0.864449242113735, 0.10241466924640635, 0.02603762777451009, 0.006943367406536023, 0.2903232859316622, 0.024830281033629, 0.0057300648539143845, 0.6799676959978403, 0.9423827515795191, 0.5312573995831089, 0.07802377150098044, 0.20325937926051596, 0.18735644494184478, 0.38811399167586785, 0.036404969012521785, 0.044426402862738454, 0.5312657342335807, 0.9708093522775666, 0.8883982800683593, 0.05667612632015051, 0.014169031580037628, 0.039673288424105356, 0.0278553035480096, 0.9470803206323264, 0.0278553035480096, 0.9624071890675263, 0.028810522520959954, 0.8859235675195186, 0.05185894053772792, 0.03169157477305595, 0.051573472202141084, 0.8957497803529767, 0.009952775337255297, 0.042525494622818086, 0.010423134149156833, 0.0885966402678331, 0.07296193904409784, 0.8234275977833899, 0.21544674722824678, 0.630857466914379, 0.11730170037883837, 0.03673878759068763, 0.45726894029568943, 0.03753700256158645, 0.011943591724141143, 0.4939528291626944, 0.9817671325085501, 0.4702927098807291, 0.030680400197759805, 0.2551096290416466, 0.2437620837630231, 0.017992643258209897, 0.035985286516419794, 0.008996321629104949, 0.9356174494269146, 0.1741215491267508, 0.13756564378522299, 0.2847512626603217, 0.4037182879384516, 0.04353778502710938, 0.3253075665714891, 0.47883109590980105, 0.1522554385122796, 0.026857585203488167, 0.04028637780523225, 0.013428792601744084, 0.9265866895203417, 0.2661700247536649, 0.04698936557788277, 0.6760904113080896, 0.010819919705433534, 0.01688537124545224, 0.9793515322362301, 0.9890289631554322, 0.9790176083037423, 0.9668777752179735, 0.8517661101323326, 0.04456175464070499, 0.06111326350725256, 0.04201536866123614, 0.8295548296558443, 0.11214214796600938, 0.01485326463125952, 0.04307446743065261, 0.9724446533203833, 0.014371103251040147, 0.0047903677503467156, 0.009580735500693431, 0.24964959310717486, 0.5982123696768424, 0.01978263669249854, 0.13228879751425404, 0.958090119944346, 0.960142158873815, 0.9272654205019283, 0.04587178758666783, 0.009829668768571678, 0.013106225024762237, 0.7282451624577442, 0.1628745035473409, 0.05628124206347906, 0.05201751160412458, 0.9259071295154521, 0.020975242416207653, 0.020975242416207653, 0.03296109522546917, 0.9595719844682925, 0.33207235184842154, 0.1498178554480736, 0.45160406187696833, 0.06630694559304694, 0.14064998779542606, 0.14512521467982598, 0.6827917589341592, 0.03196590631714229, 0.4737244264547361, 0.32446295995059576, 0.1365040762046412, 0.0650626905274458, 0.006671624618238503, 0.940699071171629, 0.013343249236477006, 0.04002974770943102, 0.19961077529324886, 0.1224279421798593, 0.06520618659579462, 0.6121397108992965, 0.09992102928041877, 0.5148908069388314, 0.33159966493231374, 0.053619498258623076, 0.9499091100439422, 0.9193280527802812, 0.06613870883311375, 0.0033069354416556877, 0.009920806324967063, 0.14924075355335745, 0.7258266648777711, 0.10016350575023414, 0.024682124626132194, 0.06696155430570241, 0.2660131311951173, 0.6438445100794672, 0.0232909754106791, 0.022187236230228096, 0.022187236230228096, 0.9540511578998082, 0.9728859343364542, 0.021858270202658625, 0.021858270202658625, 0.939905618714321, 0.021858270202658625, 0.9623446967871505, 0.027894049182236244, 0.006973512295559061, 0.006973512295559061, 0.15023596022399727, 0.05599703971985352, 0.019120940392145108, 0.7743980858818768, 0.1152753951296873, 0.04557399342336475, 0.01072329257020347, 0.8283743510482181, 0.025990076375013795, 0.9616328258755105, 0.42651394977075635, 0.30251149153069623, 0.16685068251592955, 0.104016714054849, 0.06625806548197079, 0.48268445468430116, 0.19729356928430408, 0.25355740142541894, 0.9548733909639956, 0.9824619213306779, 0.01964923842661356, 0.01753115269569872, 0.9817445509591282, 0.9481094539423408, 0.05809383916392631, 0.7986341222696751, 0.06246649372465195, 0.08089410937342427, 0.7033590785143439, 0.15985433602598723, 0.017882010470703657, 0.11867152403285154, 0.04125811696764252, 0.25505017761815374, 0.6788835610130269, 0.02625516534304524, 0.07131387345500295, 0.8660882263022068, 0.027211872765724808, 0.03471859628730407, 0.21752325643303705, 0.6110576974607453, 0.13034790557246878, 0.039851588964831215, 0.11128629817818114, 0.5899669012824114, 0.17664830824060615, 0.12217996652191865, 0.15101961705709163, 0.11469844333449998, 0.5859178813670707, 0.14815215597372913, 0.9875066010478264, 0.7460491750601519, 0.021596160330688608, 0.07558656115741012, 0.15608134057179493, 0.9933705176392987, 0.9734327573078125, 0.07529727638897261, 0.8455256661178383, 0.04706079774310788, 0.03137386516207192, 0.8666974996350572, 0.03190297544668922, 0.03367536297150529, 0.06735072594301059, 0.9893726516435888, 0.008755510191536184, 0.22310082613016474, 0.059493553634710594, 0.07271434333131295, 0.6445134977093648, 0.02011101683093881, 0.9653288078850629, 0.0352149800731959, 0.9508044619762893, 0.9570477537093154, 0.920047139620365, 0.35889219640209324, 0.04286364289012855, 0.5201757340564752, 0.07846226156159124, 0.298517249212401, 0.07820311035705153, 0.023545022473090788, 0.5995571794040618, 0.3536291251339793, 0.020955800007939514, 0.5946208252252837, 0.03012396251141305, 0.04618382599174232, 0.8425732156542257, 0.09349408676377104, 0.018022956484582367, 0.048222310565343825, 0.857110802645127, 0.026033058964624024, 0.06866437700065263, 0.03123120505876777, 0.04489485727197867, 0.40340306534241704, 0.5205200843127962, 0.9530914133843955, 0.9371410986599397, 0.04462576660285427, 0.022251920329875073, 0.934580653854753, 0.022251920329875073, 0.10428435049503285, 0.12597311854670634, 0.7475197317535688, 0.02228298087500702, 0.9652909345819907, 0.0419691710687822, 0.19517757982132838, 0.6652984270256956, 0.08210314360747496, 0.05755985512694864, 0.06298323155776392, 0.19569789805448076, 0.5762215887159712, 0.16495608265128647, 0.2829474365935212, 0.21516329570360324, 0.17408199819456202, 0.3276233476346035, 0.7174625413811356, 0.09049077098500809, 0.15420366076016684, 0.03785838377944216, 0.9346553202170564, 0.056079319213023386, 0.004673276601085282, 0.004673276601085282, 0.9545311180413383, 0.023951876289217005, 0.9700509897132887, 0.13747302838964454, 0.16429703392908737, 0.6605411364087798, 0.036883007616733895, 0.6828914387263023, 0.11765170854460638, 0.05200546537116659, 0.147490909987079, 0.9810831585943449, 0.007605295803056937, 0.007605295803056937, 0.017177145116201928, 0.017177145116201928, 0.9447429813911059, 0.9456587467754152, 0.19953453908700963, 0.35163873691563174, 0.26386534677079965, 0.18481477800682042, 0.0327038716786553, 0.26555543803068105, 0.06933220795874924, 0.6318388008316205, 0.9940592074781031, 0.05807119876481294, 0.7404782590071475, 0.10380931526768138, 0.0976780115146004, 0.133013998822837, 0.3200542490955666, 0.07727805587136545, 0.4694812863335609, 0.030219996562131694, 0.05549490277773275, 0.4307723146311136, 0.4835199449941071, 0.09183096019424557, 0.6860312908628934, 0.045375297978333104, 0.17717973496301498, 0.9823375744889885, 0.8373289721458798, 0.035896675413523274, 0.02185015025170982, 0.1053489387136009, 0.6478000271494763, 0.17486626499740462, 0.0610586751747136, 0.11633664737430638, 0.9647023358660123, 0.09497306206283043, 0.4202073439841151, 0.4425357046976621, 0.04233085051943299, 0.9326006231423001, 0.03249479523143903, 0.02274635666200732, 0.01137317833100366, 0.08999318915065303, 0.2809904988303919, 0.5026913671615301, 0.12620221349126873, 0.9607397737553446, 0.022191729435758863, 0.07643817916761386, 0.03698621572626477, 0.8654774479945957, 0.3924252405746486, 0.29143071047424046, 0.01826100359749077, 0.29776616070194134, 0.0784773777235478, 0.09553767722866689, 0.8103642264931566, 0.017060299505119086, 0.05307871588777822, 0.8911637035895396, 0.013968083128362688, 0.04190424938508806, 0.7361505357547883, 0.04526840776237351, 0.08622553859499715, 0.13257176558980813, 0.07588869196670887, 0.0748045677957559, 0.20489946831011396, 0.6439697575460724, 0.8482514277087067, 0.019246040796752167, 0.009266612235473266, 0.12260440803856935, 0.43253571436741756, 0.44059364521988037, 0.07168055010495192, 0.055144274616419506, 0.022851605384146663, 0.9483416234420864, 0.011425802692073331, 0.011425802692073331, 0.9801617763931855, 0.0168993409722963, 0.9720682157931918, 0.01525594441065223, 0.9763804422817427, 0.016302945774372312, 0.9781767464623388, 0.9779794753736956, 0.02099955928716524, 0.00986539569735407, 0.9766741740380529, 0.00986539569735407, 0.13259547205124833, 0.13259547205124833, 0.05171223409998685, 0.6828666810639289, 0.9685082447519423, 0.027281922387378657, 0.9640476805811024, 0.10198406411785203, 0.1513990230203164, 0.6798937607856802, 0.06658753327282435, 0.97487263817097, 0.9889207159676368, 0.9481307855342664, 0.9419198727929315, 0.010826665204516455, 0.04330666081806582, 0.9789212862333329, 0.21050038871783974, 0.251848679358844, 0.0967925894550781, 0.44073518887797697, 0.9339088639592384, 0.003524184392299013, 0.05286276588448519, 0.007048368784598026, 0.9791850805704192, 0.645894794478556, 0.046947211534401546, 0.08895261132833977, 0.21842807892847876, 0.17363130012568087, 0.25465924018433195, 0.5191756739695489, 0.052451121912966095, 0.13103966965924094, 0.061508416370664114, 0.03209134767165084, 0.7755409020648953, 0.030138726556470336, 0.9644392498070508, 0.016568187202019777, 0.9609548577171471, 0.016568187202019777, 0.23829052758188668, 0.139697462490708, 0.12848717229083637, 0.49354021213280996, 0.08592355387492177, 0.06873884309993741, 0.011456473849989568, 0.8305943541242438, 0.05809899335994088, 0.011619798671988176, 0.92377399442306, 0.005809899335994088, 0.982543585615814, 0.01345950117281937, 0.969176322452046, 0.9768044995116185, 0.02818847233269733, 0.9584080593117092, 0.02818847233269733, 0.9791883011886539, 0.01605226723260088, 0.16644212477362627, 0.18126616970836865, 0.4778408914724231, 0.17441708565624084, 0.3312209147112835, 0.3832196192285087, 0.19987002048808442, 0.08558120118459983, 0.4472979610406998, 0.4143561617438396, 0.07266573374307397, 0.06556063977708453, 0.007290129071272232, 0.11664206514035572, 0.007290129071272232, 0.8748154885526679, 0.09002490120308566, 0.33840295596123926, 0.5305964051124311, 0.04096456835320265, 0.02660598976214359, 0.9578156314371693, 0.797773472045079, 0.06833670742253323, 0.04069489318420518, 0.09290720896771372, 0.07239451148928686, 0.8848218070912839, 0.03217533843968305, 0.8820799098975104, 0.06133298994230477, 0.011151452716782686, 0.04572095613880901, 0.9897551828510976, 0.11684636645540651, 0.6087884589454898, 0.25609053525676856, 0.018080153700952048, 0.026922740180048116, 0.9422959063016841, 0.8107614761353991, 0.036219584844536724, 0.11924601779585937, 0.03399068731564216, 0.07135401493876309, 0.8054646911555869, 0.07649664664606133, 0.04692651432909645, 0.9624987838044389, 0.036184164804678155, 0.0185493756716005, 0.9831169105948265, 0.24832633652314193, 0.6323015631524431, 0.06941735538189113, 0.04996708189324531, 0.9521426645543493, 0.030714279501753202, 0.0076785698754383005, 0.01151785481315745, 0.9560938792870511, 0.08217695899547278, 0.06456761063930004, 0.8305742641328142, 0.02347913114156365, 0.5542031189563622, 0.13652602930449007, 0.13189802831111752, 0.17759953812067142, 0.2565435278507465, 0.1185880651389049, 0.3632131944832288, 0.2619068071786367, 0.9550546781239474, 0.03080821542335314, 0.01658281626570484, 0.9203463027466185, 0.04974844879711452, 0.00829140813285242, 0.02167239485496756, 0.9752577684735403, 0.9263066181519946, 0.024454776092987525, 0.024454776092987525, 0.9537362676265134, 0.021566295378031883, 0.8391249474361496, 0.07384822356720008, 0.06535241023646025, 0.0939915041788134, 0.11645181167089348, 0.1193814169959474, 0.6701472181060851, 0.029038846306708378, 0.03387865402449311, 0.07259711576677094, 0.8663255814834666, 0.38122599291402615, 0.3433167357624377, 0.24780510086103294, 0.027734478175837463, 0.8614476433052549, 0.056982918039647217, 0.01843564995400351, 0.06201082257255726, 0.0339424998553316, 0.8156485571296351, 0.11211310558276195, 0.038056742262038465, 0.9594000520576164, 0.018332485071164643, 0.024443313428219524, 0.005316588218919942, 0.002658294109459971, 0.9915437028285691, 0.032398098042626486, 0.9719429412787945, 0.9519827195923692, 0.04772288337779902, 0.1269608784201823, 0.6802761960740973, 0.1451946215975489, 0.39811399773581246, 0.2550545529642166, 0.29797238639569534, 0.04904895249311858, 0.024108947784952924, 0.940248963613164, 0.024108947784952924, 0.9609122493330818, 0.01572442012986946, 0.03144884025973892, 0.959189627922037, 0.4209529286652878, 0.21987787431650854, 0.08787440352265351, 0.27091409994320254, 0.16653223568783, 0.5997783039654601, 0.10883602804795188, 0.12483361289355444, 0.9811256856572614, 0.9795945783686343, 0.0847714106335879, 0.14320607233246888, 0.056788614890461796, 0.7143843148539252, 0.9691390665657882, 0.5509723134687307, 0.12821692154552705, 0.1972171925780597, 0.12358257498364053, 0.30490030953101976, 0.3203553941184681, 0.31810465364456786, 0.056598620450344805, 0.19878668851244255, 0.2656878980503813, 0.4502892298126592, 0.0853038345111253, 0.9720403842408456, 0.015379128759452474, 0.030758257518904947, 0.015379128759452474, 0.9381268543266009, 0.9866435781012051, 0.0050236604995553685, 0.02511830249777684, 0.015070981498666104, 0.9595191554150753, 0.8606618195302613, 0.06647388037022343, 0.02449037697850337, 0.047231441315685074, 0.9584396178477163, 0.007128815771445031, 0.9909053922308594, 0.04301245714485387, 0.0737356408197495, 0.03072318367489562, 0.8541045061620982, 0.057378880521209916, 0.014344720130302479, 0.9324068084696612, 0.04549009701574386, 0.3204019166475559, 0.23306093037732767, 0.4010710220221417, 0.3178990873008524, 0.12980879398118142, 0.047684863095127865, 0.5042232745799632, 0.020193600461608712, 0.015145200346206535, 0.05553240126942396, 0.9036636206569899, 0.9833264078127654, 0.0377544098676977, 0.9438602466924426, 0.04655680020989731, 0.8606001162545233, 0.033010172724074346, 0.059947719333814264, 0.03026324852392208, 0.9684239527655065, 0.10055147116919282, 0.056190528006313634, 0.839900523883846, 0.005914792421717225, 0.8015819901584961, 0.016630331746026888, 0.012639052126980436, 0.16962938380947426, 0.9752904982619229, 0.9288447903539545, 0.012384597204719393, 0.008256398136479597, 0.04953838881887757, 0.025619439951971423, 0.973538718174914, 0.5625915445564355, 0.09518355543755938, 0.20202867230289923, 0.13993873713336544, 0.8124469833832262, 0.03358286417800299, 0.02712462106684857, 0.12787321360085754, 0.007313943461085258, 0.007313943461085258, 0.9800684237854246, 0.9789665766429014, 0.01087740640714335, 0.01087740640714335, 0.9662811643185923, 0.01305785357187287, 0.01305785357187287, 0.07627491464007849, 0.09343677043409615, 0.7589354006687811, 0.07055429604207261, 0.9562833290995195, 0.944599155362902, 0.02031396033038499, 0.01523547024778874, 0.02031396033038499, 0.020002372885899213, 0.9601138985231621, 0.020002372885899213, 0.04215779172041246, 0.9380108657791771, 0.02107889586020623, 0.025042324826935355, 0.09773800563522343, 0.7254980318793699, 0.15146959579787114, 0.05855586908259861, 0.24109623091755392, 0.6234962961471063, 0.07669994119269959, 0.9717325414690331, 0.024891497300968277, 0.9707683947377629, 0.975134874095843, 0.014774770819633985, 0.9627312315298041, 0.04655059505978862, 0.8981161473535217, 0.026600340034164924, 0.02872836723689812, 0.9793828172031627, 0.9783415079685874, 0.02038211474934557, 0.9804291188899839, 0.010893656876555375, 0.010893656876555375, 0.010893656876555375, 0.9759198528204026, 0.02217999665500915, 0.02217999665500915, 0.5908333122912673, 0.19763607724580584, 0.12034532787671118, 0.09129645563060848, 0.3569974856575925, 0.05143184115405993, 0.4817953355167085, 0.10891448714977398, 0.027058285432587814, 0.9470399901405735, 0.027058285432587814, 0.014101239748369578, 0.9729855426375009, 0.014101239748369578, 0.16699409056426565, 0.7754478066796098, 0.015431797147852932, 0.04243744215659556, 0.07268049724556305, 0.09461366505339569, 0.14149043546621448, 0.6906797548897886, 0.015731832601046557, 0.9439099560627935, 0.015731832601046557, 0.031463665202093115, 0.9594532761059184, 0.03198177587019728, 0.02036173103681706, 0.9570013587304019, 0.04072346207363412, 0.9902363825973782, 0.9747363911751757, 0.004147814430532663, 0.004147814430532663, 0.016591257722130652, 0.9605852665891164, 0.031187833330815467, 0.006237566666163093, 0.062419469886614495, 0.772568848596622, 0.12381566977508777, 0.04144243492471946, 0.4772384628407092, 0.39044723241906076, 0.0720616482352068, 0.06027798248605349, 0.9799170229092871, 0.952335412868985, 0.020480331459548064, 0.006144099437864419, 0.020480331459548064, 0.9627131583302052, 0.013224241296620271, 0.9389211320600394, 0.052896965186481085, 0.874382639939776, 0.06176654410170603, 0.04053429456674459, 0.023162454038139765, 0.974972256540482, 0.9732056489802434, 0.015447708713972119, 0.6093711273732942, 0.30116873136707406, 0.04092313971866824, 0.048596228415918534, 0.9421962939270223, 0.983393464845246, 0.022815641408202438, 0.058940406971189636, 0.07795344147802499, 0.8403761252021231, 0.9833564909980443, 0.007840650144860977, 0.007840650144860977, 0.9800812681076221, 0.022898464840424987, 0.9617355232978494, 0.024876529315540876, 0.9701846433060941, 0.9419988655276679, 0.9598509697067868, 0.20525064049328867, 0.03048276839009238, 0.05690116766150577, 0.7092324112094827, 0.04252978096933497, 0.2667356915141987, 0.5142097068647492, 0.17659104706832562, 0.048814691913452044, 0.06212778970802987, 0.05325239117831131, 0.8387251610584032, 0.9587606885043045, 0.0378973014546917, 0.006316216909115283, 0.006316216909115283, 0.9505906448218502, 0.9443578396967721, 0.019039472574531695, 0.007615789029812679, 0.026655261604344376, 0.9557803359191752, 0.805879761767387, 0.033281170102487954, 0.016980188827799978, 0.14399200125974382, 0.933609476689392, 0.019053254626314124, 0.009526627313157062, 0.034930966814909224, 0.1188123791557808, 0.7699956110672718, 0.018278827562427817, 0.09367899125744256, 0.9755779402774336, 0.016820309315128165, 0.005606769771709388, 0.005606769771709388, 0.022283473716000392, 0.9693311066460171, 0.8006971806659862, 0.040286650599546475, 0.06420684939302719, 0.09316287951145122, 0.9682665606836999, 0.9579640164515906, 0.021054154207727264, 0.010527077103863632, 0.03185599281867842, 0.907895795332335, 0.01592799640933921, 0.04778398922801763, 0.9915901561640729], \"Term\": [\"ago\", \"ago\", \"air\", \"air\", \"air\", \"air\", \"airy\", \"airy\", \"airy\", \"airy\", \"allow\", \"allow\", \"amenities\", \"amenities\", \"amenities\", \"amenities\", \"animals\", \"annoying\", \"annoying\", \"annoying\", \"another\", \"another\", \"another\", \"another\", \"anything\", \"anything\", \"anything\", \"anything\", \"appear\", \"area\", \"area\", \"area\", \"area\", \"around\", \"around\", \"around\", \"around\", \"arranging\", \"asked\", \"asked\", \"asked\", \"asked\", \"asleep\", \"asleep\", \"asleep\", \"attached\", \"attentive\", \"attentive\", \"attentive\", \"attentive\", \"attitude\", \"attitude\", \"attitude\", \"attitude\", \"average\", \"average\", \"average\", \"average\", \"back\", \"back\", \"back\", \"back\", \"bad\", \"bad\", \"bad\", \"bad\", \"barking\", \"bathroom\", \"bathroom\", \"bathroom\", \"bathroom\", \"bbq\", \"bbq\", \"bbq\", \"bbq\", \"beach\", \"beach\", \"beach\", \"beach\", \"beautiful\", \"beautiful\", \"beautiful\", \"beautiful\", \"beauty\", \"beauty\", \"beauty\", \"beauty\", \"bed\", \"bed\", \"bed\", \"bed\", \"beside\", \"beside\", \"bikes\", \"bill\", \"boiled\", \"booked\", \"booked\", \"booked\", \"booked\", \"booking\", \"booking\", \"booking\", \"booking\", \"bottles\", \"bottles\", \"bottles\", \"bottles\", \"breakfast\", \"breakfast\", \"breakfast\", \"breakfast\", \"bt\", \"burning\", \"business\", \"business\", \"business\", \"business\", \"car\", \"car\", \"car\", \"car\", \"card\", \"card\", \"card\", \"card\", \"catering\", \"center\", \"center\", \"center\", \"center\", \"central\", \"central\", \"central\", \"central\", \"check\", \"check\", \"check\", \"check\", \"cheerful\", \"cheerful\", \"cheerful\", \"cheerful\", \"children\", \"children\", \"children\", \"children\", \"clean\", \"clean\", \"clean\", \"clean\", \"cleared\", \"com\", \"com\", \"com\", \"com\", \"come\", \"come\", \"come\", \"come\", \"comfortable\", \"comfortable\", \"comfortable\", \"comfortable\", \"comfy\", \"comfy\", \"comfy\", \"community\", \"compare\", \"compare\", \"compare\", \"compare\", \"con\", \"con\", \"con\", \"con\", \"conditioner\", \"conditioner\", \"conditioner\", \"conditioner\", \"conditioning\", \"conditioning\", \"conditioning\", \"conditioning\", \"considering\", \"considering\", \"convenient\", \"convenient\", \"convenient\", \"convenient\", \"cool\", \"cool\", \"cool\", \"cool\", \"cooling\", \"correct\", \"correct\", \"corridors\", \"corridors\", \"counselor\", \"cute\", \"cute\", \"cute\", \"cute\", \"day\", \"day\", \"day\", \"day\", \"decor\", \"decor\", \"decor\", \"decor\", \"dedicated\", \"dedicated\", \"dedicated\", \"dedicated\", \"definitely\", \"definitely\", \"definitely\", \"definitely\", \"delicious\", \"delicious\", \"delicious\", \"delicious\", \"design\", \"design\", \"design\", \"design\", \"dirt\", \"dirty\", \"dirty\", \"dirty\", \"dirty\", \"dislike\", \"disturbing\", \"diverse\", \"diverse\", \"diverse\", \"diverse\", \"door\", \"door\", \"door\", \"door\", \"drain\", \"drain\", \"drink\", \"drink\", \"drink\", \"drink\", \"dropped\", \"dropped\", \"dull\", \"dull\", \"dung\", \"duyen\", \"easy\", \"easy\", \"easy\", \"easy\", \"eat\", \"eat\", \"eat\", \"eat\", \"elevator\", \"elevator\", \"elevator\", \"elevator\", \"employee\", \"employee\", \"employee\", \"employee\", \"enthusiastic\", \"enthusiastic\", \"enthusiastic\", \"enthusiastic\", \"equipped\", \"equipped\", \"equipped\", \"equipped\", \"equivalent\", \"evaluated\", \"evaluated\", \"events\", \"events\", \"events\", \"everything\", \"everything\", \"everything\", \"everything\", \"excited\", \"excited\", \"extremely\", \"extremely\", \"extremely\", \"extremely\", \"facilities\", \"facilities\", \"facilities\", \"facilities\", \"family\", \"family\", \"family\", \"family\", \"far\", \"far\", \"far\", \"far\", \"fault\", \"fault\", \"fault\", \"fault\", \"feature\", \"fi\", \"fi\", \"fine\", \"fine\", \"fine\", \"fine\", \"first\", \"first\", \"first\", \"first\", \"fix\", \"fix\", \"fix\", \"flies\", \"flies\", \"flies\", \"flights\", \"food\", \"food\", \"food\", \"food\", \"fresh\", \"fresh\", \"fresh\", \"fresh\", \"fridge\", \"friendly\", \"friendly\", \"friendly\", \"friendly\", \"full\", \"full\", \"full\", \"full\", \"fully\", \"fully\", \"fully\", \"fully\", \"fun\", \"fun\", \"fun\", \"fun\", \"function\", \"get\", \"get\", \"get\", \"get\", \"go\", \"go\", \"go\", \"go\", \"gold\", \"good\", \"good\", \"good\", \"good\", \"got\", \"got\", \"got\", \"got\", \"great\", \"great\", \"great\", \"great\", \"greatly\", \"green\", \"green\", \"green\", \"green\", \"guests\", \"guests\", \"guests\", \"guests\", \"hanoi\", \"hanoi\", \"hanoi\", \"hanoi\", \"happy\", \"happy\", \"happy\", \"happy\", \"hard\", \"hard\", \"hard\", \"hard\", \"host\", \"host\", \"host\", \"host\", \"hot\", \"hot\", \"hot\", \"hot\", \"hotel\", \"hotel\", \"hotel\", \"hotel\", \"idea\", \"idea\", \"idea\", \"idea\", \"impossible\", \"impossible\", \"install\", \"insulation\", \"insulation\", \"isolated\", \"isolated\", \"issue\", \"issue\", \"jacuzzi\", \"jacuzzi\", \"jacuzzi\", \"kitchen\", \"kitchen\", \"kitchen\", \"kitchen\", \"knew\", \"knew\", \"koi\", \"large\", \"large\", \"large\", \"large\", \"leaked\", \"leaking\", \"leg\", \"lift\", \"lift\", \"lift\", \"lighthouse\", \"like\", \"like\", \"like\", \"like\", \"limited\", \"limited\", \"limited\", \"limited\", \"literally\", \"little\", \"little\", \"little\", \"little\", \"location\", \"location\", \"location\", \"location\", \"lots\", \"lots\", \"lots\", \"lots\", \"ly\", \"ly\", \"major\", \"major\", \"major\", \"many\", \"many\", \"many\", \"many\", \"massage\", \"massage\", \"massage\", \"massage\", \"master\", \"master\", \"master\", \"master\", \"mentioned\", \"mentioned\", \"micro\", \"minibar\", \"moisture\", \"moisture\", \"moisture\", \"mostly\", \"mostly\", \"near\", \"near\", \"near\", \"near\", \"new\", \"new\", \"new\", \"new\", \"next\", \"next\", \"next\", \"next\", \"nha\", \"nha\", \"nha\", \"nha\", \"nice\", \"nice\", \"nice\", \"nice\", \"nicely\", \"nicely\", \"night\", \"night\", \"night\", \"night\", \"noises\", \"noises\", \"noises\", \"nothing\", \"nothing\", \"nothing\", \"nothing\", \"odd\", \"ok\", \"ok\", \"ok\", \"ok\", \"oki\", \"oki\", \"old\", \"old\", \"old\", \"old\", \"opportunity\", \"opportunity\", \"opportunity\", \"opportunity\", \"otherwise\", \"otherwise\", \"outlets\", \"outlets\", \"owner\", \"owner\", \"owner\", \"owner\", \"paid\", \"paid\", \"paid\", \"paid\", \"passengers\", \"pedestrian\", \"pedestrian\", \"pedestrian\", \"pedestrian\", \"people\", \"people\", \"people\", \"people\", \"place\", \"place\", \"place\", \"place\", \"planet\", \"planet\", \"pleased\", \"pleased\", \"pleased\", \"pleased\", \"plenty\", \"plenty\", \"pointed\", \"police\", \"police\", \"police\", \"polite\", \"polite\", \"polite\", \"polite\", \"pool\", \"pool\", \"pool\", \"pool\", \"pools\", \"pools\", \"pools\", \"pools\", \"price\", \"price\", \"price\", \"price\", \"problem\", \"problem\", \"problem\", \"problem\", \"professional\", \"professional\", \"professional\", \"professional\", \"properly\", \"properly\", \"properly\", \"property\", \"property\", \"property\", \"pump\", \"pump\", \"pv\", \"quiet\", \"quiet\", \"quiet\", \"quiet\", \"quite\", \"quite\", \"quite\", \"quite\", \"quynh\", \"quynh\", \"quynh\", \"rai\", \"rat\", \"rat\", \"rat\", \"really\", \"really\", \"really\", \"really\", \"receptionist\", \"receptionist\", \"receptionist\", \"receptionist\", \"reduce\", \"reservations\", \"resort\", \"resort\", \"resort\", \"resort\", \"restroom\", \"right\", \"right\", \"right\", \"right\", \"room\", \"room\", \"room\", \"room\", \"rooms\", \"rooms\", \"rooms\", \"rooms\", \"royal\", \"rubbish\", \"rubbish\", \"rubbish\", \"rubbish\", \"rude\", \"sach\", \"sach\", \"sach\", \"sach\", \"said\", \"said\", \"said\", \"said\", \"salad\", \"sapa\", \"sapa\", \"scene\", \"scene\", \"scene\", \"scene\", \"se\", \"se\", \"se\", \"sea\", \"sea\", \"sea\", \"sea\", \"see\", \"see\", \"see\", \"see\", \"seem\", \"seem\", \"seem\", \"seem\", \"separated\", \"serious\", \"serious\", \"service\", \"service\", \"service\", \"service\", \"shape\", \"shape\", \"sheets\", \"sheets\", \"sheets\", \"sheets\", \"shower\", \"shower\", \"shower\", \"shower\", \"simply\", \"since\", \"since\", \"since\", \"since\", \"sing\", \"sing\", \"small\", \"small\", \"small\", \"small\", \"smell\", \"smell\", \"smell\", \"smell\", \"smelled\", \"smelled\", \"smelled\", \"smoke\", \"smoke\", \"smoke\", \"smoking\", \"smoking\", \"smoking\", \"smooth\", \"smooth\", \"smooth\", \"smooth\", \"solution\", \"someone\", \"someone\", \"someone\", \"someone\", \"somewhat\", \"somewhat\", \"somewhat\", \"sounds\", \"sounds\", \"sounds\", \"space\", \"space\", \"space\", \"space\", \"spacious\", \"spacious\", \"spacious\", \"spacious\", \"specially\", \"spending\", \"spending\", \"spoke\", \"spoke\", \"spoon\", \"staff\", \"staff\", \"staff\", \"staff\", \"stained\", \"standards\", \"standards\", \"started\", \"started\", \"started\", \"started\", \"statue\", \"statue\", \"statue\", \"stay\", \"stay\", \"stay\", \"stay\", \"street\", \"street\", \"street\", \"street\", \"stronger\", \"stronger\", \"stronger\", \"suggestion\", \"suggestion\", \"suggestion\", \"support\", \"support\", \"support\", \"support\", \"swimming\", \"swimming\", \"swimming\", \"swimming\", \"talked\", \"talked\", \"talked\", \"talked\", \"talks\", \"talks\", \"tasted\", \"tasted\", \"tasted\", \"tasty\", \"tau\", \"tau\", \"tau\", \"tau\", \"thin\", \"thin\", \"thin\", \"thoughtful\", \"thoughtful\", \"thoughtful\", \"thoughtful\", \"time\", \"time\", \"time\", \"time\", \"tobacco\", \"told\", \"told\", \"told\", \"told\", \"torn\", \"tot\", \"tot\", \"tot\", \"towels\", \"towels\", \"towels\", \"towels\", \"trained\", \"training\", \"training\", \"travel\", \"travel\", \"travel\", \"travel\", \"trc\", \"treated\", \"trees\", \"trees\", \"trees\", \"trees\", \"tuy\", \"twice\", \"twice\", \"twice\", \"update\", \"update\", \"updated\", \"updated\", \"veiw\", \"vew\", \"vietnam\", \"vietnam\", \"vietnam\", \"vietnam\", \"view\", \"view\", \"view\", \"view\", \"village\", \"village\", \"village\", \"village\", \"visible\", \"vung\", \"vung\", \"vung\", \"vung\", \"wanted\", \"wanted\", \"wanted\", \"wanted\", \"warmer\", \"water\", \"water\", \"water\", \"water\", \"weak\", \"weak\", \"weak\", \"weak\", \"welcoming\", \"welcoming\", \"welcoming\", \"welcoming\", \"wet\", \"wet\", \"wet\", \"wet\", \"wi\", \"wi\", \"wifi\", \"wifi\", \"wifi\", \"wifi\", \"windy\", \"worked\", \"worked\", \"worked\", \"worker\", \"worker\", \"worker\", \"worker\", \"world\"]}, \"R\": 30, \"lambda.step\": 0.01, \"plot.opts\": {\"xlab\": \"PC1\", \"ylab\": \"PC2\"}, \"topic.order\": [3, 2, 4, 1]};\n",
       "\n",
       "function LDAvis_load_lib(url, callback){\n",
       "  var s = document.createElement('script');\n",
       "  s.src = url;\n",
       "  s.async = true;\n",
       "  s.onreadystatechange = s.onload = callback;\n",
       "  s.onerror = function(){console.warn(\"failed to load library \" + url);};\n",
       "  document.getElementsByTagName(\"head\")[0].appendChild(s);\n",
       "}\n",
       "\n",
       "if(typeof(LDAvis) !== \"undefined\"){\n",
       "   // already loaded: just create the visualization\n",
       "   !function(LDAvis){\n",
       "       new LDAvis(\"#\" + \"ldavis_el1891613438530575682097329572\", ldavis_el1891613438530575682097329572_data);\n",
       "   }(LDAvis);\n",
       "}else if(typeof define === \"function\" && define.amd){\n",
       "   // require.js is available: use it to load d3/LDAvis\n",
       "   require.config({paths: {d3: \"https://d3js.org/d3.v5\"}});\n",
       "   require([\"d3\"], function(d3){\n",
       "      window.d3 = d3;\n",
       "      LDAvis_load_lib(\"https://cdn.jsdelivr.net/gh/bmabey/pyLDAvis@3.4.0/pyLDAvis/js/ldavis.v3.0.0.js\", function(){\n",
       "        new LDAvis(\"#\" + \"ldavis_el1891613438530575682097329572\", ldavis_el1891613438530575682097329572_data);\n",
       "      });\n",
       "    });\n",
       "}else{\n",
       "    // require.js not available: dynamically load d3 & LDAvis\n",
       "    LDAvis_load_lib(\"https://d3js.org/d3.v5.js\", function(){\n",
       "         LDAvis_load_lib(\"https://cdn.jsdelivr.net/gh/bmabey/pyLDAvis@3.4.0/pyLDAvis/js/ldavis.v3.0.0.js\", function(){\n",
       "                 new LDAvis(\"#\" + \"ldavis_el1891613438530575682097329572\", ldavis_el1891613438530575682097329572_data);\n",
       "            })\n",
       "         });\n",
       "}\n",
       "</script>"
      ],
      "text/plain": [
       "<IPython.core.display.HTML object>"
      ]
     },
     "execution_count": 211,
     "metadata": {},
     "output_type": "execute_result"
    }
   ],
   "source": [
    "import os\n",
    "import pickle\n",
    "import pyLDAvis\n",
    "import pyLDAvis.gensim_models\n",
    "\n",
    "# Khai báo đường dẫn đến thư mục lưu trữ dữ liệu\n",
    "LDAvis_data_dir = os.path.join(\"E:\\\\NCKH\\\\NCKHNew\\\\img\", '02_Results')\n",
    "if not os.path.exists(LDAvis_data_dir):\n",
    "    os.makedirs(LDAvis_data_dir)\n",
    "\n",
    "# Đường dẫn tới tệp dữ liệu của pyLDAvis\n",
    "LDAvis_data_filepath = os.path.join(LDAvis_data_dir, 'ldavis_prepared_'+str(num_topics))\n",
    "\n",
    "# Kiểm tra xem liệu quá trình chuẩn bị dữ liệu cho trực quan hóa đã được thực hiện chưa\n",
    "if 1 == 1:\n",
    "    # Chuẩn bị dữ liệu cho trực quan hóa\n",
    "    LDAvis_prepared = pyLDAvis.gensim_models.prepare(lda_model, corpus, id2word)\n",
    "    # Lưu trữ dữ liệu vào một tệp\n",
    "    with open(LDAvis_data_filepath, 'wb') as f:\n",
    "        pickle.dump(LDAvis_prepared, f)\n",
    "\n",
    "# Load dữ liệu đã chuẩn bị từ tệp\n",
    "with open(LDAvis_data_filepath, 'rb') as f:\n",
    "    LDAvis_prepared = pickle.load(f)\n",
    "\n",
    "# Lưu trữ trực quan hóa dưới dạng một tệp HTML\n",
    "pyLDAvis.save_html(LDAvis_prepared, 'ldavis_prepared_'+ str(num_topics) +'.html')\n",
    "\n",
    "# Hiển thị trực quan hóa trên trình duyệt web\n",
    "pyLDAvis.display(LDAvis_prepared)\n"
   ]
  },
  {
   "cell_type": "markdown",
   "metadata": {},
   "source": [
    "# 8. Topic modelling positive comments"
   ]
  },
  {
   "cell_type": "markdown",
   "metadata": {},
   "source": [
    "## Data"
   ]
  },
  {
   "cell_type": "code",
   "execution_count": 212,
   "metadata": {},
   "outputs": [
    {
     "data": {
      "text/html": [
       "<div>\n",
       "<style scoped>\n",
       "    .dataframe tbody tr th:only-of-type {\n",
       "        vertical-align: middle;\n",
       "    }\n",
       "\n",
       "    .dataframe tbody tr th {\n",
       "        vertical-align: top;\n",
       "    }\n",
       "\n",
       "    .dataframe thead th {\n",
       "        text-align: right;\n",
       "    }\n",
       "</style>\n",
       "<table border=\"1\" class=\"dataframe\">\n",
       "  <thead>\n",
       "    <tr style=\"text-align: right;\">\n",
       "      <th></th>\n",
       "      <th>rental_date</th>\n",
       "      <th>comments</th>\n",
       "      <th>sentiment</th>\n",
       "      <th>label</th>\n",
       "    </tr>\n",
       "  </thead>\n",
       "  <tbody>\n",
       "    <tr>\n",
       "      <th>0</th>\n",
       "      <td>2023-12-02 00:00:00</td>\n",
       "      <td>best support ever witnessed answer fast kind s...</td>\n",
       "      <td>positive</td>\n",
       "      <td>1</td>\n",
       "    </tr>\n",
       "    <tr>\n",
       "      <th>1</th>\n",
       "      <td>2023-12-04 00:00:00</td>\n",
       "      <td>everything ok</td>\n",
       "      <td>positive</td>\n",
       "      <td>1</td>\n",
       "    </tr>\n",
       "    <tr>\n",
       "      <th>2</th>\n",
       "      <td>2023-12-09 00:00:00</td>\n",
       "      <td>great accommodation games owner responded quickly</td>\n",
       "      <td>positive</td>\n",
       "      <td>1</td>\n",
       "    </tr>\n",
       "    <tr>\n",
       "      <th>3</th>\n",
       "      <td>2023-12-11 00:00:00</td>\n",
       "      <td>thanks nigel tra friendly stay ho chi minh cit...</td>\n",
       "      <td>positive</td>\n",
       "      <td>1</td>\n",
       "    </tr>\n",
       "    <tr>\n",
       "      <th>4</th>\n",
       "      <td>2023-12-10 00:00:00</td>\n",
       "      <td>nigel others dedicated responded quickly stay ...</td>\n",
       "      <td>positive</td>\n",
       "      <td>1</td>\n",
       "    </tr>\n",
       "    <tr>\n",
       "      <th>...</th>\n",
       "      <td>...</td>\n",
       "      <td>...</td>\n",
       "      <td>...</td>\n",
       "      <td>...</td>\n",
       "    </tr>\n",
       "    <tr>\n",
       "      <th>101544</th>\n",
       "      <td>9/2020</td>\n",
       "      <td>get pay bed sheets towels clean stains hot wat...</td>\n",
       "      <td>positive</td>\n",
       "      <td>1</td>\n",
       "    </tr>\n",
       "    <tr>\n",
       "      <th>101546</th>\n",
       "      <td>7/2020</td>\n",
       "      <td>proper luggage room luggage room smaller</td>\n",
       "      <td>positive</td>\n",
       "      <td>1</td>\n",
       "    </tr>\n",
       "    <tr>\n",
       "      <th>101550</th>\n",
       "      <td>2/2020</td>\n",
       "      <td>walk across parking lot get pool clever photog...</td>\n",
       "      <td>positive</td>\n",
       "      <td>1</td>\n",
       "    </tr>\n",
       "    <tr>\n",
       "      <th>101551</th>\n",
       "      <td>2/2020</td>\n",
       "      <td>walk across parking lot get pool clever photog...</td>\n",
       "      <td>positive</td>\n",
       "      <td>1</td>\n",
       "    </tr>\n",
       "    <tr>\n",
       "      <th>101566</th>\n",
       "      <td>12/2019</td>\n",
       "      <td>would need time get hot water shower water wou...</td>\n",
       "      <td>positive</td>\n",
       "      <td>1</td>\n",
       "    </tr>\n",
       "  </tbody>\n",
       "</table>\n",
       "<p>77798 rows × 4 columns</p>\n",
       "</div>"
      ],
      "text/plain": [
       "                rental_date  \\\n",
       "0       2023-12-02 00:00:00   \n",
       "1       2023-12-04 00:00:00   \n",
       "2       2023-12-09 00:00:00   \n",
       "3       2023-12-11 00:00:00   \n",
       "4       2023-12-10 00:00:00   \n",
       "...                     ...   \n",
       "101544               9/2020   \n",
       "101546               7/2020   \n",
       "101550               2/2020   \n",
       "101551               2/2020   \n",
       "101566              12/2019   \n",
       "\n",
       "                                                 comments sentiment  label  \n",
       "0       best support ever witnessed answer fast kind s...  positive      1  \n",
       "1                                          everything ok   positive      1  \n",
       "2       great accommodation games owner responded quickly  positive      1  \n",
       "3       thanks nigel tra friendly stay ho chi minh cit...  positive      1  \n",
       "4       nigel others dedicated responded quickly stay ...  positive      1  \n",
       "...                                                   ...       ...    ...  \n",
       "101544  get pay bed sheets towels clean stains hot wat...  positive      1  \n",
       "101546          proper luggage room luggage room smaller   positive      1  \n",
       "101550  walk across parking lot get pool clever photog...  positive      1  \n",
       "101551  walk across parking lot get pool clever photog...  positive      1  \n",
       "101566  would need time get hot water shower water wou...  positive      1  \n",
       "\n",
       "[77798 rows x 4 columns]"
      ]
     },
     "execution_count": 212,
     "metadata": {},
     "output_type": "execute_result"
    }
   ],
   "source": [
    "df_pos = df.loc[df['label'] == 1]\n",
    "df_pos"
   ]
  },
  {
   "cell_type": "code",
   "execution_count": 213,
   "metadata": {},
   "outputs": [
    {
     "name": "stdout",
     "output_type": "stream",
     "text": [
      "['best', 'support', 'ever', 'witnessed', 'answer', 'fast', 'kind', 'support', 'accommodation', 'close', 'city', 'center', 'minutes', 'walk', 'although', 'place', 'quiet', 'perfect', 'place', 'rest', 'sightseeing', 'party', 'air', 'conditioning', 'projector', 'works', 'well', 'owner', 'provides', 'netflix']\n"
     ]
    }
   ],
   "source": [
    "data = df_pos.comments.values.tolist()#creating the array of token \n",
    "data_words = list(sent_to_words(data))#converting them into list\n",
    "\n",
    "data_words = remove_stopwords(data_words)# remove stop words\n",
    "print(data_words[:1][0][:30])"
   ]
  },
  {
   "cell_type": "code",
   "execution_count": 214,
   "metadata": {},
   "outputs": [
    {
     "name": "stdout",
     "output_type": "stream",
     "text": [
      "[(0, 1), (1, 1), (2, 1), (3, 1), (4, 1), (5, 1), (6, 1), (7, 1), (8, 1), (9, 1), (10, 1), (11, 1), (12, 1), (13, 1), (14, 1), (15, 1), (16, 1), (17, 1), (18, 1), (19, 1), (20, 2), (21, 1), (22, 1), (23, 1), (24, 1), (25, 1), (26, 1), (27, 1), (28, 2), (29, 1)]\n"
     ]
    }
   ],
   "source": [
    "# Create Dictionary \n",
    "id2word = corpora.Dictionary(data_words)\n",
    "\n",
    "# Create Corpus\n",
    "texts = data_words\n",
    "\n",
    "# Term Document Frequency\n",
    "corpus = [id2word.doc2bow(text) for text in texts]\n",
    "\n",
    "# Printing the corpus in a numeric form which implies the frequency of the word\n",
    "print(corpus[:1][0][:30])"
   ]
  },
  {
   "cell_type": "code",
   "execution_count": 215,
   "metadata": {},
   "outputs": [
    {
     "data": {
      "text/plain": [
       "<gensim.corpora.dictionary.Dictionary at 0x13900bbbdd0>"
      ]
     },
     "execution_count": 215,
     "metadata": {},
     "output_type": "execute_result"
    }
   ],
   "source": [
    "#Showing the code\n",
    "id2word"
   ]
  },
  {
   "cell_type": "markdown",
   "metadata": {},
   "source": [
    "## LDA training"
   ]
  },
  {
   "cell_type": "code",
   "execution_count": 216,
   "metadata": {},
   "outputs": [
    {
     "name": "stdout",
     "output_type": "stream",
     "text": [
      "[(0,\n",
      "  '0.052*\"near\" + 0.040*\"clean\" + 0.036*\"staff\" + 0.029*\"center\" + '\n",
      "  '0.029*\"room\" + 0.027*\"friendly\" + 0.026*\"location\" + 0.024*\"enthusiastic\" + '\n",
      "  '0.021*\"sea\" + 0.020*\"convenient\"'),\n",
      " (1,\n",
      "  '0.050*\"staff\" + 0.046*\"clean\" + 0.042*\"enthusiastic\" + 0.040*\"room\" + '\n",
      "  '0.035*\"friendly\" + 0.015*\"beautiful\" + 0.014*\"cute\" + 0.014*\"comfortable\" + '\n",
      "  '0.014*\"price\" + 0.014*\"hotel\"'),\n",
      " (2,\n",
      "  '0.037*\"location\" + 0.037*\"convenient\" + 0.036*\"hotel\" + 0.035*\"breakfast\" + '\n",
      "  '0.034*\"ok\" + 0.025*\"good\" + 0.024*\"great\" + 0.015*\"delicious\" + '\n",
      "  '0.014*\"place\" + 0.011*\"everything\"'),\n",
      " (3,\n",
      "  '0.061*\"clean\" + 0.054*\"room\" + 0.031*\"owner\" + 0.025*\"enthusiastic\" + '\n",
      "  '0.018*\"comfortable\" + 0.015*\"friendly\" + 0.012*\"happy\" + 0.012*\"hotel\" + '\n",
      "  '0.012*\"cute\" + 0.011*\"spacious\"'),\n",
      " (4,\n",
      "  '0.043*\"room\" + 0.036*\"beautiful\" + 0.033*\"good\" + 0.031*\"clean\" + '\n",
      "  '0.027*\"staff\" + 0.023*\"view\" + 0.021*\"service\" + 0.017*\"nice\" + '\n",
      "  '0.017*\"hotel\" + 0.014*\"enthusiastic\"')]\n"
     ]
    }
   ],
   "source": [
    "from pprint import pprint\n",
    "# number of topics\n",
    "num_topics = 5\n",
    "# Build LDA model\n",
    "lda_model = gensim.models.LdaMulticore(corpus=corpus,\n",
    "                                       id2word=id2word,\n",
    "                                       num_topics=num_topics)\n",
    "\n",
    "# Print the Keyword in the 10 topics\n",
    "pprint(lda_model.print_topics())\n",
    "doc_lda = lda_model[corpus]"
   ]
  },
  {
   "cell_type": "code",
   "execution_count": 217,
   "metadata": {},
   "outputs": [
    {
     "data": {
      "text/html": [
       "\n",
       "<link rel=\"stylesheet\" type=\"text/css\" href=\"https://cdn.jsdelivr.net/gh/bmabey/pyLDAvis@3.4.0/pyLDAvis/js/ldavis.v1.0.0.css\">\n",
       "\n",
       "\n",
       "<div id=\"ldavis_el1891613438530568969017546598\" style=\"background-color:white;\"></div>\n",
       "<script type=\"text/javascript\">\n",
       "\n",
       "var ldavis_el1891613438530568969017546598_data = {\"mdsDat\": {\"x\": [-0.07272092394704942, 0.0007970349344319178, -0.11080710476430626, 0.027146800725064167, 0.1555841930518596], \"y\": [0.01844222721902755, -0.014765772375545725, -0.05439508531525958, 0.09783345990426627, -0.04711482943248852], \"topics\": [1, 2, 3, 4, 5], \"cluster\": [1, 1, 1, 1, 1], \"Freq\": [24.43617957931413, 23.22660094117061, 20.0199462916719, 19.62956428608961, 12.687708901753753]}, \"tinfo\": {\"Term\": [\"near\", \"ok\", \"location\", \"convenient\", \"breakfast\", \"center\", \"staff\", \"owner\", \"good\", \"great\", \"room\", \"view\", \"clean\", \"sea\", \"service\", \"hotel\", \"beautiful\", \"enthusiastic\", \"friendly\", \"place\", \"delicious\", \"facilities\", \"everything\", \"right\", \"pool\", \"travel\", \"happy\", \"nice\", \"time\", \"fully\", \"fix\", \"thin\", \"smaller\", \"require\", \"suggestion\", \"training\", \"requested\", \"naturally\", \"miss\", \"hit\", \"enjoyable\", \"plug\", \"benefit\", \"considering\", \"san\", \"premium\", \"dang\", \"kindness\", \"yacht\", \"match\", \"app\", \"cleared\", \"medical\", \"install\", \"stains\", \"planet\", \"linen\", \"originally\", \"shoes\", \"positions\", \"trust\", \"deal\", \"japanese\", \"kids\", \"construction\", \"villa\", \"boys\", \"mentioned\", \"come\", \"reception\", \"employee\", \"master\", \"time\", \"back\", \"upon\", \"worth\", \"definitely\", \"staff\", \"least\", \"opportunity\", \"enthusiastic\", \"next\", \"friendly\", \"support\", \"money\", \"quiet\", \"thank\", \"early\", \"second\", \"continue\", \"reasonable\", \"check\", \"price\", \"extremely\", \"thoughtful\", \"cute\", \"clean\", \"room\", \"really\", \"receptionist\", \"much\", \"satisfied\", \"guests\", \"comfortable\", \"beautiful\", \"space\", \"new\", \"rooms\", \"hotel\", \"great\", \"good\", \"like\", \"owner\", \"tau\", \"temperature\", \"property\", \"suite\", \"firm\", \"pet\", \"proper\", \"item\", \"swing\", \"surcharge\", \"quietly\", \"pull\", \"cancel\", \"effort\", \"multiple\", \"outlets\", \"smoking\", \"flexibly\", \"salad\", \"draw\", \"counselor\", \"fair\", \"renovation\", \"section\", \"assistance\", \"adjacent\", \"specially\", \"directions\", \"meaning\", \"covered\", \"mention\", \"buildings\", \"agile\", \"view\", \"families\", \"outdoor\", \"service\", \"decoration\", \"pool\", \"fine\", \"soundproofing\", \"stove\", \"vision\", \"swimming\", \"resort\", \"beautiful\", \"spa\", \"considerate\", \"nice\", \"good\", \"scenery\", \"attentive\", \"cooking\", \"suitable\", \"overlooking\", \"large\", \"attitude\", \"green\", \"excellent\", \"air\", \"room\", \"food\", \"wide\", \"beach\", \"quite\", \"staff\", \"delicious\", \"clean\", \"hotel\", \"sea\", \"space\", \"many\", \"new\", \"comfortable\", \"location\", \"breakfast\", \"small\", \"enthusiastic\", \"cool\", \"friendly\", \"price\", \"convenient\", \"spacious\", \"arranging\", \"puppy\", \"comfy\", \"pressure\", \"plenty\", \"confused\", \"degraded\", \"trc\", \"learn\", \"eaten\", \"perfume\", \"oily\", \"tung\", \"line\", \"powerful\", \"plates\", \"dth\", \"pre\", \"fake\", \"mng\", \"sleeps\", \"event\", \"lien\", \"parties\", \"walls\", \"collecting\", \"remained\", \"rat\", \"lunar\", \"hut\", \"automatic\", \"tinh\", \"invited\", \"enthusiasm\", \"suitcases\", \"single\", \"lie\", \"anything\", \"spray\", \"owner\", \"wall\", \"bike\", \"double\", \"standards\", \"uncle\", \"equipped\", \"fully\", \"homestay\", \"happy\", \"sisters\", \"already\", \"missing\", \"cook\", \"brothers\", \"beds\", \"ac\", \"towels\", \"wanted\", \"host\", \"spacious\", \"clean\", \"kitchen\", \"bathroom\", \"hair\", \"room\", \"friend\", \"cool\", \"airy\", \"bed\", \"comfortable\", \"home\", \"quite\", \"balcony\", \"enthusiastic\", \"cute\", \"toilet\", \"like\", \"water\", \"guests\", \"went\", \"people\", \"friendly\", \"receptionist\", \"hotel\", \"rooms\", \"delicious\", \"still\", \"day\", \"free\", \"extremely\", \"large\", \"beautiful\", \"staff\", \"food\", \"option\", \"secure\", \"oki\", \"greatly\", \"attached\", \"hoai\", \"recently\", \"gold\", \"push\", \"april\", \"vehicle\", \"cleanest\", \"bill\", \"eats\", \"notify\", \"suspicion\", \"spice\", \"situations\", \"truong\", \"sa\", \"compensation\", \"stated\", \"attendants\", \"cleanly\", \"newer\", \"impossible\", \"occasionally\", \"diversified\", \"major\", \"pv\", \"corgi\", \"stronger\", \"near\", \"seem\", \"facilities\", \"center\", \"conveniently\", \"nhat\", \"worker\", \"khe\", \"moving\", \"stores\", \"convenience\", \"dragon\", \"easy\", \"sea\", \"walk\", \"minutes\", \"close\", \"market\", \"bridge\", \"station\", \"far\", \"city\", \"polite\", \"town\", \"location\", \"pretty\", \"central\", \"beach\", \"convenient\", \"places\", \"staff\", \"dedicated\", \"friendly\", \"eat\", \"airport\", \"clean\", \"go\", \"enthusiastic\", \"room\", \"located\", \"quiet\", \"hotel\", \"cute\", \"full\", \"price\", \"right\", \"good\", \"comfortable\", \"many\", \"service\", \"rooms\", \"delicious\", \"like\", \"yes\", \"lighthouse\", \"says\", \"sockets\", \"sounds\", \"wishes\", \"literally\", \"beside\", \"awake\", \"nicely\", \"switch\", \"min\", \"bacon\", \"laptop\", \"fantastic\", \"awesome\", \"feature\", \"boiling\", \"hardly\", \"intersection\", \"animals\", \"coastline\", \"practical\", \"integrated\", \"letter\", \"insulation\", \"frames\", \"overhead\", \"canh\", \"planning\", \"ok\", \"american\", \"poor\", \"fridge\", \"words\", \"climb\", \"five\", \"architecture\", \"turning\", \"thai\", \"vi\", \"breakfast\", \"wonderfull\", \"quarter\", \"great\", \"mart\", \"place\", \"convenient\", \"tri\", \"move\", \"location\", \"dishes\", \"everything\", \"right\", \"travel\", \"diverse\", \"hotel\", \"busy\", \"improve\", \"delicious\", \"good\", \"options\", \"gym\", \"little\", \"opposite\", \"services\", \"areas\", \"many\", \"rich\", \"around\", \"buffet\", \"street\", \"center\", \"easy\", \"favorable\", \"sea\", \"like\", \"near\", \"nice\", \"area\", \"city\", \"price\", \"beautiful\", \"next\", \"time\", \"food\", \"go\", \"clean\", \"quite\"], \"Freq\": [9721.0, 3621.0, 9947.0, 8439.0, 6093.0, 5795.0, 19623.0, 6282.0, 11627.0, 4378.0, 26718.0, 5213.0, 28570.0, 5762.0, 5069.0, 12941.0, 11093.0, 17146.0, 14161.0, 2813.0, 4862.0, 2141.0, 2526.0, 2355.0, 2782.0, 2041.0, 2790.0, 5531.0, 3835.0, 1734.0, 55.242881126934016, 42.98752660295035, 91.54464630482173, 33.53464971161, 30.712487797043494, 28.506161590581247, 34.04664343734086, 24.968356926005136, 21.58971704010397, 35.56765511513787, 22.693836333407425, 24.042931004278554, 20.288367002423836, 36.20878509956527, 17.449840874312823, 17.099304448095175, 22.653393515314228, 25.162018499569086, 16.916847294428983, 20.40811132091196, 47.75693781330945, 17.114379037580125, 17.501187113529312, 14.91083317755615, 18.148311125275796, 13.732064890776872, 17.825367983262122, 21.000818127497308, 13.973190857293524, 15.863770646750531, 20.46588232707306, 62.978445838002806, 24.305181376165198, 56.70625932387205, 116.54847956914139, 236.49320096544758, 21.667054264013807, 26.039570047253612, 2082.2012452239755, 664.2779734203175, 571.095976816551, 118.36997884245018, 2371.364332706256, 2082.2075558189713, 35.27270745396646, 525.0996690588659, 711.5057190606792, 9003.942990098916, 70.55512471322643, 912.463627468878, 7559.767975249811, 1537.072785575632, 6171.842282826403, 1068.4707525521296, 549.5890954176249, 2096.4930822062956, 508.2801896783423, 538.4297215433576, 211.46506983454094, 295.18152683990337, 1166.0925848719353, 899.5429333176587, 2431.83378250117, 1463.5752784804276, 939.8218835263307, 2491.997334507083, 8139.149680261544, 7111.580218832462, 813.4319584065508, 1359.2060085297812, 578.4675821129513, 748.2550538472942, 889.743824801539, 2448.6428826136084, 2645.6116646430914, 1141.8786658052245, 1235.0021233369916, 1193.600302389812, 2417.5122192950544, 1165.8228899700148, 1582.7477096763332, 1138.0436507990344, 959.387966344579, 308.3808350824594, 68.6915937690854, 127.40460966427283, 65.03842396116406, 34.57144552227771, 28.198431488374954, 33.033125581495455, 25.065136509451037, 25.39267602621227, 25.661195192104568, 19.09884495781921, 18.99382548225821, 21.192555525865203, 21.09715861189698, 21.869030361468237, 22.124808234732498, 20.2840293433397, 21.566657733978488, 16.855118370908713, 15.902482306848928, 17.045420157056675, 60.335081595006656, 18.5233410434123, 18.642432420848884, 20.438772169660965, 19.363380928280947, 14.80088706556055, 14.24349004233226, 16.318541251226605, 34.21185053120627, 36.36314355356638, 28.602640734643572, 87.4215159060385, 3831.8600885806177, 184.66567560058687, 76.3465308104114, 3525.6681316073086, 376.39335199044376, 1905.7819968656834, 510.50854348564104, 214.49375689153584, 60.54039743823421, 72.97410352228566, 1242.127713313817, 664.3773852045684, 6122.557413768746, 202.9422632364194, 96.21608585523356, 2965.172956775754, 5641.406426440023, 378.63009750325756, 426.68802369332076, 232.46192928142358, 1163.5391441501001, 367.9254780578011, 1204.7650935376648, 459.9447804178997, 233.63339815623857, 275.2777433783793, 628.9020354862896, 7318.77306542375, 1203.6916482660647, 505.3471114475952, 1068.591682608939, 1574.4858951978276, 4497.208317861794, 1578.56452947073, 5316.803395341446, 2930.9215209277295, 1678.794531922025, 1130.7949987804982, 1141.4709688153532, 1205.9947293976404, 1871.6536824516493, 2018.5719640638667, 1434.0625849245596, 772.4424884493949, 2299.607212961195, 881.934932164546, 1754.1505320515391, 1108.0465775229573, 1195.307867851317, 834.5553577213692, 33.8852402330774, 30.060847962056982, 33.843622111081665, 82.97916700027265, 21.66590918785395, 20.057290221888312, 24.229289581936097, 17.707626548009173, 17.56531030052465, 38.45567193937654, 36.01481383385251, 14.776562365500995, 14.639690466508634, 27.56982149258662, 13.856156030632283, 14.085630748960305, 50.525263205317486, 12.972221090816891, 12.460179158488245, 20.94145581840476, 16.283595655999136, 35.539661029680936, 11.883463000465403, 14.141503880254831, 87.87155506974737, 11.969565977741405, 12.991002073540052, 16.836833725483338, 14.092345303709427, 16.00891647600092, 38.87709555034588, 51.250839033182864, 29.572185265395092, 331.87724590095837, 24.889477955321993, 124.09643444514795, 24.605683052428663, 301.9474024416273, 39.721622208172406, 4575.372887295827, 91.0717690490331, 56.74904852237749, 216.7527066111443, 31.08926434613131, 420.1752671410751, 1060.3360571874869, 1184.7910490688246, 768.5172092851856, 1804.8778948417714, 159.20024997390607, 102.4164392545181, 46.86945866115143, 157.4099798209204, 116.88489422531373, 404.448740369079, 133.0103274121725, 200.1921082011907, 126.07727592817326, 508.4826422013267, 1595.799946630488, 8864.930038382485, 369.7536867802167, 619.9192253161292, 173.85052620117875, 7852.20206851484, 198.75000424057228, 1091.6263202472398, 966.1860819876186, 779.17280907175, 2620.858224241653, 471.1179063042853, 1428.3303754350545, 454.5343995384741, 3720.404066851266, 1746.3388992983766, 371.9136709257713, 1382.312301482583, 764.6024824962122, 706.7532206426202, 354.33447551701687, 510.48602639087716, 2137.3111658254406, 888.7910095523249, 1798.9427429036564, 847.7846784142497, 954.2519000233399, 568.3623292881318, 529.3644163955342, 516.7882222310864, 666.0315177477777, 569.9903701860867, 765.2298347091881, 726.2350851084907, 569.6856397330369, 72.49470303335829, 60.99777707296302, 24.241150978676764, 24.471718490810233, 21.198472740177763, 21.281522067899445, 20.243825480904206, 29.990274718277252, 20.26910109137413, 18.77253732310974, 20.880659973893785, 17.22848642324996, 21.17381620082029, 16.15879407337221, 16.68756939102149, 17.34481863982027, 16.244360331626833, 15.429036381079554, 61.6699048726058, 21.27245694915182, 18.637617340057034, 32.45891353561719, 14.478080619920974, 14.018339026760675, 14.289236833235007, 13.591677092033303, 13.10665050853774, 52.18032428978, 16.6002167895232, 24.11215490168999, 36.794860509827224, 22.6744404085697, 7387.658648355949, 87.27085909847305, 1652.5790601294314, 4203.067332816743, 204.28596321618028, 40.70225811196199, 165.34459764659712, 130.01362979184728, 313.9778938006549, 140.82709707526888, 294.6550043429918, 203.66689210373042, 993.6713510866124, 3004.8007247498094, 731.605083868789, 427.14736151845597, 1451.6813877544878, 773.3522047848661, 331.23434472910566, 136.70159884424496, 420.84952816294384, 870.9274837903364, 802.5362759083285, 455.3156390826996, 3660.5363217500935, 473.739895752486, 694.6651230953933, 1141.877092134321, 2867.609030025956, 567.4429995923809, 5120.083522838643, 569.3572591863149, 3811.4682101849467, 604.2122051282956, 398.5681374627587, 5732.208498991307, 1064.9751363904368, 3386.175077122248, 4199.899823161468, 647.8334981782573, 1238.8143068422348, 2465.3558477955726, 1609.9561516086171, 942.2234650461978, 1358.5178637949066, 819.5796496468834, 1875.7237387026375, 1363.897187385679, 892.5066102257481, 988.5019363756654, 814.75521387666, 794.9670830981255, 793.6407284507379, 39.45319146324884, 36.81578514234055, 29.5618102988113, 28.760604008120495, 24.465099486181177, 23.859156628835702, 37.18657171823707, 18.389825597409057, 28.777614717345635, 25.711284158218373, 22.353512160086417, 35.46649611773076, 17.541871517339676, 15.673033721323119, 26.7226951752457, 37.68714949355646, 15.635176607548587, 13.779864117243356, 12.670498037256811, 21.36364139484838, 12.62251210105597, 11.893752893143835, 11.235632049719959, 10.325905356156776, 10.116372247002952, 18.309351443066678, 9.902391105494715, 10.371004753112025, 9.795597237064918, 17.827033302004242, 3189.845434676764, 17.85569929758347, 99.0207692068628, 72.67551615191186, 33.34379780486428, 24.547736018814888, 21.401456743060898, 106.85623653936925, 21.522254873888976, 33.2619831107089, 32.84625409553372, 3203.6263671840293, 41.090142817139224, 80.53156447555749, 2205.381536703971, 30.233645740251756, 1323.1584411544814, 3379.7540379525626, 57.78018683535183, 439.9677210642687, 3386.3785842201332, 416.2443213738428, 1053.0513362455902, 967.1841861936583, 845.5083749835638, 281.10331452709386, 3328.85226194346, 102.58955294977147, 118.28682955892899, 1387.2981865864676, 2325.7546503947956, 155.56894741029046, 95.42677523181246, 375.32497814891866, 151.129758576816, 208.33347826339414, 135.98231077152482, 736.8010779575576, 193.54614121743845, 364.10925951498376, 248.96461216490292, 297.9849223582232, 876.3893249603162, 407.82434095913226, 219.1769390958287, 759.6938225942448, 684.031783135832, 1002.6187141418584, 718.5491716768497, 397.7960792279391, 385.08869950487224, 689.0048490230362, 817.4488153647692, 449.92264785767134, 490.2397478456786, 415.21034617511873, 418.02363131949346, 517.1874704799469, 406.44365231554565], \"Total\": [9721.0, 3621.0, 9947.0, 8439.0, 6093.0, 5795.0, 19623.0, 6282.0, 11627.0, 4378.0, 26718.0, 5213.0, 28570.0, 5762.0, 5069.0, 12941.0, 11093.0, 17146.0, 14161.0, 2813.0, 4862.0, 2141.0, 2526.0, 2355.0, 2782.0, 2041.0, 2790.0, 5531.0, 3835.0, 1734.0, 56.13412073683037, 43.93745237451064, 93.71764293657468, 34.391941669756875, 31.619809207686398, 29.430579157459583, 35.198061561094185, 25.820489928771586, 22.429079434676623, 36.965826346233605, 23.687348518213067, 25.10015792330356, 21.20205973530208, 37.89914448076974, 18.308823269450034, 17.95451563604544, 23.80913456249704, 26.460693995152884, 17.852070840478284, 21.560646122828313, 50.506041232611096, 18.111416393342143, 18.53595617489047, 15.796514183097058, 19.24958327648828, 14.568446957482964, 18.924225463513174, 22.299236730038096, 14.846112416021619, 16.861406422615712, 21.771452515053625, 68.13211264474374, 25.975146733803058, 61.98658947433052, 132.2975885653566, 286.5621052104732, 23.25369616794342, 28.35487548375611, 3160.9500741038364, 945.9993127147452, 806.5239563180675, 146.5379268931222, 3835.4551561227386, 3336.753394551134, 39.40075944773858, 787.845298537067, 1117.5350968720425, 19623.523725485593, 85.12626409764619, 1510.699930745511, 17146.31046701158, 2811.2076724872713, 14161.160234010027, 1890.6336012660674, 892.8327529915821, 4221.149503172061, 848.3288650138866, 911.9337955689231, 304.9549082403764, 458.4415315576387, 2359.68215791117, 1737.972285520565, 5954.62952749129, 3300.581325685353, 1929.1596448866442, 6462.477128983347, 28570.279083456728, 26718.186798207353, 1766.3580860952165, 3515.4014012025264, 1153.4917537890908, 1642.6489679070721, 2097.049399028195, 8579.407312896326, 11093.054511460428, 3232.710079838886, 3705.865013260446, 3548.0269710287394, 12941.58459286547, 4378.925114354459, 11627.804599040302, 4780.141114945534, 6282.968443952061, 311.6399871932264, 69.55215203213275, 129.79028369336098, 66.37215678807523, 35.52165169678908, 29.058463874494393, 34.13799456907091, 25.93555412076617, 26.29205403011269, 26.77485496197406, 19.938253930866658, 19.836401745170438, 22.144525568960937, 22.07374050923896, 22.884195721306885, 23.168879330993484, 21.316673710337245, 22.666452766331275, 17.719370790281065, 16.748357471466353, 17.972089816276448, 63.71295726854054, 19.56288208726981, 19.709100890906562, 21.62840301178142, 20.490963723655728, 15.671651251300462, 15.082053662112948, 17.28301583356374, 36.267217707861064, 39.351094287519295, 30.904242481361514, 99.06157468459301, 5213.079483955301, 217.4463223659485, 86.59854346208517, 5069.584983261306, 485.16315279812056, 2782.6232807720407, 684.3423617383024, 269.8672453000698, 69.2524723228628, 85.56266302780608, 1887.2869148140292, 949.3795506362103, 11093.054511460428, 267.326293033462, 118.16475503542948, 5531.567169490778, 11627.804599040302, 551.7733014564074, 636.6908690129192, 322.2920297940372, 2011.0330482262088, 545.3432503655913, 2323.5765195585245, 762.0089518281624, 343.55443213745514, 423.59381594694605, 1204.5873680590048, 26718.186798207353, 2741.7837982273577, 926.1287837229702, 2543.99617173579, 4266.03191633532, 19623.523725485593, 4862.20317437142, 28570.279083456728, 12941.58459286547, 5762.449342198655, 3232.710079838886, 3279.246136222679, 3705.865013260446, 8579.407312896326, 9947.98305863457, 6093.9754580222125, 1970.1956025242134, 17146.31046701158, 2641.2178962023336, 14161.160234010027, 5954.62952749129, 8439.110449859169, 3507.4587493338227, 34.71340018415593, 30.87730453946899, 34.77376749245299, 86.02900214090315, 22.536571601149433, 20.88488140134266, 25.258385104208983, 18.527227654653053, 18.40487593484459, 40.29639049137948, 37.95802685217524, 15.625764835126146, 15.495103189577117, 29.20592504961767, 14.678721622851548, 14.979595811353, 53.739582731507845, 13.802832177233197, 13.279503144920412, 22.332200990415863, 17.392207019526516, 38.08583998315282, 12.735384565309948, 15.157063833403864, 94.52397520499079, 12.876832412876201, 13.986081997303645, 18.129659765334427, 15.180892589587483, 17.257303060034634, 42.00505237115733, 55.89071194835237, 32.073676799527874, 372.39869158327855, 27.050554286403212, 140.23764402248824, 26.771816340964378, 358.7465391004478, 44.169853828134805, 6282.968443952061, 105.53956215055891, 64.41096278863992, 268.1732525497456, 34.349568080122765, 559.6895794564856, 1535.0129069488187, 1734.6911552459833, 1097.1337041705929, 2790.7819856035894, 203.59969180447698, 126.08451578630076, 53.659331595418145, 211.51526783757953, 153.3395562119961, 649.0036839686124, 178.70997264477435, 289.2454560159402, 169.18952001320542, 891.5785853714252, 3507.4587493338227, 28570.279083456728, 622.2558384258796, 1172.8389467876736, 253.50139160219922, 26718.186798207353, 304.95565713524536, 2641.2178962023336, 2272.239404589744, 1734.3899447145488, 8579.407312896326, 954.473362560807, 4266.03191633532, 919.553809736735, 17146.31046701158, 6462.477128983347, 721.7206025516166, 4780.141114945534, 2281.1357747234147, 2097.049399028195, 720.2141831405173, 1307.9054965492567, 14161.160234010027, 3515.4014012025264, 12941.58459286547, 3548.0269710287394, 4862.20317437142, 1737.4356325298156, 1447.4119374751376, 1353.6141897315085, 3300.581325685353, 2323.5765195585245, 11093.054511460428, 19623.523725485593, 2741.7837982273577, 73.43923824529749, 62.93473246473523, 25.029320171862462, 25.29611001658582, 22.011797810297736, 22.127825702359885, 21.04989302012828, 31.26475269419152, 21.14462402732338, 19.59784614389504, 21.828624291100816, 18.0437209719976, 22.220867550414635, 16.964096585730477, 17.52530851440028, 18.22549473528574, 17.072459835181977, 16.241460333948023, 64.92113365460118, 22.39808417371359, 19.652828098056816, 34.26028272175901, 15.29415133665703, 14.814627046107045, 15.154718117352601, 14.455917594761608, 13.947168350156236, 55.56548774578868, 17.699870300123784, 25.772746951747163, 39.606251472583175, 24.44227346625537, 9721.94156471497, 98.15133231635575, 2141.644671203248, 5795.228803991689, 250.85232732577532, 45.33075871681415, 202.00914613295953, 158.07535413876818, 409.23768702767546, 174.73098051425129, 393.9560533291602, 264.6386051040282, 1628.10502448168, 5762.449342198655, 1231.41676243495, 672.0524058884206, 2718.506981373701, 1352.6217027373646, 525.9427092295756, 190.80175721644076, 721.6353503366103, 1711.9668000392585, 1556.4280266227506, 803.9183340295903, 9947.98305863457, 847.8159247179865, 1384.1386669831986, 2543.99617173579, 8439.110449859169, 1118.5684487912345, 19623.523725485593, 1141.5926128853898, 14161.160234010027, 1260.7309597829228, 722.9861669892879, 28570.279083456728, 2910.059219398111, 17146.31046701158, 26718.186798207353, 1499.2105935948955, 4221.149503172061, 12941.58459286547, 6462.477128983347, 2717.3553200572937, 5954.62952749129, 2355.026861363607, 11627.804599040302, 8579.407312896326, 3279.246136222679, 5069.584983261306, 3548.0269710287394, 4862.20317437142, 4780.141114945534, 40.3025243928708, 37.72200522763818, 30.42450167763987, 29.616826482837816, 25.310929281844178, 24.746295125786443, 38.685964522018004, 19.26180372555038, 30.180068536496144, 26.97488464546802, 23.470707360595306, 37.24057524831784, 18.438227021467696, 16.49972040366682, 28.280244639862, 39.899839642948926, 16.56510800201179, 14.7333777088327, 13.548367517842713, 22.87698907563186, 13.524895165911989, 12.750254668881457, 12.113869214422854, 11.13908233509166, 10.929249229227185, 19.78779146514248, 10.709394730218527, 11.224678038838398, 10.602861908923462, 19.309430213467017, 3621.338844079528, 19.343811484953775, 109.16016124753683, 80.80858968355733, 37.412316477718505, 27.278208457732134, 23.780852594526188, 133.4518241856746, 24.002435746102787, 38.56096737056393, 38.13745959525814, 6093.9754580222125, 49.127737880942696, 104.83072650095745, 4378.925114354459, 35.10953919405196, 2813.348986822686, 8439.110449859169, 74.7466276948347, 834.5811232671385, 9947.98305863457, 812.0544730053878, 2526.123204063228, 2355.026861363607, 2041.0091930929461, 556.3992281586343, 12941.58459286547, 158.01377379582317, 190.74628709562, 4862.20317437142, 11627.804599040302, 298.02876071722824, 153.62035928202988, 1062.4643594257716, 299.99601533655095, 484.77334533850853, 262.7105149285766, 3279.246136222679, 469.51726544501537, 1257.7906422336544, 696.6748430099587, 933.0906289063576, 5795.228803991689, 1628.10502448168, 576.3517606272246, 5762.449342198655, 4780.141114945534, 9721.94156471497, 5531.567169490778, 1777.2994745328206, 1711.9668000392585, 5954.62952749129, 11093.054511460428, 2811.2076724872713, 3835.4551561227386, 2741.7837982273577, 2910.059219398111, 28570.279083456728, 4266.03191633532], \"Category\": [\"Default\", \"Default\", \"Default\", \"Default\", \"Default\", \"Default\", \"Default\", \"Default\", \"Default\", \"Default\", \"Default\", \"Default\", \"Default\", \"Default\", \"Default\", \"Default\", \"Default\", \"Default\", \"Default\", \"Default\", \"Default\", \"Default\", \"Default\", \"Default\", \"Default\", \"Default\", \"Default\", \"Default\", \"Default\", \"Default\", \"Topic1\", \"Topic1\", \"Topic1\", \"Topic1\", \"Topic1\", \"Topic1\", \"Topic1\", \"Topic1\", \"Topic1\", \"Topic1\", \"Topic1\", \"Topic1\", \"Topic1\", \"Topic1\", \"Topic1\", \"Topic1\", \"Topic1\", \"Topic1\", \"Topic1\", \"Topic1\", \"Topic1\", \"Topic1\", \"Topic1\", \"Topic1\", \"Topic1\", \"Topic1\", \"Topic1\", \"Topic1\", \"Topic1\", \"Topic1\", \"Topic1\", \"Topic1\", \"Topic1\", \"Topic1\", \"Topic1\", \"Topic1\", \"Topic1\", \"Topic1\", \"Topic1\", \"Topic1\", \"Topic1\", \"Topic1\", \"Topic1\", \"Topic1\", \"Topic1\", \"Topic1\", \"Topic1\", \"Topic1\", \"Topic1\", \"Topic1\", \"Topic1\", \"Topic1\", \"Topic1\", \"Topic1\", \"Topic1\", \"Topic1\", \"Topic1\", \"Topic1\", \"Topic1\", \"Topic1\", \"Topic1\", \"Topic1\", \"Topic1\", \"Topic1\", \"Topic1\", \"Topic1\", \"Topic1\", \"Topic1\", \"Topic1\", \"Topic1\", \"Topic1\", \"Topic1\", \"Topic1\", \"Topic1\", \"Topic1\", \"Topic1\", \"Topic1\", \"Topic1\", \"Topic1\", \"Topic1\", \"Topic1\", \"Topic1\", \"Topic1\", \"Topic2\", \"Topic2\", \"Topic2\", \"Topic2\", \"Topic2\", \"Topic2\", \"Topic2\", \"Topic2\", \"Topic2\", \"Topic2\", \"Topic2\", \"Topic2\", \"Topic2\", \"Topic2\", \"Topic2\", \"Topic2\", \"Topic2\", \"Topic2\", \"Topic2\", \"Topic2\", \"Topic2\", \"Topic2\", \"Topic2\", \"Topic2\", \"Topic2\", \"Topic2\", \"Topic2\", \"Topic2\", \"Topic2\", \"Topic2\", \"Topic2\", \"Topic2\", \"Topic2\", \"Topic2\", \"Topic2\", \"Topic2\", \"Topic2\", \"Topic2\", \"Topic2\", \"Topic2\", \"Topic2\", \"Topic2\", \"Topic2\", \"Topic2\", \"Topic2\", \"Topic2\", \"Topic2\", \"Topic2\", \"Topic2\", \"Topic2\", \"Topic2\", \"Topic2\", \"Topic2\", \"Topic2\", \"Topic2\", \"Topic2\", \"Topic2\", \"Topic2\", \"Topic2\", \"Topic2\", \"Topic2\", \"Topic2\", \"Topic2\", \"Topic2\", \"Topic2\", \"Topic2\", \"Topic2\", \"Topic2\", \"Topic2\", \"Topic2\", \"Topic2\", \"Topic2\", \"Topic2\", \"Topic2\", \"Topic2\", \"Topic2\", \"Topic2\", \"Topic2\", \"Topic2\", \"Topic2\", \"Topic2\", \"Topic2\", \"Topic2\", \"Topic3\", \"Topic3\", \"Topic3\", \"Topic3\", \"Topic3\", \"Topic3\", \"Topic3\", \"Topic3\", \"Topic3\", \"Topic3\", \"Topic3\", \"Topic3\", \"Topic3\", \"Topic3\", \"Topic3\", \"Topic3\", \"Topic3\", \"Topic3\", \"Topic3\", \"Topic3\", \"Topic3\", \"Topic3\", \"Topic3\", \"Topic3\", \"Topic3\", \"Topic3\", \"Topic3\", \"Topic3\", \"Topic3\", \"Topic3\", \"Topic3\", \"Topic3\", \"Topic3\", \"Topic3\", \"Topic3\", \"Topic3\", \"Topic3\", \"Topic3\", \"Topic3\", \"Topic3\", \"Topic3\", \"Topic3\", \"Topic3\", \"Topic3\", \"Topic3\", \"Topic3\", \"Topic3\", \"Topic3\", \"Topic3\", \"Topic3\", \"Topic3\", \"Topic3\", \"Topic3\", \"Topic3\", \"Topic3\", \"Topic3\", \"Topic3\", \"Topic3\", \"Topic3\", \"Topic3\", \"Topic3\", \"Topic3\", \"Topic3\", \"Topic3\", \"Topic3\", \"Topic3\", \"Topic3\", \"Topic3\", \"Topic3\", \"Topic3\", \"Topic3\", \"Topic3\", \"Topic3\", \"Topic3\", \"Topic3\", \"Topic3\", \"Topic3\", \"Topic3\", \"Topic3\", \"Topic3\", \"Topic3\", \"Topic3\", \"Topic3\", \"Topic3\", \"Topic3\", \"Topic3\", \"Topic3\", \"Topic3\", \"Topic3\", \"Topic3\", \"Topic3\", \"Topic3\", \"Topic3\", \"Topic3\", \"Topic4\", \"Topic4\", \"Topic4\", \"Topic4\", \"Topic4\", \"Topic4\", \"Topic4\", \"Topic4\", \"Topic4\", \"Topic4\", \"Topic4\", \"Topic4\", \"Topic4\", \"Topic4\", \"Topic4\", \"Topic4\", \"Topic4\", \"Topic4\", \"Topic4\", \"Topic4\", \"Topic4\", \"Topic4\", \"Topic4\", \"Topic4\", \"Topic4\", \"Topic4\", \"Topic4\", \"Topic4\", \"Topic4\", \"Topic4\", \"Topic4\", \"Topic4\", \"Topic4\", \"Topic4\", \"Topic4\", \"Topic4\", \"Topic4\", \"Topic4\", \"Topic4\", \"Topic4\", \"Topic4\", \"Topic4\", \"Topic4\", \"Topic4\", \"Topic4\", \"Topic4\", \"Topic4\", \"Topic4\", \"Topic4\", \"Topic4\", \"Topic4\", \"Topic4\", \"Topic4\", \"Topic4\", \"Topic4\", \"Topic4\", \"Topic4\", \"Topic4\", \"Topic4\", \"Topic4\", \"Topic4\", \"Topic4\", \"Topic4\", \"Topic4\", \"Topic4\", \"Topic4\", \"Topic4\", \"Topic4\", \"Topic4\", \"Topic4\", \"Topic4\", \"Topic4\", \"Topic4\", \"Topic4\", \"Topic4\", \"Topic4\", \"Topic4\", \"Topic4\", \"Topic4\", \"Topic4\", \"Topic4\", \"Topic4\", \"Topic4\", \"Topic4\", \"Topic4\", \"Topic5\", \"Topic5\", \"Topic5\", \"Topic5\", \"Topic5\", \"Topic5\", \"Topic5\", \"Topic5\", \"Topic5\", \"Topic5\", \"Topic5\", \"Topic5\", \"Topic5\", \"Topic5\", \"Topic5\", \"Topic5\", \"Topic5\", \"Topic5\", \"Topic5\", \"Topic5\", \"Topic5\", \"Topic5\", \"Topic5\", \"Topic5\", \"Topic5\", \"Topic5\", \"Topic5\", \"Topic5\", \"Topic5\", \"Topic5\", \"Topic5\", \"Topic5\", \"Topic5\", \"Topic5\", \"Topic5\", \"Topic5\", \"Topic5\", \"Topic5\", \"Topic5\", \"Topic5\", \"Topic5\", \"Topic5\", \"Topic5\", \"Topic5\", \"Topic5\", \"Topic5\", \"Topic5\", \"Topic5\", \"Topic5\", \"Topic5\", \"Topic5\", \"Topic5\", \"Topic5\", \"Topic5\", \"Topic5\", \"Topic5\", \"Topic5\", \"Topic5\", \"Topic5\", \"Topic5\", \"Topic5\", \"Topic5\", \"Topic5\", \"Topic5\", \"Topic5\", \"Topic5\", \"Topic5\", \"Topic5\", \"Topic5\", \"Topic5\", \"Topic5\", \"Topic5\", \"Topic5\", \"Topic5\", \"Topic5\", \"Topic5\", \"Topic5\", \"Topic5\", \"Topic5\", \"Topic5\", \"Topic5\", \"Topic5\", \"Topic5\", \"Topic5\", \"Topic5\", \"Topic5\", \"Topic5\", \"Topic5\", \"Topic5\"], \"logprob\": [30.0, 29.0, 28.0, 27.0, 26.0, 25.0, 24.0, 23.0, 22.0, 21.0, 20.0, 19.0, 18.0, 17.0, 16.0, 15.0, 14.0, 13.0, 12.0, 11.0, 10.0, 9.0, 8.0, 7.0, 6.0, 5.0, 4.0, 3.0, 2.0, 1.0, -8.0796, -8.3304, -7.5745, -8.5787, -8.6666, -8.7412, -8.5636, -8.8737, -9.0191, -8.5199, -8.9692, -8.9115, -9.0813, -8.502, -9.232, -9.2523, -8.971, -8.866, -9.263, -9.0754, -8.2252, -9.2514, -9.229, -9.3892, -9.1927, -9.4716, -9.2107, -9.0467, -9.4542, -9.3273, -9.0725, -7.9485, -8.9006, -8.0534, -7.333, -6.6254, -9.0155, -8.8317, -4.4501, -5.5926, -5.7437, -7.3175, -4.3201, -4.4501, -8.5282, -5.8277, -5.5239, -2.9859, -7.8349, -5.2752, -3.1607, -4.7537, -3.3636, -5.1173, -5.7821, -4.4433, -5.8603, -5.8026, -6.7372, -6.4037, -5.0299, -5.2894, -4.2949, -4.8027, -5.2456, -4.2705, -3.0869, -3.2218, -5.39, -4.8766, -5.7309, -5.4736, -5.3004, -4.288, -4.2106, -5.0509, -4.9725, -5.0066, -4.3008, -5.0301, -4.7244, -5.0542, -5.225, -6.3092, -7.8109, -7.1932, -7.8656, -8.4975, -8.7013, -8.543, -8.8191, -8.8061, -8.7956, -9.0909, -9.0964, -8.9869, -8.9914, -8.9555, -8.9438, -9.0307, -8.9694, -9.2159, -9.2741, -9.2047, -7.9406, -9.1215, -9.1151, -9.0231, -9.0772, -9.3459, -9.3842, -9.2482, -8.508, -8.447, -8.687, -7.5698, -3.7894, -6.822, -7.7053, -3.8727, -6.1099, -4.4879, -5.8051, -6.6723, -7.9372, -7.7504, -4.916, -5.5417, -3.3208, -6.7276, -7.4739, -4.0458, -3.4026, -6.104, -5.9845, -6.5918, -4.9813, -6.1327, -4.9465, -5.9094, -6.5868, -6.4228, -5.5966, -3.1423, -4.9474, -5.8153, -5.0664, -4.6789, -3.6293, -4.6763, -3.4619, -4.0575, -4.6147, -5.0099, -5.0005, -4.9455, -4.506, -4.4304, -4.7723, -5.391, -4.3, -5.2584, -4.5708, -5.0302, -4.9544, -5.3136, -8.369, -8.4887, -8.3702, -7.4734, -8.8162, -8.8934, -8.7044, -9.018, -9.026, -8.2425, -8.308, -9.1989, -9.2082, -8.5752, -9.2632, -9.2468, -7.9695, -9.3292, -9.3694, -8.8502, -9.1018, -8.3213, -9.4168, -9.2429, -7.4161, -9.4096, -9.3277, -9.0684, -9.2463, -9.1188, -8.2316, -7.9552, -8.5051, -6.0872, -8.6775, -7.0709, -8.689, -6.1817, -8.2101, -3.4635, -7.3803, -7.8533, -6.5132, -8.4551, -5.8513, -4.9256, -4.8146, -5.2475, -4.3937, -6.8218, -7.2629, -8.0446, -6.8331, -7.1308, -5.8894, -7.0015, -6.5927, -7.0551, -5.6605, -4.5168, -2.8021, -5.9791, -5.4624, -6.7338, -2.9234, -6.5999, -4.8965, -5.0186, -5.2337, -4.0207, -5.7369, -4.6277, -5.7727, -3.6704, -4.4267, -5.9733, -4.6605, -5.2526, -5.3313, -6.0217, -5.6566, -4.2247, -5.1021, -4.397, -5.1493, -5.031, -5.5492, -5.6203, -5.6443, -5.3906, -5.5463, -5.2518, -5.3041, -5.5469, -7.5888, -7.7614, -8.6842, -8.6748, -8.8183, -8.8144, -8.8644, -8.4714, -8.8632, -8.9399, -8.8335, -9.0257, -8.8195, -9.0898, -9.0576, -9.019, -9.0845, -9.136, -7.7505, -8.8149, -8.9471, -8.3923, -9.1996, -9.2319, -9.2128, -9.2628, -9.2992, -7.9176, -9.0629, -8.6896, -8.2669, -8.751, -2.9647, -7.4033, -4.4622, -3.5287, -6.5528, -8.166, -6.7642, -7.0046, -6.123, -6.9247, -6.1865, -6.5558, -4.9709, -3.8643, -5.277, -5.8151, -4.5918, -5.2215, -6.0694, -6.9545, -5.83, -5.1027, -5.1845, -5.7513, -3.6669, -5.7116, -5.3288, -4.8318, -3.911, -5.5311, -3.3313, -5.5278, -3.6265, -5.4684, -5.8844, -3.2184, -4.9016, -3.7448, -3.5295, -5.3986, -4.7504, -4.0622, -4.4883, -5.024, -4.6581, -5.1635, -4.3355, -4.6542, -5.0782, -4.9761, -5.1694, -5.194, -5.1956, -7.7608, -7.8299, -8.0494, -8.0769, -8.2386, -8.2637, -7.8199, -8.5241, -8.0763, -8.1889, -8.3289, -7.8673, -8.5713, -8.6839, -8.1504, -7.8066, -8.6863, -8.8127, -8.8966, -8.3742, -8.9004, -8.9599, -9.0168, -9.1012, -9.1217, -8.5285, -9.1431, -9.0969, -9.1539, -8.5552, -3.3681, -8.5536, -6.8405, -7.1499, -7.929, -8.2353, -8.3724, -6.7644, -8.3668, -7.9315, -7.944, -3.3638, -7.7201, -7.0472, -3.7372, -8.0269, -4.2481, -3.3103, -7.3792, -5.3492, -3.3084, -5.4046, -4.4764, -4.5615, -4.6959, -5.7972, -3.3255, -6.8051, -6.6628, -4.2008, -3.6841, -6.3888, -6.8775, -5.5081, -6.4177, -6.0967, -6.5233, -4.8336, -6.1704, -5.5384, -5.9186, -5.7388, -4.6601, -5.425, -6.046, -4.803, -4.9079, -4.5255, -4.8586, -5.4499, -5.4824, -4.9006, -4.7297, -5.3268, -5.241, -5.4071, -5.4003, -5.1875, -5.4284], \"loglift\": [30.0, 29.0, 28.0, 27.0, 26.0, 25.0, 24.0, 23.0, 22.0, 21.0, 20.0, 19.0, 18.0, 17.0, 16.0, 15.0, 14.0, 13.0, 12.0, 11.0, 10.0, 9.0, 8.0, 7.0, 6.0, 5.0, 4.0, 3.0, 2.0, 1.0, 1.3931, 1.3872, 1.3856, 1.3839, 1.38, 1.3772, 1.3758, 1.3755, 1.371, 1.3705, 1.3663, 1.3661, 1.3651, 1.3635, 1.3611, 1.3603, 1.3593, 1.3588, 1.3553, 1.3542, 1.3531, 1.3525, 1.3517, 1.3514, 1.3502, 1.35, 1.3493, 1.3491, 1.3485, 1.3481, 1.3473, 1.3304, 1.3427, 1.3201, 1.2824, 1.2171, 1.3384, 1.3239, 0.9917, 1.0556, 1.0639, 1.1956, 0.9283, 0.9375, 1.2984, 1.0034, 0.9576, 0.63, 1.2214, 0.9049, 0.5902, 0.8054, 0.5786, 0.8384, 0.9239, 0.7093, 0.8969, 0.8822, 1.043, 0.9689, 0.7042, 0.7505, 0.5136, 0.5959, 0.69, 0.4562, 0.1534, 0.0855, 0.6337, 0.4589, 0.7189, 0.6228, 0.5518, 0.1553, -0.0243, 0.3685, 0.3103, 0.3197, -0.2686, 0.0857, -0.5851, -0.0261, -0.4702, 1.4494, 1.4474, 1.4413, 1.4396, 1.4328, 1.4298, 1.427, 1.4257, 1.4251, 1.4174, 1.4169, 1.4165, 1.4159, 1.4146, 1.4145, 1.4138, 1.4102, 1.4101, 1.4099, 1.408, 1.4069, 1.4054, 1.4053, 1.4042, 1.4033, 1.4033, 1.4027, 1.4027, 1.4024, 1.4015, 1.3809, 1.3825, 1.3349, 1.1521, 1.2965, 1.3339, 1.0967, 1.206, 1.0814, 1.1668, 1.2302, 1.3254, 1.3007, 1.0416, 1.1029, 0.8655, 1.1843, 1.2544, 0.8363, 0.7366, 1.0833, 1.0596, 1.1331, 0.9127, 1.0663, 0.803, 0.955, 1.0743, 1.0289, 0.81, 0.165, 0.6367, 0.8541, 0.5925, 0.4631, -0.0134, 0.3349, -0.2216, -0.0253, 0.2266, 0.4095, 0.4046, 0.3373, -0.0627, -0.1351, 0.0131, 0.5235, -0.5492, 0.363, -0.6286, -0.2217, -0.4946, 0.0241, 1.5843, 1.5816, 1.5813, 1.5723, 1.569, 1.568, 1.5668, 1.5632, 1.5618, 1.5617, 1.5559, 1.5526, 1.5517, 1.5508, 1.5508, 1.5469, 1.5468, 1.5464, 1.5448, 1.5441, 1.5426, 1.5392, 1.5392, 1.5391, 1.5355, 1.5354, 1.5346, 1.5345, 1.534, 1.5334, 1.5311, 1.5218, 1.5272, 1.4932, 1.5252, 1.4862, 1.5241, 1.4361, 1.5023, 1.2913, 1.461, 1.4818, 1.3956, 1.5087, 1.3217, 1.2385, 1.2272, 1.2524, 1.1726, 1.3624, 1.4005, 1.4732, 1.313, 1.337, 1.1355, 1.3131, 1.2404, 1.3143, 1.0469, 0.8209, 0.4382, 1.0879, 0.9708, 1.2313, 0.3839, 1.1803, 0.7249, 0.7533, 0.8083, 0.4226, 0.9024, 0.5143, 0.9038, 0.0805, 0.2999, 0.9455, 0.3677, 0.5154, 0.5208, 0.8991, 0.6676, -0.2825, 0.2334, -0.3648, 0.1769, -0.0199, 0.491, 0.6026, 0.6455, 0.0079, 0.2032, -1.0655, -1.6882, 0.0372, 1.6152, 1.5969, 1.5961, 1.595, 1.5905, 1.5891, 1.5891, 1.5865, 1.5858, 1.5851, 1.5837, 1.5819, 1.5799, 1.5795, 1.5792, 1.5786, 1.5784, 1.5768, 1.5768, 1.5766, 1.5751, 1.5741, 1.5733, 1.5729, 1.5693, 1.5665, 1.566, 1.5653, 1.564, 1.5615, 1.5545, 1.5531, 1.3536, 1.5106, 1.3689, 1.3069, 1.4228, 1.5204, 1.4279, 1.4327, 1.3632, 1.4124, 1.3377, 1.3663, 1.1344, 0.977, 1.1075, 1.1749, 1.0008, 1.0691, 1.1658, 1.2947, 1.0889, 0.9523, 0.9658, 1.0596, 0.6284, 1.0461, 0.9387, 0.8271, 0.5487, 0.9495, 0.2846, 0.9325, 0.3156, 0.8926, 1.0326, 0.0219, 0.6229, 0.0061, -0.2222, 0.7891, 0.4022, -0.03, 0.2383, 0.569, 0.1504, 0.5726, -0.1963, -0.2109, 0.3268, -0.0067, 0.1569, -0.1828, -0.1675, 2.0432, 2.0402, 2.0358, 2.0352, 2.0305, 2.028, 2.025, 2.0182, 2.017, 2.0166, 2.0158, 2.0157, 2.0147, 2.0131, 2.0079, 2.0075, 2.0068, 1.9976, 1.9975, 1.9961, 1.9955, 1.995, 1.9893, 1.9887, 1.9872, 1.9869, 1.9862, 1.9854, 1.9853, 1.9847, 1.9377, 1.9845, 1.967, 1.9585, 1.9494, 1.9591, 1.9591, 1.8423, 1.9555, 1.9167, 1.9152, 1.4215, 1.8859, 1.8008, 1.3786, 1.915, 1.3102, 1.1495, 1.8071, 1.4243, 0.9869, 1.3962, 1.1895, 1.1746, 1.1833, 1.3818, 0.7067, 1.6326, 1.5867, 0.8104, 0.4552, 1.4144, 1.5884, 1.024, 1.3789, 1.22, 1.406, 0.5715, 1.1783, 0.8249, 1.0355, 0.9231, 0.1756, 0.6802, 1.0977, 0.0383, 0.1203, -0.2072, 0.0235, 0.5676, 0.5726, -0.0921, -0.5433, 0.2322, 0.0074, 0.177, 0.1241, -1.9472, -0.2865]}, \"token.table\": {\"Topic\": [1, 2, 3, 2, 4, 1, 2, 3, 4, 1, 2, 3, 4, 5, 1, 2, 3, 4, 5, 1, 2, 3, 4, 5, 1, 2, 3, 4, 5, 3, 5, 5, 1, 2, 3, 4, 5, 1, 2, 3, 4, 1, 2, 3, 4, 5, 1, 2, 3, 4, 5, 1, 2, 3, 4, 5, 1, 2, 3, 4, 5, 3, 2, 4, 4, 4, 1, 2, 3, 4, 5, 1, 2, 3, 4, 5, 2, 3, 5, 4, 5, 4, 5, 1, 2, 3, 4, 5, 5, 1, 2, 3, 4, 5, 1, 2, 3, 4, 5, 1, 2, 3, 4, 5, 1, 2, 3, 4, 5, 1, 2, 3, 4, 5, 1, 2, 3, 4, 5, 1, 5, 2, 3, 4, 5, 4, 5, 1, 4, 1, 2, 3, 4, 5, 1, 2, 3, 4, 5, 1, 2, 3, 4, 5, 1, 2, 3, 4, 5, 2, 3, 1, 2, 3, 4, 5, 2, 5, 1, 2, 3, 4, 5, 1, 2, 3, 4, 5, 1, 2, 3, 4, 5, 1, 2, 3, 4, 5, 1, 2, 3, 4, 5, 4, 4, 1, 4, 5, 1, 2, 3, 4, 5, 5, 3, 1, 2, 3, 4, 5, 1, 2, 3, 4, 5, 3, 4, 3, 1, 2, 3, 4, 5, 1, 2, 1, 2, 4, 5, 1, 2, 3, 4, 5, 1, 2, 3, 4, 5, 1, 2, 3, 4, 5, 1, 2, 3, 4, 5, 1, 2, 3, 4, 5, 1, 2, 3, 4, 5, 1, 2, 3, 4, 5, 3, 4, 2, 1, 2, 4, 5, 1, 2, 3, 4, 5, 1, 1, 2, 3, 4, 5, 1, 4, 5, 1, 2, 3, 4, 5, 1, 2, 3, 4, 5, 1, 2, 3, 4, 5, 3, 1, 2, 3, 4, 5, 2, 1, 2, 3, 4, 5, 1, 2, 3, 4, 5, 1, 4, 2, 3, 4, 3, 4, 5, 2, 1, 3, 4, 1, 2, 3, 4, 5, 1, 2, 3, 4, 5, 1, 2, 3, 4, 5, 2, 3, 4, 2, 1, 2, 3, 4, 5, 1, 1, 2, 3, 4, 5, 1, 2, 3, 4, 5, 1, 2, 3, 4, 5, 1, 2, 3, 4, 1, 2, 3, 4, 5, 1, 2, 3, 4, 5, 1, 2, 3, 4, 5, 1, 2, 3, 4, 5, 2, 3, 3, 1, 2, 3, 4, 5, 1, 5, 1, 2, 3, 4, 5, 1, 2, 3, 4, 5, 5, 1, 2, 3, 4, 5, 2, 1, 5, 1, 2, 1, 2, 3, 4, 5, 5, 1, 2, 3, 4, 5, 2, 5, 1, 2, 3, 4, 5, 1, 2, 3, 4, 5, 1, 2, 3, 4, 5, 1, 2, 3, 4, 5, 1, 2, 3, 4, 5, 3, 4, 1, 2, 3, 4, 5, 1, 2, 3, 4, 5, 4, 1, 2, 3, 4, 5, 1, 2, 3, 4, 5, 1, 2, 3, 4, 5, 1, 2, 3, 4, 5, 1, 2, 3, 4, 5, 5, 1, 4, 4, 1, 2, 3, 4, 5, 1, 2, 3, 4, 5, 1, 2, 3, 4, 5, 1, 2, 3, 4, 5, 3, 4, 1, 2, 3, 4, 5, 1, 1, 5, 5, 4, 5, 1, 3, 4, 2, 1, 2, 1, 2, 3, 4, 5, 1, 4, 1, 2, 1, 2, 3, 4, 5, 5, 1, 2, 3, 4, 5, 3, 1, 2, 3, 4, 5, 5, 1, 3, 3, 5, 1, 2, 3, 4, 5, 2, 3, 4, 1, 3, 5, 1, 2, 3, 4, 5, 1, 2, 3, 4, 5, 1, 2, 3, 4, 5, 3, 4, 1, 2, 3, 4, 5, 1, 2, 3, 4, 5, 1, 2, 4, 5, 1, 2, 3, 4, 5, 1, 2, 1, 1, 2, 3, 1, 2, 3, 5, 1, 2, 3, 4, 5, 1, 2, 3, 3, 1, 2, 3, 4, 5, 1, 2, 3, 4, 5, 1, 2, 3, 4, 5, 1, 2, 3, 4, 5, 2, 1, 1, 2, 3, 4, 5, 1, 2, 3, 4, 5, 4, 1, 2, 3, 4, 5, 2, 3, 4, 1, 2, 3, 4, 5, 5, 4, 4, 3, 1, 2, 3, 4, 5, 4, 1, 2, 3, 4, 5, 1, 2, 3, 4, 5, 4, 1, 2, 3, 4, 5, 1, 1, 2, 4, 5, 2, 5, 1, 2, 3, 4, 5, 1, 2, 3, 4, 5, 3, 1, 2, 3, 4, 5, 2, 3, 2, 1, 2, 3, 4, 5, 1, 2, 3, 4, 5, 1, 2, 5, 3, 3, 1, 1, 2, 3, 4, 5, 1, 2, 3, 4, 5, 4, 5, 1, 3, 5, 3, 1, 1, 3, 4, 1, 2, 3, 4, 5, 1, 2, 3, 4, 5, 2, 1, 2, 5, 2, 3, 4, 4, 5, 1, 2, 3, 4, 5, 1, 2, 3, 4, 5, 2, 1, 2, 3, 4, 5, 2, 3, 1, 2, 3, 4, 5, 1, 2, 3, 4, 5, 4, 1, 2, 3, 4, 5, 1, 2, 3, 4, 5, 3, 2, 1, 1, 1, 2, 3, 4, 5, 1, 2, 3, 4, 5, 1, 2, 3, 4, 5, 1, 2, 3, 4, 5, 1, 2, 3, 4, 5, 4, 2, 1, 1, 2, 3, 4, 5, 5, 1, 2, 3, 4, 5, 1, 2, 3, 4, 5, 1, 2, 3, 4, 5, 2, 2, 4, 2, 4, 1, 2, 3, 4, 5, 1, 2, 3, 4, 5, 1, 2, 3, 4, 5, 1, 2, 3, 4, 5, 4, 3, 1, 2, 3, 4, 5, 1, 3, 2, 5, 1, 2, 3, 4, 5, 5, 1, 2, 3, 4, 5, 1, 2, 3, 4, 5, 1, 2, 3, 4, 5, 2, 4, 1, 3, 5, 1, 2, 3, 4, 5, 1, 1, 2, 3, 3, 4, 1, 2, 3, 4, 5, 1, 2, 3, 4, 5, 1, 2, 3, 4, 5, 1, 2, 1, 2, 3, 4, 5, 1, 4, 1, 1, 2, 3, 4, 5, 1, 3, 4, 5, 1, 2, 1, 2, 3, 4, 5, 2, 4, 1, 2, 3, 4, 5, 2, 5, 1, 2, 3, 4, 2, 2, 3, 5, 1, 2, 3, 4, 5, 1, 1, 2, 3, 4, 5, 1, 2, 3, 4, 5, 1, 2, 3, 1, 2, 3, 4, 5, 1, 2, 3, 4, 5, 1, 2, 3, 4, 5, 1, 1, 2, 3, 4, 5, 3, 1, 2, 3, 4, 5, 1, 4, 1, 4, 3, 1, 2, 3, 5, 1, 2, 3, 4, 5, 1, 4, 4, 1, 2, 3, 4, 5, 1, 2, 3, 4, 5, 1, 2, 3, 4, 5, 1, 2, 3, 4, 5, 1, 2, 3, 4, 5, 2, 3, 4, 5, 1, 2, 3, 4, 5, 1, 2, 3, 4, 5, 1, 2, 3, 4, 5, 1, 2, 3, 4, 5, 1, 2, 3, 4, 5, 5, 1, 2, 4, 5, 1, 3, 4, 5, 1, 2, 3, 4, 1, 2, 3, 4, 5, 1, 5], \"Freq\": [0.24620897954844267, 0.00559565862610097, 0.744222597271429, 0.9272379892052374, 0.0488019994318546, 0.08075785212855328, 0.878241641898017, 0.02018946303213832, 0.01009473151606916, 0.1228636493494679, 0.5221705097352386, 0.21667170594737245, 0.03901751026638508, 0.09961917514821722, 0.15352990841060535, 0.0885217489935022, 0.13416577581827677, 0.5518777788813652, 0.07192392105722052, 0.1910010006530801, 0.20288355138495373, 0.425131259518146, 0.15887410422986614, 0.022004723577543787, 0.03965594005591015, 0.00793118801118203, 0.808981177140567, 0.1348301961900945, 0.00793118801118203, 0.0516961200111897, 0.9305301602014145, 0.9611904447706974, 0.016724900022854355, 0.02229986669713914, 0.8418199678170024, 0.030662316708566315, 0.08919946678855656, 0.9503813569337329, 0.03959922320557221, 0.019799611602786104, 0.9694942934287053, 0.06744006726710676, 0.1124001121118446, 0.014986681614912612, 0.007493340807456306, 0.8017874663978247, 0.07708323890435612, 0.2070557074219201, 0.13053511989642788, 0.36178483660949623, 0.2239352487878375, 0.06851648098247488, 0.2626465104328204, 0.04567765398831659, 0.10277472147371232, 0.5176800785342547, 0.062013500006235754, 0.25202922438431713, 0.08586484616248027, 0.3108625449030536, 0.28939633336243353, 0.9794488531699196, 0.9247099746155832, 0.04623549873077916, 0.9540338404424018, 0.915382598996833, 0.13507339933008364, 0.6706551338830896, 0.05968359505282765, 0.10209035995878414, 0.03298303937129949, 0.2020973633321934, 0.603667448914344, 0.07086530922037951, 0.08136387354932462, 0.04199425731578045, 0.023806659998039843, 0.9284597399235539, 0.047613319996079685, 0.03313445093044505, 0.9608990769829064, 0.050125514736334004, 0.952384779990346, 0.6239598057800355, 0.12287392909212996, 0.07012804733550831, 0.13456193698138136, 0.048550186616890374, 0.9762326919525686, 0.05219922911715436, 0.3719195074597248, 0.4948051926730257, 0.042411873657687914, 0.03806193789792505, 0.08270530260414392, 0.21145273243121332, 0.5286318310780334, 0.09720004635950935, 0.08014740664731473, 0.027908847029261094, 0.4202050348490156, 0.029088094086835506, 0.44890004658332633, 0.07429256462718799, 0.23852762981254363, 0.5519669982396843, 0.06896206984376262, 0.06688870042362334, 0.07364968766320791, 0.07956688195785894, 0.3107720969223621, 0.4491492829360298, 0.047278871888003136, 0.11358460685288559, 0.047765522393397146, 0.1802763264524989, 0.6224926144171756, 0.09090857487775585, 0.05701046221147401, 0.9433045774651501, 0.9344919227955467, 0.0621012297724181, 0.884942524256958, 0.03105061488620905, 0.015525307443104526, 0.9450576109305933, 0.9502233823549479, 0.946086155126095, 0.04300391614209523, 0.06350534272181005, 0.23531437070562175, 0.07679715864032843, 0.09862199218554998, 0.5257651629991716, 0.05513908547659211, 0.10077143207790973, 0.08746199765252542, 0.629346113543172, 0.12739030092867834, 0.07173621909269257, 0.03260737231486026, 0.76301251216773, 0.11738654033349694, 0.013042948925944103, 0.02296623763658893, 0.37607214129914374, 0.030143186898022974, 0.21387308799073443, 0.35741207321941526, 0.9383824896368202, 0.032358016884028284, 0.1455569311933487, 0.03797137335478662, 0.07594274670957324, 0.09492843338696655, 0.6518419092571703, 0.9483156428257298, 0.9431415862903875, 0.06367306839478656, 0.04124082207684008, 0.018636020017986313, 0.7252517790333006, 0.15115882903477787, 0.09103134173299521, 0.21096152211138572, 0.023841541882451123, 0.5021173214637434, 0.17194808994010205, 0.5178448514387144, 0.09378745642723384, 0.26697779007507055, 0.07997826038886811, 0.042002971283362396, 0.09229150938930403, 0.15888158578411832, 0.015187210405834841, 0.5087715485954671, 0.22488753870178513, 0.28487646117229526, 0.18610248728997345, 0.3102874835105538, 0.20062807168443253, 0.01809572802875988, 0.9421560013249278, 0.9450119774482537, 0.9386344850560276, 0.07331859799733625, 0.9164824749667031, 0.0698913047867143, 0.25859782771084294, 0.07356979451233085, 0.534116708159522, 0.06363787225316618, 0.9411576718767395, 0.9319062029572264, 0.6586627283539964, 0.10914440023157002, 0.0730792940680947, 0.10692987616890047, 0.05188313518254342, 0.28545095374114376, 0.21819689073230755, 0.3054989586588558, 0.15898534132418135, 0.03193693806658775, 0.9777485286108006, 0.9667819768839598, 0.9576305278283375, 0.059239322231922555, 0.8124249906092236, 0.03385104127538432, 0.04231380159423039, 0.05077656191307647, 0.949889515798084, 0.026385819883280114, 0.8843698609230553, 0.02267615028007834, 0.07558716760026114, 0.015117433520052227, 0.6434844569986574, 0.04362606488126491, 0.10252125247097253, 0.1592351368166169, 0.05016997461345464, 0.03553695870819035, 0.060920500642612015, 0.1167642928983397, 0.7488144870654394, 0.040613667095074676, 0.08342111460476836, 0.14160260220553722, 0.03460080321675051, 0.3398462452932893, 0.4005161468240299, 0.04385050008212437, 0.06776895467237402, 0.035877681885374484, 0.8132274560684883, 0.03986409098374943, 0.023638955481168622, 0.18911164384934898, 0.7422632021086948, 0.014183373288701173, 0.03309453767363607, 0.09928883447862426, 0.7198440499700259, 0.1148027148659093, 0.05895274547168316, 0.006205552154914016, 0.14046550287783569, 0.3339368558982509, 0.4134456311121201, 0.09086717167299344, 0.021202340057031803, 0.050497078760015184, 0.9341959570602809, 0.9459111418753275, 0.027573110461772368, 0.9374857557002605, 0.027573110461772368, 0.027573110461772368, 0.3856106490224488, 0.06669269250749416, 0.2701750373969485, 0.24913047549203152, 0.02831731491617501, 0.9660157927885565, 0.3689343622047974, 0.11399657259136999, 0.3654799206111195, 0.03385352761804321, 0.11745101418504786, 0.9246741008677694, 0.04403210004132235, 0.02935473336088157, 0.1009969527104405, 0.7749970248801148, 0.08450765430873593, 0.018550460701917643, 0.018550460701917643, 0.1576744610715794, 0.12701553808543894, 0.1979690455676497, 0.49842649083182594, 0.018395353791684263, 0.6371164556646796, 0.1064843514383383, 0.08053438344076005, 0.06174302730458271, 0.11543261626508941, 0.9501795107241717, 0.030233208018709337, 0.3247499010989255, 0.1962073499989708, 0.16350612499914233, 0.2852616294010194, 0.9282555488559802, 0.034480445500623735, 0.2068826730037424, 0.20072545059291674, 0.045563445840109934, 0.5122809045806955, 0.03414814226626305, 0.4007913539671927, 0.026959059683891885, 0.03235087162067026, 0.5050330514115746, 0.05399034763673735, 0.935832692370114, 0.1827177003452669, 0.8091783872433249, 0.0037289326601074877, 0.21538807604277374, 0.7708625879425587, 0.011336214528567038, 0.955317560379201, 0.037216515245240035, 0.9490211387536209, 0.018608257622620018, 0.5899551070638422, 0.08662909564692106, 0.15242334550534212, 0.10198108728055265, 0.06908396235134212, 0.038695292412144325, 0.03378160448679266, 0.06694899798291637, 0.6105257247249438, 0.25059808419293467, 0.04521186662205429, 0.05790291690192918, 0.21098871090292004, 0.4790871480652771, 0.20622956704796694, 0.02481611846137752, 0.9430125015323458, 0.9431684097730594, 0.9513566579805744, 0.7079764903781924, 0.05703488363817312, 0.01859833162114341, 0.21326086925577775, 0.002479777549485788, 0.9709824627402021, 0.034908822973382665, 0.018797058524129127, 0.8915176328586958, 0.034908822973382665, 0.018797058524129127, 0.44091118112814787, 0.1341396450522143, 0.2169562954757553, 0.19747688615078157, 0.010497885264955901, 0.0957646670816569, 0.027361333451901972, 0.6905479395003831, 0.17719720711707942, 0.008468984163683944, 0.026256477484607074, 0.026256477484607074, 0.9452331894458547, 0.026256477484607074, 0.19555657428165382, 0.2941265884438639, 0.06254643468927389, 0.03127321734463694, 0.4168442767582621, 0.04721504244647647, 0.6492068336390515, 0.011803760611619118, 0.03541128183485735, 0.254961229210973, 0.4435582267302582, 0.19723798196816808, 0.20178263593056828, 0.11482825678331138, 0.04271974724656175, 0.07003962983071554, 0.1017909286873066, 0.024747335873519495, 0.7718367207344854, 0.031751298856591045, 0.9417236708556631, 0.031390789028522104, 0.9036482667342988, 0.06438370558614866, 0.8507846809598215, 0.01839534445318533, 0.022994180566481663, 0.045988361132963326, 0.03536037303547455, 0.9547300719578129, 0.05542965707173548, 0.128873952691785, 0.0956161584487437, 0.5833971406800159, 0.1371884012525453, 0.017350515228959012, 0.05552164873266884, 0.02776082436633442, 0.5170453538229786, 0.3799762835142024, 0.9658856433689923, 0.03507016566830299, 0.7467022773542845, 0.020457596639843412, 0.06283404682237619, 0.13589689196467408, 0.9853145427683975, 0.08410127399975367, 0.8830633769974136, 0.9797962322747089, 0.9705973946077163, 0.06455651248447657, 0.4391301753181344, 0.20789385376356861, 0.13713699827210843, 0.15136131458224733, 0.9337595869711629, 0.2312328005826269, 0.11524701882073417, 0.3819404405789716, 0.10268804882103878, 0.16991547646646704, 0.08662445449687556, 0.9033693111817023, 0.19019158570413885, 0.07542080122750333, 0.652553888881442, 0.01311666108304406, 0.06886247068598131, 0.4358399946056023, 0.1238599077346446, 0.15090571426963256, 0.26911636737555905, 0.020196085297667248, 0.20571472411941102, 0.19246654868417165, 0.18253041710774215, 0.34666059055542964, 0.07286496489381643, 0.11010605514554304, 0.02709416016670431, 0.6831187190966937, 0.17063556190094628, 0.008647072393629034, 0.12199064460049883, 0.18212687785426585, 0.1862505052773813, 0.36597193380149645, 0.14363968857185497, 0.031984900369475294, 0.9595470110842588, 0.13613919863519658, 0.48513027132100056, 0.01737215295281725, 0.1613374204925008, 0.20003776122897488, 0.26627539168865, 0.09637068206913404, 0.06097386756506822, 0.07284892791481934, 0.5035482321384848, 0.9487624770869512, 0.058214938097489184, 0.6811147757406235, 0.07276867262186149, 0.13098361071935066, 0.058214938097489184, 0.4244058344130757, 0.12016884300235403, 0.33714036508993767, 0.0815431434658831, 0.036718257584052616, 0.13019107684341646, 0.24085349216032048, 0.006509553842170824, 0.006509553842170824, 0.6184076150062283, 0.12623204865957977, 0.07889503041223736, 0.6863867645864651, 0.10256353953590856, 0.007889503041223735, 0.06306476138512654, 0.11287158997906169, 0.6467721267054171, 0.11681313756563211, 0.06055650383003627, 0.9595251961448098, 0.9738724535145685, 0.027052012597626903, 0.9490313364932369, 0.1613455189433734, 0.13200997004457823, 0.49346584040473296, 0.1896333696672116, 0.024097058024010316, 0.10664151466247154, 0.0993497871641829, 0.7009173057729967, 0.06106821779816747, 0.03190130780501286, 0.26469904489875573, 0.0471074571429989, 0.5697759102057962, 0.10094455102071193, 0.01682409183678532, 0.18683956223822948, 0.22647922122425584, 0.1390092524675661, 0.19047126588802138, 0.25723279681185524, 0.9271437109459842, 0.9684615250624548, 0.1625195461050305, 0.01048513200677616, 0.19397494212535898, 0.01048513200677616, 0.6186227883997936, 0.9495765854501392, 0.05053621076215438, 0.9096517937187789, 0.8977400201537978, 0.04371204605177616, 0.9179529670872993, 0.031178215277604844, 0.9353464583281453, 0.031178215277604844, 0.9639277373288474, 0.9239601318119725, 0.03849833882549886, 0.03795658110455875, 0.13284803386595562, 0.0063260968507597905, 0.8223925905987728, 0.0063260968507597905, 0.919553737080574, 0.06453008681267186, 0.9447975931613715, 0.03779190372645486, 0.06267518533640165, 0.2876630301337409, 0.5946107326786823, 0.04339051292520114, 0.011249392239866962, 0.9697134017158396, 0.102858674112187, 0.5185970807748341, 0.24531148219224516, 0.12609870926724182, 0.007316307363628365, 0.9780017025771922, 0.8340551620890786, 0.03524176741221459, 0.02349451160814306, 0.10572530223664377, 0.01174725580407153, 0.9149759320391221, 0.0747054280713759, 0.9338178508921986, 0.9422565874207623, 0.9808598396802836, 0.23806828556628637, 0.1635934967599613, 0.28911280373691367, 0.16610388289950034, 0.14309200995372573, 0.03423962768859776, 0.9587095752807372, 0.03423962768859776, 0.9511617812155575, 0.02584916809895881, 0.9564192196614759, 0.2625970438677027, 0.08847355599843747, 0.20612456131550858, 0.09035597208351061, 0.3529530159512133, 0.07804107074740614, 0.20744250429438726, 0.0827101946382766, 0.4322274687548648, 0.19943829191003792, 0.07177334297732524, 0.20295571354512557, 0.01688784540642947, 0.3680142978151088, 0.340370503251013, 0.922211913257495, 0.9604590153342033, 0.07105291592060536, 0.34794582431506743, 0.08386073767453422, 0.27231868633948747, 0.22474677696775172, 0.0687553658290352, 0.11902810643521147, 0.07984494096275055, 0.5714827718907979, 0.16116849194332983, 0.02848228780426186, 0.02848228780426186, 0.08544686341278558, 0.8544686341278558, 0.8052522817936655, 0.034120859398036676, 0.07506589067568069, 0.06824171879607335, 0.006824171879607335, 0.9276159854422958, 0.9257643546751768, 0.9710855933282527, 0.05082450783673189, 0.9148411410611741, 0.025412253918365945, 0.9169498915590313, 0.0352673035215012, 0.026852431610738078, 0.9398351063758328, 0.09374268948076611, 0.14284600301831027, 0.09374268948076611, 0.6353671175918592, 0.03422352155647017, 0.9808695030963579, 0.11181652513376307, 0.8758961135478107, 0.9403461848212994, 0.6160168275157191, 0.18592507885019885, 0.07504204989736941, 0.06160168275157191, 0.06160168275157191, 0.019171293902939868, 0.1006492929904343, 0.010783852820403676, 0.34268687851505014, 0.5272105823308464, 0.012217838577662241, 0.021992109439792035, 0.05864562517277876, 0.7672802626771887, 0.13928335978534956, 0.5010872406337843, 0.09709648953457412, 0.2384065591250704, 0.04074584828683021, 0.12137061191821764, 0.9613621674943275, 0.9682233012992786, 0.050195734746149676, 0.0636704094423497, 0.02304066512938018, 0.7599305088208069, 0.10316869252128714, 0.33325552754374027, 0.3254300941034419, 0.11279417855326594, 0.18403260711322336, 0.044524017849973396, 0.9238047116145027, 0.5467401128142586, 0.10280279284536156, 0.09746700774958156, 0.09319837967295755, 0.16007355287340036, 0.04412015277516538, 0.04412015277516538, 0.9044631318908902, 0.1359470068713325, 0.5360144619328469, 0.06273086620259624, 0.1354046650886011, 0.12998124726128732, 0.9638595434871745, 0.9700257194349166, 0.9320888422383153, 0.9599530108299436, 0.03148006991568239, 0.03092778798733709, 0.03451762052158157, 0.022091277133812207, 0.8808896757107617, 0.9588754243105809, 0.6036936796243445, 0.08208115819453807, 0.11848812352276061, 0.14761369578533864, 0.04832197216291354, 0.04000053129551665, 0.18000239082982494, 0.0800010625910333, 0.19666927886962354, 0.5033400188019179, 0.9804023260632112, 0.01342152344751461, 0.27849661153592814, 0.14092599619890342, 0.04697533206630113, 0.5234394144530699, 0.9417362690137298, 0.03464261499171136, 0.8776129131233545, 0.08083276831399318, 0.011547538330570454, 0.9495495956323684, 0.8908941499612816, 0.13936176884751128, 0.6748043544195282, 0.08435054430244103, 0.055011224545070236, 0.045842687120891866, 0.15263485859508436, 0.03947178824982369, 0.7281589969473524, 0.04392828047157798, 0.03581109821052553, 0.9236617430577899, 0.1773828465528302, 0.2546055513021227, 0.38993642992216987, 0.1276850662686321, 0.04969778028419812, 0.026344888892524024, 0.9484160001308648, 0.963574678996592, 0.2527237123194526, 0.08495213395829701, 0.0877957200322149, 0.10379089169800304, 0.4702580469741713, 0.08761198307166838, 0.0840359837626207, 0.16717796769797946, 0.50689790205751, 0.15376797028905065, 0.9609809501903711, 0.05178816717763986, 0.9321870091975175, 0.9346046566483077, 0.9761910724201694, 0.9561692828122748, 0.11757691128004585, 0.3116109397312691, 0.04176229089181956, 0.5159249167097094, 0.013492432441972475, 0.16028040988583153, 0.6849651597363114, 0.00898432790839863, 0.034499819168250734, 0.111405666064143, 0.09160851253529682, 0.9069242740994385, 0.9489125402101493, 0.9537615304458852, 0.9080500874900751, 0.9418356923474436, 0.9468370155233173, 0.011623986970837389, 0.9647909185795033, 0.011623986970837389, 0.09553960669816795, 0.10969362250530394, 0.2158487410588239, 0.5590836243818718, 0.020051522393442656, 0.40842171436055935, 0.18607370868071535, 0.06163271758648243, 0.22822578528618426, 0.11570828996481307, 0.9666648675929564, 0.007704736992197143, 0.9785015980090372, 0.007704736992197143, 0.9578350067761621, 0.9715873988175499, 0.9458669009274281, 0.9312162201776095, 0.03880067584073373, 0.019078375842236803, 0.009539187921118401, 0.009539187921118401, 0.19078375842236803, 0.7726742216105905, 0.4965472079169246, 0.0822050959671626, 0.09215499230900938, 0.29352194208447974, 0.03553534407802418, 0.9529420211960419, 0.030238873625403114, 0.368961140204531, 0.3347372987370205, 0.1704159777183571, 0.095170408464447, 0.05515823313530085, 0.9376899633001144, 0.46026907363797964, 0.21626418958143692, 0.10813209479071846, 0.13247596953417864, 0.08265594680337641, 0.49413434605623435, 0.14874884688313744, 0.03856451585859119, 0.24664338713956122, 0.072043601054511, 0.9501235935439504, 0.7019032583591541, 0.0750529086498493, 0.06553915966606559, 0.12684998645044954, 0.03065541339219197, 0.38658458733478396, 0.08334752324436476, 0.2528871950997961, 0.18063371078556867, 0.09643279993119336, 0.9294954800426775, 0.9712270367546664, 0.9659622857635305, 0.988603677177624, 0.08426556054044916, 0.6994041524857281, 0.03159958520266844, 0.05898589237831441, 0.12429170179716252, 0.036207401199372616, 0.4238395787455971, 0.08306403804561953, 0.04472678971687205, 0.41319034309872277, 0.08874633382269995, 0.09086945185673584, 0.061995046593847816, 0.34819135758188496, 0.41061102778253994, 0.2661857278607386, 0.27393325959121845, 0.2938822181049661, 0.1571962959807511, 0.008832934726537444, 0.33652506301376944, 0.1409233932218465, 0.23900607490425166, 0.2297051309516098, 0.054114582997189055, 0.9375801893201928, 0.95940201270151, 0.9285140694086044, 0.45536204911329287, 0.2702951200619011, 0.0694000983942719, 0.07792291749532285, 0.12723351372283181, 0.9860473745096093, 0.1558611113894107, 0.686876293216124, 0.028997416072448504, 0.06161950915395307, 0.06524418616300913, 0.03835174712627976, 0.29136915576933814, 0.017006657096721344, 0.5214796385270167, 0.13188836115824715, 0.6919055712777124, 0.10165437303132267, 0.06886263979541213, 0.003279173323591054, 0.13444610626723322, 0.9640216519854679, 0.01588947725423857, 0.9692581125085526, 0.10188348710100616, 0.8863863377787536, 0.0512862494382607, 0.6955204443050278, 0.01676665847020061, 0.1950850026709224, 0.041423509161672104, 0.1794653126797833, 0.1897794111096559, 0.08457560712495535, 0.11551790241457316, 0.4290664946827003, 0.9430078129336733, 0.08556903592929516, 0.8842133712693833, 0.014261505988215859, 0.007130752994107929, 0.058939185485231325, 0.024557993952179717, 0.780944207679315, 0.11787837097046265, 0.014734796371307831, 0.923562271592468, 0.9199522511453858, 0.22485077087393185, 0.3918392666245494, 0.1959196333122747, 0.13704223055521805, 0.05024881787024662, 0.9816721496320908, 0.010670349452522727, 0.9382326845065541, 0.9791731067744462, 0.09634366694294513, 0.7929824894534715, 0.003705525651651736, 0.09634366694294513, 0.011116576954955208, 0.9482069872960167, 0.03366672203423494, 0.7593716192166324, 0.059851950283084335, 0.11970390056616867, 0.026185228248849394, 0.3532639710322912, 0.3498612532727858, 0.17106390190968215, 0.09280139344105723, 0.03309916366064375, 0.11917460186221475, 0.23806409702140985, 0.4550302980193654, 0.17819168938728283, 0.009693627902668185, 0.9571422793596988, 0.9371818797328835, 0.06791962707581102, 0.9055950276774803, 0.022639875691937008, 0.45883706341212643, 0.22916373546916174, 0.03699641359809016, 0.2609113465870821, 0.014064752276959894, 0.9350851777651447, 0.05822489515253468, 0.02911244757626734, 0.9024858748642876, 0.029188317216217573, 0.9340261509189624, 0.17295438197964613, 0.04192833502536876, 0.04192833502536876, 0.71802273730944, 0.02096416751268438, 0.4063459887558652, 0.15309919689668575, 0.3269185858545771, 0.0702184286518634, 0.04316706679417832, 0.02861541774266066, 0.051507751936789185, 0.03433850129119279, 0.8069547803430306, 0.08584625322798198, 0.1155193415002298, 0.8808349789392522, 0.1146726766781603, 0.12967657829960183, 0.0696609718138357, 0.3654521752079688, 0.3193687630849698, 0.04091272448042056, 0.940992663049673, 0.9803980724989406, 0.1790124733740854, 0.5788069972428761, 0.053206485141742046, 0.07608030118398629, 0.1128773095997705, 0.036967819195580905, 0.9241954798895227, 0.036967819195580905, 0.036967819195580905, 0.01506655875584964, 0.9793263191302266, 0.5648899920560023, 0.07828063560326624, 0.1502141926441055, 0.1655529658366374, 0.04072708744223987, 0.9710603488581164, 0.9327593158328316, 0.15789862032152358, 0.658087538387021, 0.011127083982389246, 0.03920972450937163, 0.13352500778867094, 0.9508576230433392, 0.937338600920718, 0.0032088308339583175, 0.9883198968591618, 0.0032088308339583175, 0.0032088308339583175, 0.9920613235392391, 0.10373183747079587, 0.025932959367698967, 0.8557876591340658, 0.59882437218694, 0.1614939743889976, 0.17799700826816522, 0.023575762684525197, 0.03772122029524032, 0.9786639342099297, 0.48725879296279473, 0.17676090255352447, 0.17468746088134238, 0.13840223161815554, 0.023326218812048684, 0.618179565002878, 0.10011849555508441, 0.11654418623209045, 0.03728371058431529, 0.12775537193226918, 0.035784121015458976, 0.05367618152318846, 0.9124950858942038, 0.10946064130731256, 0.27711554761344953, 0.5154349185610162, 0.06789330916529514, 0.03048271023747945, 0.11408995133248138, 0.13829085009997744, 0.6914542504998872, 0.03457271252499436, 0.020743627514996615, 0.13558591138684986, 0.06592709452755086, 0.10324431784503248, 0.5659778869818045, 0.1293663741672696, 0.9853696675435473, 0.19402166405723115, 0.061244212139277505, 0.01910819418745458, 0.31161055136464394, 0.4145008277586302, 0.9715430897444258, 0.09364970990502262, 0.02675705997286361, 0.05351411994572722, 0.05351411994572722, 0.7759547392130447, 0.04620991395438117, 0.9550048883905442, 0.9186341603148079, 0.0459317080157404, 0.9680477642827089, 0.04166243836992116, 0.04166243836992116, 0.04166243836992116, 0.9165736441382656, 0.13578955690724773, 0.007146818784591985, 0.7504159723821585, 0.10541557707273179, 0.0017867046961479963, 0.8883077506773499, 0.07614066434377285, 0.9620395550333132, 0.026220938956414808, 0.052441877912829615, 0.052441877912829615, 0.026220938956414808, 0.8652909855616887, 0.16918982392549353, 0.735074155649083, 0.0356794866781653, 0.02321084886052689, 0.03702226305852636, 0.823556205474773, 0.05932396395369128, 0.024427514569167, 0.06630325383059614, 0.024427514569167, 0.011687340770062532, 0.8531758762145648, 0.023374681540125064, 0.07012404462037519, 0.035062022310187596, 0.02761047359203547, 0.13724029520747041, 0.05116058342053631, 0.5944372549814695, 0.19002502413342057, 0.028425359541669398, 0.862235906097305, 0.018950239694446265, 0.08527607862500819, 0.03173797963420398, 0.010579326544734662, 0.9309807359366502, 0.021158653089469324, 0.010579326544734662, 0.11821063147669536, 0.017731594721504304, 0.7447269783031808, 0.011821063147669536, 0.10638956832902582, 0.36604572566542776, 0.11836209093373112, 0.3353592576455715, 0.03594700539468871, 0.1446647778078936, 0.2665873631685199, 0.15828624688130868, 0.49152045084195856, 0.04304275134491728, 0.040265799645245196, 0.10041799977984356, 0.5452805364389355, 0.21271339738310946, 0.10149776321833649, 0.03995124722423883, 0.9698421471984798, 0.020355099647034906, 0.12213059788220942, 0.020355099647034906, 0.834559085528431, 0.026729165530168807, 0.026729165530168807, 0.026729165530168807, 0.8820624624955706, 0.13860758552769092, 0.03465189638192273, 0.004950270911703247, 0.8167947004310357, 0.6663744785617953, 0.19800841648693346, 0.02665497914247181, 0.05330995828494362, 0.0558485277270838, 0.9522704761765636, 0.9676813199050825], \"Term\": [\"ac\", \"ac\", \"ac\", \"adjacent\", \"adjacent\", \"agile\", \"agile\", \"agile\", \"agile\", \"air\", \"air\", \"air\", \"air\", \"air\", \"airport\", \"airport\", \"airport\", \"airport\", \"airport\", \"airy\", \"airy\", \"airy\", \"airy\", \"airy\", \"already\", \"already\", \"already\", \"already\", \"already\", \"american\", \"american\", \"animals\", \"anything\", \"anything\", \"anything\", \"anything\", \"anything\", \"app\", \"app\", \"app\", \"april\", \"architecture\", \"architecture\", \"architecture\", \"architecture\", \"architecture\", \"area\", \"area\", \"area\", \"area\", \"area\", \"areas\", \"areas\", \"areas\", \"areas\", \"areas\", \"around\", \"around\", \"around\", \"around\", \"around\", \"arranging\", \"assistance\", \"assistance\", \"attached\", \"attendants\", \"attentive\", \"attentive\", \"attentive\", \"attentive\", \"attentive\", \"attitude\", \"attitude\", \"attitude\", \"attitude\", \"attitude\", \"automatic\", \"automatic\", \"automatic\", \"awake\", \"awake\", \"awesome\", \"awesome\", \"back\", \"back\", \"back\", \"back\", \"back\", \"bacon\", \"balcony\", \"balcony\", \"balcony\", \"balcony\", \"balcony\", \"bathroom\", \"bathroom\", \"bathroom\", \"bathroom\", \"bathroom\", \"beach\", \"beach\", \"beach\", \"beach\", \"beach\", \"beautiful\", \"beautiful\", \"beautiful\", \"beautiful\", \"beautiful\", \"bed\", \"bed\", \"bed\", \"bed\", \"bed\", \"beds\", \"beds\", \"beds\", \"beds\", \"beds\", \"benefit\", \"beside\", \"bike\", \"bike\", \"bike\", \"bike\", \"bill\", \"boiling\", \"boys\", \"boys\", \"breakfast\", \"breakfast\", \"breakfast\", \"breakfast\", \"breakfast\", \"bridge\", \"bridge\", \"bridge\", \"bridge\", \"bridge\", \"brothers\", \"brothers\", \"brothers\", \"brothers\", \"brothers\", \"buffet\", \"buffet\", \"buffet\", \"buffet\", \"buffet\", \"buildings\", \"buildings\", \"busy\", \"busy\", \"busy\", \"busy\", \"busy\", \"cancel\", \"canh\", \"center\", \"center\", \"center\", \"center\", \"center\", \"central\", \"central\", \"central\", \"central\", \"central\", \"check\", \"check\", \"check\", \"check\", \"check\", \"city\", \"city\", \"city\", \"city\", \"city\", \"clean\", \"clean\", \"clean\", \"clean\", \"clean\", \"cleanest\", \"cleanly\", \"cleared\", \"climb\", \"climb\", \"close\", \"close\", \"close\", \"close\", \"close\", \"coastline\", \"collecting\", \"come\", \"come\", \"come\", \"come\", \"come\", \"comfortable\", \"comfortable\", \"comfortable\", \"comfortable\", \"comfortable\", \"comfy\", \"compensation\", \"confused\", \"considerate\", \"considerate\", \"considerate\", \"considerate\", \"considerate\", \"considering\", \"considering\", \"construction\", \"construction\", \"construction\", \"construction\", \"continue\", \"continue\", \"continue\", \"continue\", \"continue\", \"convenience\", \"convenience\", \"convenience\", \"convenience\", \"convenience\", \"convenient\", \"convenient\", \"convenient\", \"convenient\", \"convenient\", \"conveniently\", \"conveniently\", \"conveniently\", \"conveniently\", \"conveniently\", \"cook\", \"cook\", \"cook\", \"cook\", \"cook\", \"cooking\", \"cooking\", \"cooking\", \"cooking\", \"cooking\", \"cool\", \"cool\", \"cool\", \"cool\", \"cool\", \"corgi\", \"corgi\", \"counselor\", \"covered\", \"covered\", \"covered\", \"covered\", \"cute\", \"cute\", \"cute\", \"cute\", \"cute\", \"dang\", \"day\", \"day\", \"day\", \"day\", \"day\", \"deal\", \"deal\", \"deal\", \"decoration\", \"decoration\", \"decoration\", \"decoration\", \"decoration\", \"dedicated\", \"dedicated\", \"dedicated\", \"dedicated\", \"dedicated\", \"definitely\", \"definitely\", \"definitely\", \"definitely\", \"definitely\", \"degraded\", \"delicious\", \"delicious\", \"delicious\", \"delicious\", \"delicious\", \"directions\", \"dishes\", \"dishes\", \"dishes\", \"dishes\", \"dishes\", \"diverse\", \"diverse\", \"diverse\", \"diverse\", \"diverse\", \"diversified\", \"diversified\", \"double\", \"double\", \"double\", \"dragon\", \"dragon\", \"dragon\", \"draw\", \"dth\", \"dth\", \"dth\", \"early\", \"early\", \"early\", \"early\", \"early\", \"easy\", \"easy\", \"easy\", \"easy\", \"easy\", \"eat\", \"eat\", \"eat\", \"eat\", \"eat\", \"eaten\", \"eaten\", \"eats\", \"effort\", \"employee\", \"employee\", \"employee\", \"employee\", \"employee\", \"enjoyable\", \"enthusiasm\", \"enthusiasm\", \"enthusiasm\", \"enthusiasm\", \"enthusiasm\", \"enthusiastic\", \"enthusiastic\", \"enthusiastic\", \"enthusiastic\", \"enthusiastic\", \"equipped\", \"equipped\", \"equipped\", \"equipped\", \"equipped\", \"event\", \"event\", \"event\", \"event\", \"everything\", \"everything\", \"everything\", \"everything\", \"everything\", \"excellent\", \"excellent\", \"excellent\", \"excellent\", \"excellent\", \"extremely\", \"extremely\", \"extremely\", \"extremely\", \"extremely\", \"facilities\", \"facilities\", \"facilities\", \"facilities\", \"facilities\", \"fair\", \"fair\", \"fake\", \"families\", \"families\", \"families\", \"families\", \"families\", \"fantastic\", \"fantastic\", \"far\", \"far\", \"far\", \"far\", \"far\", \"favorable\", \"favorable\", \"favorable\", \"favorable\", \"favorable\", \"feature\", \"fine\", \"fine\", \"fine\", \"fine\", \"fine\", \"firm\", \"five\", \"five\", \"fix\", \"flexibly\", \"food\", \"food\", \"food\", \"food\", \"food\", \"frames\", \"free\", \"free\", \"free\", \"free\", \"free\", \"fridge\", \"fridge\", \"friend\", \"friend\", \"friend\", \"friend\", \"friend\", \"friendly\", \"friendly\", \"friendly\", \"friendly\", \"friendly\", \"full\", \"full\", \"full\", \"full\", \"full\", \"fully\", \"fully\", \"fully\", \"fully\", \"fully\", \"go\", \"go\", \"go\", \"go\", \"go\", \"gold\", \"gold\", \"good\", \"good\", \"good\", \"good\", \"good\", \"great\", \"great\", \"great\", \"great\", \"great\", \"greatly\", \"green\", \"green\", \"green\", \"green\", \"green\", \"guests\", \"guests\", \"guests\", \"guests\", \"guests\", \"gym\", \"gym\", \"gym\", \"gym\", \"gym\", \"hair\", \"hair\", \"hair\", \"hair\", \"hair\", \"happy\", \"happy\", \"happy\", \"happy\", \"happy\", \"hardly\", \"hit\", \"hit\", \"hoai\", \"home\", \"home\", \"home\", \"home\", \"home\", \"homestay\", \"homestay\", \"homestay\", \"homestay\", \"homestay\", \"host\", \"host\", \"host\", \"host\", \"host\", \"hotel\", \"hotel\", \"hotel\", \"hotel\", \"hotel\", \"hut\", \"impossible\", \"improve\", \"improve\", \"improve\", \"improve\", \"improve\", \"install\", \"insulation\", \"insulation\", \"integrated\", \"intersection\", \"intersection\", \"invited\", \"invited\", \"invited\", \"item\", \"japanese\", \"japanese\", \"khe\", \"khe\", \"khe\", \"khe\", \"khe\", \"kids\", \"kids\", \"kindness\", \"kindness\", \"kitchen\", \"kitchen\", \"kitchen\", \"kitchen\", \"kitchen\", \"laptop\", \"large\", \"large\", \"large\", \"large\", \"large\", \"learn\", \"least\", \"least\", \"least\", \"least\", \"least\", \"letter\", \"lie\", \"lie\", \"lien\", \"lighthouse\", \"like\", \"like\", \"like\", \"like\", \"like\", \"line\", \"line\", \"line\", \"linen\", \"literally\", \"literally\", \"little\", \"little\", \"little\", \"little\", \"little\", \"located\", \"located\", \"located\", \"located\", \"located\", \"location\", \"location\", \"location\", \"location\", \"location\", \"lunar\", \"major\", \"many\", \"many\", \"many\", \"many\", \"many\", \"market\", \"market\", \"market\", \"market\", \"market\", \"mart\", \"mart\", \"mart\", \"mart\", \"master\", \"master\", \"master\", \"master\", \"master\", \"match\", \"meaning\", \"medical\", \"mention\", \"mention\", \"mention\", \"mentioned\", \"mentioned\", \"min\", \"min\", \"minutes\", \"minutes\", \"minutes\", \"minutes\", \"minutes\", \"miss\", \"missing\", \"missing\", \"mng\", \"money\", \"money\", \"money\", \"money\", \"money\", \"move\", \"move\", \"move\", \"move\", \"move\", \"moving\", \"moving\", \"moving\", \"moving\", \"moving\", \"much\", \"much\", \"much\", \"much\", \"much\", \"multiple\", \"naturally\", \"near\", \"near\", \"near\", \"near\", \"near\", \"new\", \"new\", \"new\", \"new\", \"new\", \"newer\", \"next\", \"next\", \"next\", \"next\", \"next\", \"nhat\", \"nhat\", \"nhat\", \"nice\", \"nice\", \"nice\", \"nice\", \"nice\", \"nicely\", \"notify\", \"occasionally\", \"oily\", \"ok\", \"ok\", \"ok\", \"ok\", \"ok\", \"oki\", \"opportunity\", \"opportunity\", \"opportunity\", \"opportunity\", \"opportunity\", \"opposite\", \"opposite\", \"opposite\", \"opposite\", \"opposite\", \"option\", \"options\", \"options\", \"options\", \"options\", \"options\", \"originally\", \"outdoor\", \"outdoor\", \"outdoor\", \"outdoor\", \"outlets\", \"overhead\", \"overlooking\", \"overlooking\", \"overlooking\", \"overlooking\", \"overlooking\", \"owner\", \"owner\", \"owner\", \"owner\", \"owner\", \"parties\", \"people\", \"people\", \"people\", \"people\", \"people\", \"perfume\", \"perfume\", \"pet\", \"place\", \"place\", \"place\", \"place\", \"place\", \"places\", \"places\", \"places\", \"places\", \"places\", \"planet\", \"planning\", \"planning\", \"plates\", \"plenty\", \"plug\", \"polite\", \"polite\", \"polite\", \"polite\", \"polite\", \"pool\", \"pool\", \"pool\", \"pool\", \"pool\", \"poor\", \"poor\", \"positions\", \"powerful\", \"practical\", \"pre\", \"premium\", \"pressure\", \"pressure\", \"pressure\", \"pretty\", \"pretty\", \"pretty\", \"pretty\", \"pretty\", \"price\", \"price\", \"price\", \"price\", \"price\", \"proper\", \"property\", \"property\", \"property\", \"pull\", \"puppy\", \"push\", \"pv\", \"pv\", \"quarter\", \"quarter\", \"quarter\", \"quarter\", \"quarter\", \"quiet\", \"quiet\", \"quiet\", \"quiet\", \"quiet\", \"quietly\", \"quite\", \"quite\", \"quite\", \"quite\", \"quite\", \"rat\", \"rat\", \"really\", \"really\", \"really\", \"really\", \"really\", \"reasonable\", \"reasonable\", \"reasonable\", \"reasonable\", \"reasonable\", \"recently\", \"reception\", \"reception\", \"reception\", \"reception\", \"reception\", \"receptionist\", \"receptionist\", \"receptionist\", \"receptionist\", \"receptionist\", \"remained\", \"renovation\", \"requested\", \"require\", \"resort\", \"resort\", \"resort\", \"resort\", \"resort\", \"rich\", \"rich\", \"rich\", \"rich\", \"rich\", \"right\", \"right\", \"right\", \"right\", \"right\", \"room\", \"room\", \"room\", \"room\", \"room\", \"rooms\", \"rooms\", \"rooms\", \"rooms\", \"rooms\", \"sa\", \"salad\", \"san\", \"satisfied\", \"satisfied\", \"satisfied\", \"satisfied\", \"satisfied\", \"says\", \"scenery\", \"scenery\", \"scenery\", \"scenery\", \"scenery\", \"sea\", \"sea\", \"sea\", \"sea\", \"sea\", \"second\", \"second\", \"second\", \"second\", \"second\", \"section\", \"secure\", \"secure\", \"seem\", \"seem\", \"service\", \"service\", \"service\", \"service\", \"service\", \"services\", \"services\", \"services\", \"services\", \"services\", \"shoes\", \"single\", \"single\", \"single\", \"single\", \"sisters\", \"sisters\", \"sisters\", \"sisters\", \"sisters\", \"situations\", \"sleeps\", \"small\", \"small\", \"small\", \"small\", \"small\", \"smaller\", \"smaller\", \"smoking\", \"sockets\", \"soundproofing\", \"soundproofing\", \"soundproofing\", \"soundproofing\", \"soundproofing\", \"sounds\", \"spa\", \"spa\", \"spa\", \"spa\", \"spa\", \"space\", \"space\", \"space\", \"space\", \"space\", \"spacious\", \"spacious\", \"spacious\", \"spacious\", \"spacious\", \"specially\", \"spice\", \"spray\", \"spray\", \"spray\", \"staff\", \"staff\", \"staff\", \"staff\", \"staff\", \"stains\", \"standards\", \"standards\", \"standards\", \"stated\", \"stated\", \"station\", \"station\", \"station\", \"station\", \"station\", \"still\", \"still\", \"still\", \"still\", \"still\", \"stores\", \"stores\", \"stores\", \"stores\", \"stores\", \"stove\", \"stove\", \"street\", \"street\", \"street\", \"street\", \"street\", \"stronger\", \"stronger\", \"suggestion\", \"suitable\", \"suitable\", \"suitable\", \"suitable\", \"suitable\", \"suitcases\", \"suitcases\", \"suitcases\", \"suitcases\", \"suite\", \"suite\", \"support\", \"support\", \"support\", \"support\", \"support\", \"surcharge\", \"suspicion\", \"swimming\", \"swimming\", \"swimming\", \"swimming\", \"swimming\", \"swing\", \"switch\", \"tau\", \"tau\", \"tau\", \"tau\", \"temperature\", \"thai\", \"thai\", \"thai\", \"thank\", \"thank\", \"thank\", \"thank\", \"thank\", \"thin\", \"thoughtful\", \"thoughtful\", \"thoughtful\", \"thoughtful\", \"thoughtful\", \"time\", \"time\", \"time\", \"time\", \"time\", \"tinh\", \"tinh\", \"tinh\", \"toilet\", \"toilet\", \"toilet\", \"toilet\", \"toilet\", \"towels\", \"towels\", \"towels\", \"towels\", \"towels\", \"town\", \"town\", \"town\", \"town\", \"town\", \"training\", \"travel\", \"travel\", \"travel\", \"travel\", \"travel\", \"trc\", \"tri\", \"tri\", \"tri\", \"tri\", \"tri\", \"truong\", \"truong\", \"trust\", \"trust\", \"tung\", \"turning\", \"turning\", \"turning\", \"turning\", \"uncle\", \"uncle\", \"uncle\", \"uncle\", \"uncle\", \"upon\", \"upon\", \"vehicle\", \"vi\", \"vi\", \"vi\", \"vi\", \"vi\", \"view\", \"view\", \"view\", \"view\", \"view\", \"villa\", \"villa\", \"villa\", \"villa\", \"villa\", \"vision\", \"vision\", \"vision\", \"vision\", \"vision\", \"walk\", \"walk\", \"walk\", \"walk\", \"walk\", \"wall\", \"wall\", \"wall\", \"wall\", \"walls\", \"walls\", \"walls\", \"walls\", \"walls\", \"wanted\", \"wanted\", \"wanted\", \"wanted\", \"wanted\", \"water\", \"water\", \"water\", \"water\", \"water\", \"went\", \"went\", \"went\", \"went\", \"went\", \"wide\", \"wide\", \"wide\", \"wide\", \"wide\", \"wishes\", \"wonderfull\", \"wonderfull\", \"wonderfull\", \"wonderfull\", \"words\", \"words\", \"words\", \"words\", \"worker\", \"worker\", \"worker\", \"worker\", \"worth\", \"worth\", \"worth\", \"worth\", \"worth\", \"yacht\", \"yes\"]}, \"R\": 30, \"lambda.step\": 0.01, \"plot.opts\": {\"xlab\": \"PC1\", \"ylab\": \"PC2\"}, \"topic.order\": [2, 5, 4, 1, 3]};\n",
       "\n",
       "function LDAvis_load_lib(url, callback){\n",
       "  var s = document.createElement('script');\n",
       "  s.src = url;\n",
       "  s.async = true;\n",
       "  s.onreadystatechange = s.onload = callback;\n",
       "  s.onerror = function(){console.warn(\"failed to load library \" + url);};\n",
       "  document.getElementsByTagName(\"head\")[0].appendChild(s);\n",
       "}\n",
       "\n",
       "if(typeof(LDAvis) !== \"undefined\"){\n",
       "   // already loaded: just create the visualization\n",
       "   !function(LDAvis){\n",
       "       new LDAvis(\"#\" + \"ldavis_el1891613438530568969017546598\", ldavis_el1891613438530568969017546598_data);\n",
       "   }(LDAvis);\n",
       "}else if(typeof define === \"function\" && define.amd){\n",
       "   // require.js is available: use it to load d3/LDAvis\n",
       "   require.config({paths: {d3: \"https://d3js.org/d3.v5\"}});\n",
       "   require([\"d3\"], function(d3){\n",
       "      window.d3 = d3;\n",
       "      LDAvis_load_lib(\"https://cdn.jsdelivr.net/gh/bmabey/pyLDAvis@3.4.0/pyLDAvis/js/ldavis.v3.0.0.js\", function(){\n",
       "        new LDAvis(\"#\" + \"ldavis_el1891613438530568969017546598\", ldavis_el1891613438530568969017546598_data);\n",
       "      });\n",
       "    });\n",
       "}else{\n",
       "    // require.js not available: dynamically load d3 & LDAvis\n",
       "    LDAvis_load_lib(\"https://d3js.org/d3.v5.js\", function(){\n",
       "         LDAvis_load_lib(\"https://cdn.jsdelivr.net/gh/bmabey/pyLDAvis@3.4.0/pyLDAvis/js/ldavis.v3.0.0.js\", function(){\n",
       "                 new LDAvis(\"#\" + \"ldavis_el1891613438530568969017546598\", ldavis_el1891613438530568969017546598_data);\n",
       "            })\n",
       "         });\n",
       "}\n",
       "</script>"
      ],
      "text/plain": [
       "<IPython.core.display.HTML object>"
      ]
     },
     "execution_count": 217,
     "metadata": {},
     "output_type": "execute_result"
    }
   ],
   "source": [
    "import os\n",
    "import pickle\n",
    "import pyLDAvis\n",
    "import pyLDAvis.gensim_models\n",
    "\n",
    "# Khai báo đường dẫn đến thư mục lưu trữ dữ liệu\n",
    "LDAvis_data_dir = os.path.join(\"E:\\\\NCKH\\\\NCKHNew\\\\img\", 'pos_Results')\n",
    "if not os.path.exists(LDAvis_data_dir):\n",
    "    os.makedirs(LDAvis_data_dir)\n",
    "\n",
    "# Đường dẫn tới tệp dữ liệu của pyLDAvis\n",
    "LDAvis_data_filepath = os.path.join(LDAvis_data_dir, 'ldavis_prepared_'+str(num_topics))\n",
    "\n",
    "# Kiểm tra xem liệu quá trình chuẩn bị dữ liệu cho trực quan hóa đã được thực hiện chưa\n",
    "if 1 == 1:\n",
    "    # Chuẩn bị dữ liệu cho trực quan hóa\n",
    "    LDAvis_prepared = pyLDAvis.gensim_models.prepare(lda_model, corpus, id2word)\n",
    "    # Lưu trữ dữ liệu vào một tệp\n",
    "    with open(LDAvis_data_filepath, 'wb') as f:\n",
    "        pickle.dump(LDAvis_prepared, f)\n",
    "\n",
    "# Load dữ liệu đã chuẩn bị từ tệp\n",
    "with open(LDAvis_data_filepath, 'rb') as f:\n",
    "    LDAvis_prepared = pickle.load(f)\n",
    "\n",
    "# Lưu trữ trực quan hóa dưới dạng một tệp HTML\n",
    "pyLDAvis.save_html(LDAvis_prepared, 'ldavis_prepared_'+ str(num_topics) +'.html')\n",
    "\n",
    "# Hiển thị trực quan hóa trên trình duyệt web\n",
    "pyLDAvis.display(LDAvis_prepared)\n"
   ]
  },
  {
   "cell_type": "markdown",
   "metadata": {},
   "source": [
    "# 9. Topic modelling negative comments"
   ]
  },
  {
   "cell_type": "code",
   "execution_count": 218,
   "metadata": {},
   "outputs": [
    {
     "data": {
      "text/html": [
       "<div>\n",
       "<style scoped>\n",
       "    .dataframe tbody tr th:only-of-type {\n",
       "        vertical-align: middle;\n",
       "    }\n",
       "\n",
       "    .dataframe tbody tr th {\n",
       "        vertical-align: top;\n",
       "    }\n",
       "\n",
       "    .dataframe thead th {\n",
       "        text-align: right;\n",
       "    }\n",
       "</style>\n",
       "<table border=\"1\" class=\"dataframe\">\n",
       "  <thead>\n",
       "    <tr style=\"text-align: right;\">\n",
       "      <th></th>\n",
       "      <th>rental_date</th>\n",
       "      <th>comments</th>\n",
       "      <th>sentiment</th>\n",
       "      <th>label</th>\n",
       "    </tr>\n",
       "  </thead>\n",
       "  <tbody>\n",
       "    <tr>\n",
       "      <th>14</th>\n",
       "      <td>2023-12-24 00:00:00</td>\n",
       "      <td>small accommodation ventilation system bad sme...</td>\n",
       "      <td>negative</td>\n",
       "      <td>2</td>\n",
       "    </tr>\n",
       "    <tr>\n",
       "      <th>40</th>\n",
       "      <td>2023-12-21 00:00:00</td>\n",
       "      <td>problems door air conditioning key temperature...</td>\n",
       "      <td>negative</td>\n",
       "      <td>2</td>\n",
       "    </tr>\n",
       "    <tr>\n",
       "      <th>136</th>\n",
       "      <td>2023-12-09 00:00:00</td>\n",
       "      <td>projector bit blurry expected checking problem...</td>\n",
       "      <td>negative</td>\n",
       "      <td>2</td>\n",
       "    </tr>\n",
       "    <tr>\n",
       "      <th>173</th>\n",
       "      <td>2023-12-21 00:00:00</td>\n",
       "      <td>good location difficult enter door quite diffi...</td>\n",
       "      <td>negative</td>\n",
       "      <td>2</td>\n",
       "    </tr>\n",
       "    <tr>\n",
       "      <th>350</th>\n",
       "      <td>2023-11-25 00:00:00</td>\n",
       "      <td>bathroom best stayed well going good bathroom ...</td>\n",
       "      <td>negative</td>\n",
       "      <td>2</td>\n",
       "    </tr>\n",
       "    <tr>\n",
       "      <th>...</th>\n",
       "      <td>...</td>\n",
       "      <td>...</td>\n",
       "      <td>...</td>\n",
       "      <td>...</td>\n",
       "    </tr>\n",
       "    <tr>\n",
       "      <th>101560</th>\n",
       "      <td>1/2020</td>\n",
       "      <td>needed taxi go main town cheap get one</td>\n",
       "      <td>negative</td>\n",
       "      <td>2</td>\n",
       "    </tr>\n",
       "    <tr>\n",
       "      <th>101562</th>\n",
       "      <td>1/2020</td>\n",
       "      <td>seriously need train staff make drinks embarra...</td>\n",
       "      <td>negative</td>\n",
       "      <td>2</td>\n",
       "    </tr>\n",
       "    <tr>\n",
       "      <th>101563</th>\n",
       "      <td>1/2020</td>\n",
       "      <td>need scooter driver get around</td>\n",
       "      <td>negative</td>\n",
       "      <td>2</td>\n",
       "    </tr>\n",
       "    <tr>\n",
       "      <th>101564</th>\n",
       "      <td>12/2019</td>\n",
       "      <td>would expect bit facilities pay million vnd ni...</td>\n",
       "      <td>negative</td>\n",
       "      <td>2</td>\n",
       "    </tr>\n",
       "    <tr>\n",
       "      <th>101565</th>\n",
       "      <td>12/2019</td>\n",
       "      <td>would expect bit facilities pay million vnd ni...</td>\n",
       "      <td>negative</td>\n",
       "      <td>2</td>\n",
       "    </tr>\n",
       "  </tbody>\n",
       "</table>\n",
       "<p>7058 rows × 4 columns</p>\n",
       "</div>"
      ],
      "text/plain": [
       "                rental_date  \\\n",
       "14      2023-12-24 00:00:00   \n",
       "40      2023-12-21 00:00:00   \n",
       "136     2023-12-09 00:00:00   \n",
       "173     2023-12-21 00:00:00   \n",
       "350     2023-11-25 00:00:00   \n",
       "...                     ...   \n",
       "101560               1/2020   \n",
       "101562               1/2020   \n",
       "101563               1/2020   \n",
       "101564              12/2019   \n",
       "101565              12/2019   \n",
       "\n",
       "                                                 comments sentiment  label  \n",
       "14      small accommodation ventilation system bad sme...  negative      2  \n",
       "40      problems door air conditioning key temperature...  negative      2  \n",
       "136     projector bit blurry expected checking problem...  negative      2  \n",
       "173     good location difficult enter door quite diffi...  negative      2  \n",
       "350     bathroom best stayed well going good bathroom ...  negative      2  \n",
       "...                                                   ...       ...    ...  \n",
       "101560            needed taxi go main town cheap get one   negative      2  \n",
       "101562  seriously need train staff make drinks embarra...  negative      2  \n",
       "101563                     need scooter driver get around  negative      2  \n",
       "101564  would expect bit facilities pay million vnd ni...  negative      2  \n",
       "101565  would expect bit facilities pay million vnd ni...  negative      2  \n",
       "\n",
       "[7058 rows x 4 columns]"
      ]
     },
     "execution_count": 218,
     "metadata": {},
     "output_type": "execute_result"
    }
   ],
   "source": [
    "df_neg = df.loc[df['label'] == 2]\n",
    "df_neg"
   ]
  },
  {
   "cell_type": "code",
   "execution_count": 219,
   "metadata": {},
   "outputs": [
    {
     "name": "stdout",
     "output_type": "stream",
     "text": [
      "['small', 'accommodation', 'ventilation', 'system', 'bad', 'smell', 'like', 'lizard', 'friendly', 'landlords', 'changed', 'still', 'bad', 'experience', 'wasting', 'time']\n"
     ]
    }
   ],
   "source": [
    "data = df_neg.comments.values.tolist()#creating the array of token \n",
    "data_words = list(sent_to_words(data))#converting them into list\n",
    "\n",
    "data_words = remove_stopwords(data_words)# remove stop words\n",
    "print(data_words[:1][0][:30])"
   ]
  },
  {
   "cell_type": "code",
   "execution_count": 220,
   "metadata": {},
   "outputs": [
    {
     "name": "stdout",
     "output_type": "stream",
     "text": [
      "[(0, 1), (1, 2), (2, 1), (3, 1), (4, 1), (5, 1), (6, 1), (7, 1), (8, 1), (9, 1), (10, 1), (11, 1), (12, 1), (13, 1), (14, 1)]\n"
     ]
    }
   ],
   "source": [
    "# Create Dictionary \n",
    "id2word = corpora.Dictionary(data_words)\n",
    "\n",
    "# Create Corpus\n",
    "texts = data_words\n",
    "\n",
    "# Term Document Frequency\n",
    "corpus = [id2word.doc2bow(text) for text in texts]\n",
    "\n",
    "# Printing the corpus in a numeric form which implies the frequency of the word\n",
    "print(corpus[:1][0][:30])"
   ]
  },
  {
   "cell_type": "code",
   "execution_count": 221,
   "metadata": {},
   "outputs": [
    {
     "data": {
      "text/plain": [
       "<gensim.corpora.dictionary.Dictionary at 0x138e3a68d10>"
      ]
     },
     "execution_count": 221,
     "metadata": {},
     "output_type": "execute_result"
    }
   ],
   "source": [
    "#Showing the code\n",
    "id2word"
   ]
  },
  {
   "cell_type": "code",
   "execution_count": 222,
   "metadata": {},
   "outputs": [
    {
     "name": "stdout",
     "output_type": "stream",
     "text": [
      "[(0,\n",
      "  '0.040*\"room\" + 0.017*\"hotel\" + 0.011*\"rooms\" + 0.008*\"night\" + '\n",
      "  '0.008*\"guests\" + 0.007*\"noise\" + 0.007*\"quite\" + 0.006*\"staff\" + '\n",
      "  '0.006*\"noisy\" + 0.006*\"smell\"'),\n",
      " (1,\n",
      "  '0.020*\"room\" + 0.013*\"hotel\" + 0.012*\"breakfast\" + 0.010*\"staff\" + '\n",
      "  '0.007*\"really\" + 0.006*\"pool\" + 0.005*\"night\" + 0.005*\"pay\" + 0.005*\"water\" '\n",
      "  '+ 0.005*\"door\"'),\n",
      " (2,\n",
      "  '0.019*\"room\" + 0.012*\"water\" + 0.011*\"hotel\" + 0.011*\"little\" + '\n",
      "  '0.009*\"rooms\" + 0.008*\"hard\" + 0.007*\"bathroom\" + 0.006*\"time\" + '\n",
      "  '0.006*\"night\" + 0.006*\"noisy\"'),\n",
      " (3,\n",
      "  '0.035*\"room\" + 0.013*\"staff\" + 0.009*\"dirty\" + 0.009*\"nothing\" + '\n",
      "  '0.009*\"bed\" + 0.009*\"bad\" + 0.008*\"bathroom\" + 0.008*\"night\" + '\n",
      "  '0.007*\"hotel\" + 0.007*\"small\"'),\n",
      " (4,\n",
      "  '0.030*\"room\" + 0.014*\"hotel\" + 0.011*\"bad\" + 0.010*\"breakfast\" + '\n",
      "  '0.008*\"shower\" + 0.008*\"need\" + 0.007*\"staff\" + 0.006*\"water\" + '\n",
      "  '0.006*\"little\" + 0.006*\"noise\"')]\n"
     ]
    }
   ],
   "source": [
    "from pprint import pprint\n",
    "# number of topics\n",
    "num_topics = 5\n",
    "\n",
    "# Build LDA model\n",
    "lda_model = gensim.models.LdaMulticore(corpus=corpus,\n",
    "                                       id2word=id2word,\n",
    "                                       num_topics=num_topics)\n",
    "\n",
    "# Print the Keyword in the 10 topics\n",
    "pprint(lda_model.print_topics())\n",
    "doc_lda = lda_model[corpus]"
   ]
  },
  {
   "cell_type": "code",
   "execution_count": 223,
   "metadata": {},
   "outputs": [
    {
     "data": {
      "text/html": [
       "\n",
       "<link rel=\"stylesheet\" type=\"text/css\" href=\"https://cdn.jsdelivr.net/gh/bmabey/pyLDAvis@3.4.0/pyLDAvis/js/ldavis.v1.0.0.css\">\n",
       "\n",
       "\n",
       "<div id=\"ldavis_el189161343853055552666762093\" style=\"background-color:white;\"></div>\n",
       "<script type=\"text/javascript\">\n",
       "\n",
       "var ldavis_el189161343853055552666762093_data = {\"mdsDat\": {\"x\": [-0.0016787368950477552, 0.014979921940920323, 0.030011880678676345, 0.012867260496693666, -0.056180326221242596], \"y\": [0.01331613749781036, 0.045275928321388, -0.022609306730242355, -0.028948888786623668, -0.0070338703023323165], \"topics\": [1, 2, 3, 4, 5], \"cluster\": [1, 1, 1, 1, 1], \"Freq\": [26.03264937442273, 22.089800798356503, 21.689879258748753, 17.819096197155012, 12.368574371317004]}, \"tinfo\": {\"Term\": [\"little\", \"rooms\", \"water\", \"hard\", \"breakfast\", \"bathroom\", \"wifi\", \"room\", \"bad\", \"nothing\", \"smell\", \"pool\", \"bed\", \"beds\", \"toilet\", \"need\", \"cold\", \"night\", \"shower\", \"staff\", \"neighbors\", \"time\", \"dirty\", \"poor\", \"old\", \"weak\", \"area\", \"door\", \"beach\", \"next\", \"industrial\", \"nonetheless\", \"component\", \"track\", \"homestays\", \"loved\", \"bc\", \"techniques\", \"carries\", \"cities\", \"ant\", \"poop\", \"manages\", \"doable\", \"facebook\", \"stages\", \"apologise\", \"nye\", \"kikis\", \"dietary\", \"stumbling\", \"splitting\", \"ad\", \"bare\", \"pedicure\", \"proofed\", \"offenders\", \"tempering\", \"grain\", \"batch\", \"waking\", \"visible\", \"speaks\", \"posted\", \"countryside\", \"japanese\", \"delta\", \"region\", \"separated\", \"outbreak\", \"banging\", \"possibility\", \"publish\", \"category\", \"outdated\", \"guests\", \"cheap\", \"emails\", \"lousy\", \"rooms\", \"sound\", \"outside\", \"cruise\", \"room\", \"com\", \"quite\", \"group\", \"proofing\", \"hotel\", \"noise\", \"city\", \"night\", \"pictures\", \"much\", \"smell\", \"far\", \"window\", \"different\", \"difficult\", \"booking\", \"next\", \"noisy\", \"due\", \"card\", \"photos\", \"dirty\", \"booked\", \"early\", \"late\", \"really\", \"door\", \"price\", \"still\", \"sleep\", \"staff\", \"time\", \"stay\", \"bad\", \"day\", \"morning\", \"nothing\", \"place\", \"shower\", \"poor\", \"small\", \"unpredictable\", \"elevetor\", \"virus\", \"tr\", \"tait\", \"creaking\", \"tout\", \"potatoes\", \"om\", \"soreness\", \"brains\", \"climed\", \"wideawake\", \"crash\", \"crowd\", \"reopen\", \"unfriendliness\", \"lux\", \"cobweb\", \"pastries\", \"wedged\", \"consisted\", \"strength\", \"grear\", \"backdoor\", \"permanent\", \"rusted\", \"villas\", \"dispeners\", \"umbrella\", \"bien\", \"begging\", \"fried\", \"blows\", \"registered\", \"scolded\", \"chaos\", \"porter\", \"unhelpful\", \"noodle\", \"boring\", \"pool\", \"police\", \"package\", \"breakfast\", \"goes\", \"receptionist\", \"maintained\", \"cleaned\", \"unfriendly\", \"besides\", \"slow\", \"really\", \"pay\", \"door\", \"people\", \"asked\", \"said\", \"staff\", \"hotel\", \"arrived\", \"music\", \"ask\", \"food\", \"check\", \"long\", \"room\", \"booking\", \"service\", \"like\", \"every\", \"told\", \"take\", \"view\", \"price\", \"bar\", \"near\", \"morning\", \"water\", \"night\", \"noisy\", \"floor\", \"time\", \"dirty\", \"stay\", \"bed\", \"next\", \"old\", \"small\", \"need\", \"lac\", \"ban\", \"spiral\", \"eg\", \"sachet\", \"drops\", \"shoe\", \"arrogant\", \"equipments\", \"sealed\", \"stairwell\", \"units\", \"outdoors\", \"rustic\", \"neighbors\", \"traveled\", \"ceilings\", \"secondly\", \"edges\", \"highlighting\", \"fibre\", \"identify\", \"flavour\", \"clamp\", \"fashion\", \"survive\", \"clustered\", \"grossly\", \"weathered\", \"micro\", \"proved\", \"cabin\", \"screen\", \"cap\", \"arround\", \"flights\", \"echoed\", \"annoying\", \"steep\", \"bad\", \"toilet\", \"shower\", \"need\", \"luggage\", \"air\", \"parking\", \"place\", \"breakfast\", \"old\", \"room\", \"little\", \"got\", \"go\", \"hotel\", \"still\", \"noise\", \"floor\", \"attitude\", \"water\", \"anything\", \"everything\", \"coffee\", \"small\", \"get\", \"like\", \"staff\", \"food\", \"broken\", \"reception\", \"day\", \"service\", \"really\", \"bed\", \"problem\", \"check\", \"bathroom\", \"noisy\", \"dirty\", \"quite\", \"dirtytoilet\", \"venue\", \"neibourhood\", \"flood\", \"backwards\", \"flashed\", \"chase\", \"apologizes\", \"coughing\", \"villager\", \"beng\", \"uncaring\", \"expecially\", \"lesser\", \"lil\", \"marriotte\", \"withstanding\", \"logging\", \"stool\", \"hotspot\", \"busses\", \"topmost\", \"truong\", \"yoga\", \"transfers\", \"cranky\", \"uncomfy\", \"grimy\", \"primary\", \"timings\", \"erratic\", \"unfortunate\", \"pushing\", \"changes\", \"password\", \"hardly\", \"wifi\", \"nothing\", \"bed\", \"walking\", \"bathroom\", \"adult\", \"apologetic\", \"dirty\", \"staff\", \"pillows\", \"room\", \"always\", \"beach\", \"small\", \"allow\", \"bad\", \"ac\", \"complain\", \"try\", \"old\", \"good\", \"night\", \"floor\", \"sleep\", \"quite\", \"came\", \"back\", \"weak\", \"noisy\", \"issue\", \"time\", \"smell\", \"towels\", \"around\", \"hard\", \"loud\", \"water\", \"place\", \"check\", \"hotel\", \"people\", \"breakfast\", \"poor\", \"food\", \"amenity\", \"ward\", \"signing\", \"motorcyklens\", \"noice\", \"nguyet\", \"dying\", \"volunteering\", \"gotta\", \"hrs\", \"vacay\", \"trashy\", \"mayo\", \"villagethe\", \"litteredpoor\", \"dies\", \"chaps\", \"overpowering\", \"scheme\", \"perfumed\", \"conversations\", \"hammering\", \"coped\", \"maple\", \"lengths\", \"fatty\", \"padlock\", \"discharged\", \"professionnal\", \"underpowered\", \"buses\", \"tree\", \"regulate\", \"address\", \"little\", \"toothbrush\", \"basin\", \"hang\", \"hard\", \"entering\", \"water\", \"beds\", \"heater\", \"updating\", \"cold\", \"rooms\", \"word\", \"urgent\", \"road\", \"area\", \"monotonous\", \"thing\", \"poor\", \"fi\", \"market\", \"time\", \"smell\", \"bathroom\", \"hot\", \"weak\", \"next\", \"pool\", \"hotel\", \"room\", \"noisy\", \"night\", \"need\", \"toilet\", \"shower\", \"pay\", \"door\", \"construction\", \"loud\", \"day\", \"breakfast\", \"noise\", \"bed\", \"staff\", \"place\", \"check\"], \"Freq\": [386.0, 534.0, 514.0, 316.0, 650.0, 411.0, 231.0, 2780.0, 567.0, 351.0, 377.0, 294.0, 415.0, 158.0, 293.0, 384.0, 216.0, 569.0, 411.0, 762.0, 61.0, 399.0, 483.0, 294.0, 300.0, 181.0, 185.0, 299.0, 142.0, 313.0, 8.095212364116492, 5.507050594480619, 5.502407530958925, 6.608166261404396, 6.330786704927163, 3.304574944695396, 3.3039462996343563, 3.301833726946104, 3.300793881544238, 3.2988542039262043, 5.502782313728723, 2.835734251364308, 2.8357105622647074, 2.835426293069502, 2.8353668935361753, 2.8351917002697267, 2.835144852423502, 2.8347806767132258, 2.8348236353042924, 2.8352891084330096, 2.8350944688907695, 2.834208602636307, 2.83416794224147, 2.8346763739612535, 2.834298762642249, 2.834525400147382, 2.8338449572790068, 2.833660040874663, 2.8334408283111956, 2.8339404208147103, 6.124928429398951, 5.75713854037484, 6.908696785995667, 6.451825982551513, 5.392878680759853, 8.222997024459918, 6.121346778966817, 5.662250260866171, 6.064097650174112, 5.212283238896631, 6.287190276014653, 4.857925422914646, 4.9046095668541865, 5.1395895243017105, 9.265928373509746, 192.33876637302953, 124.3610013557453, 5.0492332877583985, 5.494680288096706, 273.24823973499133, 52.489596928903225, 100.14642519796158, 11.677684489793824, 971.3444344450295, 59.3755868290102, 171.403202853629, 13.90722688050018, 8.080733020730834, 419.15994617726733, 176.7336490891761, 36.63975356774427, 204.97848924026727, 31.612310008794505, 100.50780064452371, 142.03456878878606, 60.80076831776266, 73.40816652467393, 45.23502443885715, 77.8959936088437, 126.4673427500966, 113.2121502040208, 156.29779970090615, 76.81841253202002, 51.21614447666053, 32.22112976844918, 139.13954867641638, 81.5871315236436, 54.61164808554481, 46.13095042857129, 123.54009980517185, 95.48486296445915, 91.83990394399686, 66.77702325093166, 72.52891200398012, 157.73193071934648, 104.82969937516947, 86.8770785916588, 111.1567679521653, 80.48309219754675, 71.60248293962817, 80.89849859104244, 78.65920972690941, 81.60903015159667, 74.49633768972497, 74.7794924365436, 6.8360400930171545, 6.309667069978056, 6.311570983636528, 7.261855513040611, 6.285497627127997, 6.966253266389761, 6.366785079768027, 3.786746858497267, 3.24954258886218, 3.248970754725236, 3.2480043970363077, 3.2481487056511402, 3.247006237448893, 3.246534909311884, 3.691073547060559, 3.2468355272579585, 3.246289194643386, 3.246438303544782, 3.2462723936404116, 3.245895871163043, 3.245327637241022, 3.2459945770555167, 3.2456024536468147, 3.244516088793785, 3.2449892170382557, 3.2447774043936164, 3.2446573972295147, 3.2426679784666206, 3.2391601690599314, 3.2406212562828682, 6.865888274872502, 4.101493548019333, 32.24063987858936, 6.295983253091372, 5.489401902376557, 5.430523987525036, 6.6103564203151715, 5.308426298624799, 9.214835300626861, 7.048254761656196, 19.402411471240313, 131.84055212269544, 13.354277214060486, 6.896526103867637, 251.11875430723677, 15.041282723705109, 84.92012230053763, 9.374696843926586, 51.402543792182044, 20.394367888342853, 11.234811487716104, 52.121770728075674, 135.66667813202102, 106.6270661460983, 101.83382640271087, 87.93266694126632, 86.24748794065933, 68.11643116583959, 198.0640862877279, 276.4550700164352, 47.46738407384034, 51.74142482245867, 57.34613860864134, 93.51287526453945, 96.63454962001556, 55.24973825923728, 410.05399590926646, 98.11365231842731, 77.92307579587522, 91.21684059750912, 40.34755583944232, 60.61699626995542, 56.19690680262546, 51.842322045748716, 79.70080432143736, 56.97839825554156, 48.28254473671679, 64.8491545183023, 102.89112792073836, 107.43528079431654, 99.721479501341, 84.3639514986521, 80.08732339557575, 83.28572073120529, 69.35378183231197, 76.79035217535316, 69.95842112763484, 67.09819918015701, 70.58069667579409, 67.60950650381479, 8.256154039687901, 9.048749621005891, 5.603528901357503, 4.281579155002953, 5.769720929711263, 3.361136957673797, 3.3589075287047896, 3.3490023596173297, 5.588866753016406, 6.041218715669541, 5.594524577115078, 3.0388881419386187, 5.562569035777602, 5.585136701535754, 50.82713908826839, 5.515655581473648, 2.8825856695994645, 2.882380932134684, 2.8819455336124595, 2.881252077508728, 2.880849967236173, 2.8811192190963304, 2.8814671254933177, 2.881985597346575, 2.8808426025791665, 2.8813560664656594, 2.8815678740011665, 2.881224975570944, 2.8812744660660274, 2.8802036449372825, 5.535705123708138, 6.774365607285957, 6.399928769898771, 5.665673055523456, 5.58876953954392, 5.725003910712927, 5.139958503979509, 57.06444503718503, 14.248758949043827, 220.20826895789358, 123.59520573171088, 163.0530630661056, 152.04304931287598, 28.033056671798153, 96.26827001700553, 37.31611609591487, 118.07673272705281, 195.79599346698242, 104.57572566822813, 598.6984155994762, 126.62215753215965, 80.5934707324087, 91.9428667340197, 279.80672161097215, 67.82544147267558, 125.85435727805113, 110.31295608791697, 34.516594330587736, 130.66674703266025, 32.52219807942317, 52.25496343833464, 42.86676734913828, 97.54536045918837, 77.16763968172702, 82.95511945075748, 139.1935351313327, 76.94464022426051, 51.66119533184273, 62.91610219488779, 70.37070935454572, 65.51566350655497, 83.14451250537195, 80.70333020473349, 62.289467686279835, 68.44162170336966, 72.29535228792523, 72.23229197042765, 71.76908450334695, 65.85214702593859, 5.147027822746267, 3.5411357867125934, 3.0979047202795726, 5.178960159494666, 2.667425630106252, 2.6666855503316764, 2.6666204484810025, 2.6661436802809, 2.6656516651789666, 2.6646896582777444, 2.665096968369507, 2.6649994366006537, 2.6647566962429363, 2.663787186897956, 2.6634430425423488, 2.663599625804007, 2.6628411529415086, 2.6633314739432383, 2.663362935804159, 2.662702478739144, 2.6625291964897664, 2.6621354391996306, 2.6618413918071817, 2.661114864834233, 2.6606753668386056, 2.6596182483116775, 2.6577346508998, 2.6566165447655488, 2.656597425634682, 2.6549050195314745, 5.322031761958982, 6.036938659597823, 5.545228979729691, 8.825589259973837, 5.315938809570259, 13.644936476918366, 108.70017575151115, 147.40816984557833, 144.11679065358257, 22.515766924838598, 140.23636798057467, 3.54997511754536, 7.480813970592441, 153.67230573554144, 209.49583097084115, 24.673442644024913, 586.4619123803424, 36.88517325302974, 52.9563758398412, 108.9230380214702, 8.437143700018911, 143.968406836909, 24.53437734652735, 26.821370026612176, 21.74709267494391, 82.04996212053543, 45.48239683752658, 127.75677011963562, 86.31411494658921, 57.533261499559096, 89.6503345508261, 40.721003336454835, 52.1984644505531, 50.13065929507182, 99.59340554811878, 47.714128937033415, 82.7806130174075, 79.82477796032909, 41.68554461158155, 54.362939803927276, 68.21267557040731, 56.04494703605724, 83.67136509601721, 64.58377740668567, 63.638244903898475, 110.766552054478, 54.25404497896656, 76.60336994702048, 55.819153488717646, 56.27927110396395, 4.876951669876912, 4.873438394995517, 4.862625087922961, 4.862168499937514, 4.8581220351128485, 4.872938130455171, 4.462466875432541, 2.5085407563873314, 2.508147835379988, 2.50818160071666, 2.5080292367347616, 2.5076159893307146, 2.5071782158612246, 2.507036267057802, 2.5070100611248622, 2.5069403466237734, 2.5054198985530305, 2.5053913408055966, 2.5044198734325875, 2.5053973883285825, 2.5043971952213897, 2.504356374441234, 2.5043427675145153, 2.504552246991282, 2.503739527096657, 2.5028142560797915, 2.5026477812109253, 2.5019753302522263, 2.5004747046179383, 2.500831508474115, 4.869459460844196, 5.37397305803489, 3.342642004503238, 16.32935492407566, 130.56058118591258, 5.331611839385109, 3.33821488170395, 10.644801579860713, 94.80445370255434, 4.999331696837108, 133.0123813938568, 47.408940945685686, 9.35578011874821, 5.673526022023386, 53.95142009079358, 103.24955883713729, 10.737045791860925, 6.870706439334746, 33.26170433340834, 47.37793462338921, 6.481341375506927, 31.145122356262846, 65.0371317887332, 10.525234659009529, 25.14921296305813, 74.87159754191919, 71.67530156199636, 75.36135551899743, 36.33208013360964, 41.264189916748315, 57.472959920270135, 54.79858936413534, 132.31263191639897, 214.13385472872687, 73.20233605721782, 73.99960923424268, 57.29130845649717, 48.536946435347616, 57.80056902325841, 48.8439617067274, 47.156568404219854, 26.58673605472207, 39.80894086326526, 43.6406621783783, 65.62557996536778, 52.97766675409582, 51.19092205618546, 58.21908449177299, 43.241893888254175, 41.50222848484321], \"Total\": [386.0, 534.0, 514.0, 316.0, 650.0, 411.0, 231.0, 2780.0, 567.0, 351.0, 377.0, 294.0, 415.0, 158.0, 293.0, 384.0, 216.0, 569.0, 411.0, 762.0, 61.0, 399.0, 483.0, 294.0, 300.0, 181.0, 185.0, 299.0, 142.0, 313.0, 8.824943227846404, 6.154311634826224, 6.1526104915169375, 7.5633296241306045, 7.529432238600043, 3.9496694659100116, 3.9489345059777974, 3.9490615706833743, 3.949115653524753, 3.9492156998527257, 6.596458052557057, 3.4779317401555274, 3.4781357685364593, 3.478029467140638, 3.4780199453019205, 3.4778688907347153, 3.477870356951369, 3.477588902571172, 3.477722182356696, 3.478429137546365, 3.478211408832072, 3.4772057416471216, 3.4771783283890176, 3.47787903123846, 3.477545880683987, 3.477865957187799, 3.4772235233919435, 3.4770954531330727, 3.476872815495214, 3.4775996587563354, 7.534705702316541, 7.103961003184314, 8.565355202430496, 8.028682013857551, 6.68672344823366, 10.291132883496985, 7.630717804789759, 7.071423598385762, 7.600977489943875, 6.599498503543218, 8.096554700004639, 6.173047752074256, 6.241089069701126, 6.575063219503722, 12.592738893105375, 350.0017916362974, 220.1831908809821, 6.532366927109226, 7.170687134032013, 534.1830232579233, 86.04634911662238, 184.54728559971412, 16.792371901966725, 2780.6926130628412, 113.28754225407293, 403.82255656563973, 21.108216179277814, 11.193348721127089, 1218.5009217755517, 443.9490417657447, 69.6819478202154, 569.111230657675, 58.809865830136864, 245.51986219635293, 377.89237069867823, 134.8961704468706, 173.00409889588687, 93.91612190476924, 188.34064029679553, 352.4739843867297, 313.46718299287573, 501.04731277801136, 198.7145003222214, 116.68151991698237, 63.87971383013223, 483.54231475733394, 233.37306245812871, 136.11047101108105, 108.59382994301727, 426.5744429666532, 299.36759150073374, 291.54325316052865, 186.19183570912472, 212.54322256793006, 762.7044676010212, 399.1741520503344, 302.7510474199098, 567.1403721748469, 284.1492883155842, 226.11472748236358, 351.09131847206737, 342.3761135717836, 411.51639604734777, 294.1472590799675, 380.73726606653014, 7.471361971624373, 6.933600377184679, 6.935844139125596, 7.986981176867982, 6.929477311428428, 7.964900120562645, 7.409463394911699, 4.408858893842623, 3.8686260251170204, 3.86855324800314, 3.8677476876035213, 3.8685439675426214, 3.867272187499187, 3.8667443550587, 4.396436544279414, 3.867651973455976, 3.867239175491804, 3.86758936087685, 3.867593139310435, 3.867151197168222, 3.8669338428452575, 3.867757062996163, 3.8680734513388213, 3.8668048498541254, 3.867370256675405, 3.8673002753642916, 3.8675954852659187, 3.866672251239547, 3.8649828636466275, 3.866992224497802, 8.366046049794086, 4.923504548782073, 42.0327282275166, 7.879372828364565, 6.803828148646449, 6.73434572723949, 8.385750220382217, 6.7052459733852965, 12.547762878383086, 9.314213385591792, 30.289962252581248, 294.5769077705568, 20.120135239598387, 9.367846931475869, 650.0346740956488, 23.66096408771902, 194.975241111505, 13.757235894071808, 107.45758291848927, 35.51117673259226, 17.532822858556937, 117.39834468615412, 426.5744429666532, 316.8970078985561, 299.36759150073374, 249.78229585163947, 245.40538673993947, 184.03290376912878, 762.7044676010212, 1218.5009217755517, 118.12282568297593, 134.2782058875131, 157.53848411841605, 309.67572320826184, 335.8751012082395, 154.4138870838702, 2780.6926130628412, 352.4739843867297, 254.2339706880737, 320.1349935320316, 100.05252736111119, 184.273178637032, 166.7946602343834, 149.70597721740688, 291.54325316052865, 174.33599787991204, 134.95367332051637, 226.11472748236358, 514.8294777220021, 569.111230657675, 501.04731277801136, 374.06967532001966, 399.1741520503344, 483.54231475733394, 302.7510474199098, 415.0094458369941, 313.46718299287573, 300.2472661226991, 380.73726606653014, 384.63052496886917, 8.959510682297108, 9.923567842730565, 6.245075479952553, 4.9579588506154675, 6.716749093051909, 4.002151998889775, 4.002279405269744, 4.002877627481047, 6.714801010032965, 7.267021721329622, 6.769740370207956, 3.6804545245169766, 6.744749233170269, 6.782251504188738, 61.76902693329649, 6.714312167099685, 3.523202967643871, 3.5230497065816495, 3.5225563682885017, 3.5218157843256894, 3.521618474810437, 3.521963000622861, 3.5224651575772685, 3.5231054247824902, 3.5217368169752152, 3.5224943384336664, 3.5228754091851324, 3.522503782846692, 3.5227597833461823, 3.521569677376694, 6.775898607608205, 8.528798345888827, 8.10647142551135, 7.267466671820184, 7.185645995500291, 7.578065681669754, 6.717282128023223, 105.5488409808837, 21.757238903295438, 567.1403721748469, 293.52267959322614, 411.51639604734777, 384.63052496886917, 52.705628661234144, 232.85229912755855, 76.41817693750266, 342.3761135717836, 650.0346740956488, 300.2472661226991, 2780.6926130628412, 386.29781052340394, 225.5910875537999, 269.73267303404555, 1218.5009217755517, 186.19183570912472, 443.9490417657447, 374.06967532001966, 81.01921069804497, 514.8294777220021, 76.47336986877868, 154.23483615154663, 117.06302632821615, 380.73726606653014, 286.570292031949, 320.1349935320316, 762.7044676010212, 309.67572320826184, 163.04026048139872, 230.38000345967993, 284.1492883155842, 254.2339706880737, 426.5744429666532, 415.0094458369941, 245.3465637500204, 335.8751012082395, 411.5457029655159, 501.04731277801136, 483.54231475733394, 403.82255656563973, 5.836363714119541, 4.206615440656956, 3.763600934777046, 6.352764966453969, 3.319139584291291, 3.3191358974908254, 3.319262593638434, 3.3188769316101143, 3.319748644235606, 3.3188202851516984, 3.3199083995954117, 3.319789181360271, 3.3196682994218527, 3.3188575864509127, 3.318628242904722, 3.319213016433894, 3.318297178410652, 3.319240956450275, 3.3194734356073656, 3.3186805932273176, 3.3195353991612078, 3.3193076109072823, 3.3196982052210156, 3.3192144075570997, 3.3188487696888926, 3.3191035891144245, 3.319274486393213, 3.3194944458943767, 3.319574902033409, 3.318076470041078, 6.72002948332417, 7.7532087501897315, 7.283347367600063, 12.598208721698889, 7.2204213292255295, 21.019754969032558, 231.03207684686132, 351.09131847206737, 415.0094458369941, 43.999939254786476, 411.5457029655159, 4.698551596967432, 11.692812115889598, 483.54231475733394, 762.7044676010212, 52.900821779863605, 2780.6926130628412, 88.78995199744068, 142.90579120543006, 380.73726606653014, 14.508441165498073, 567.1403721748469, 58.29233564698981, 66.56373616035339, 50.715618031872474, 300.2472661226991, 138.74467326928308, 569.111230657675, 374.06967532001966, 212.54322256793006, 403.82255656563973, 130.9854913126178, 190.88634262821714, 181.01831899380335, 501.04731277801136, 169.58210325950677, 399.1741520503344, 377.89237069867823, 141.0098339718516, 215.08990601366136, 316.8035858633344, 238.9137531217277, 514.8294777220021, 342.3761135717836, 335.8751012082395, 1218.5009217755517, 249.78229585163947, 650.0346740956488, 294.1472590799675, 309.67572320826184, 5.5393732974667715, 5.537496302368986, 5.538763019104172, 5.5398232034973045, 5.53906129519466, 6.008827685393262, 5.589027828382183, 3.1699287346235456, 3.1698750399545674, 3.169934691672707, 3.1698486725101263, 3.1696328420683226, 3.169511755289315, 3.1701004567847013, 3.1700803240627273, 3.1699999601890334, 3.1697324494500143, 3.1702007123868916, 3.169128951481104, 3.1703840823057368, 3.169542036890867, 3.1698996201679464, 3.1699200063991677, 3.170380703674407, 3.1699442780385967, 3.1688186400454583, 3.169944623722747, 3.1705060508468677, 3.169872965873419, 3.1708264758154727, 6.48950250914212, 7.470418694023655, 4.476987548556937, 30.316813757798386, 386.29781052340394, 7.906346548399962, 4.4856467228072185, 18.89996214544925, 316.8035858633344, 7.633304955104297, 514.8294777220021, 158.16721669564353, 18.341167986866488, 9.550577519528431, 216.10743190399987, 534.1830232579233, 23.257679366821193, 12.699970820541619, 113.67789889295702, 185.8717608208633, 11.75684455728323, 104.81309751098158, 294.1472590799675, 23.244636909978183, 81.89804336614732, 399.1741520503344, 377.89237069867823, 411.5457029655159, 143.65148337526978, 181.01831899380335, 313.46718299287573, 294.5769077705568, 1218.5009217755517, 2780.6926130628412, 501.04731277801136, 569.111230657675, 384.63052496886917, 293.52267959322614, 411.51639604734777, 316.8970078985561, 299.36759150073374, 111.70396075764232, 238.9137531217277, 284.1492883155842, 650.0346740956488, 443.9490417657447, 415.0094458369941, 762.7044676010212, 342.3761135717836, 335.8751012082395], \"Category\": [\"Default\", \"Default\", \"Default\", \"Default\", \"Default\", \"Default\", \"Default\", \"Default\", \"Default\", \"Default\", \"Default\", \"Default\", \"Default\", \"Default\", \"Default\", \"Default\", \"Default\", \"Default\", \"Default\", \"Default\", \"Default\", \"Default\", \"Default\", \"Default\", \"Default\", \"Default\", \"Default\", \"Default\", \"Default\", \"Default\", \"Topic1\", \"Topic1\", \"Topic1\", \"Topic1\", \"Topic1\", \"Topic1\", \"Topic1\", \"Topic1\", \"Topic1\", \"Topic1\", \"Topic1\", \"Topic1\", \"Topic1\", \"Topic1\", \"Topic1\", \"Topic1\", \"Topic1\", \"Topic1\", \"Topic1\", \"Topic1\", \"Topic1\", \"Topic1\", \"Topic1\", \"Topic1\", \"Topic1\", \"Topic1\", \"Topic1\", \"Topic1\", \"Topic1\", \"Topic1\", \"Topic1\", \"Topic1\", \"Topic1\", \"Topic1\", \"Topic1\", \"Topic1\", \"Topic1\", \"Topic1\", \"Topic1\", \"Topic1\", \"Topic1\", \"Topic1\", \"Topic1\", \"Topic1\", \"Topic1\", \"Topic1\", \"Topic1\", \"Topic1\", \"Topic1\", \"Topic1\", \"Topic1\", \"Topic1\", \"Topic1\", \"Topic1\", \"Topic1\", \"Topic1\", \"Topic1\", \"Topic1\", \"Topic1\", \"Topic1\", \"Topic1\", \"Topic1\", \"Topic1\", \"Topic1\", \"Topic1\", \"Topic1\", \"Topic1\", \"Topic1\", \"Topic1\", \"Topic1\", \"Topic1\", \"Topic1\", \"Topic1\", \"Topic1\", \"Topic1\", \"Topic1\", \"Topic1\", \"Topic1\", \"Topic1\", \"Topic1\", \"Topic1\", \"Topic1\", \"Topic1\", \"Topic1\", \"Topic1\", \"Topic1\", \"Topic1\", \"Topic1\", \"Topic1\", \"Topic1\", \"Topic1\", \"Topic1\", \"Topic1\", \"Topic1\", \"Topic1\", \"Topic2\", \"Topic2\", \"Topic2\", \"Topic2\", \"Topic2\", \"Topic2\", \"Topic2\", \"Topic2\", \"Topic2\", \"Topic2\", \"Topic2\", \"Topic2\", \"Topic2\", \"Topic2\", \"Topic2\", \"Topic2\", \"Topic2\", \"Topic2\", \"Topic2\", \"Topic2\", \"Topic2\", \"Topic2\", \"Topic2\", \"Topic2\", \"Topic2\", \"Topic2\", \"Topic2\", \"Topic2\", \"Topic2\", \"Topic2\", \"Topic2\", \"Topic2\", \"Topic2\", \"Topic2\", \"Topic2\", \"Topic2\", \"Topic2\", \"Topic2\", \"Topic2\", \"Topic2\", \"Topic2\", \"Topic2\", \"Topic2\", \"Topic2\", \"Topic2\", \"Topic2\", \"Topic2\", \"Topic2\", \"Topic2\", \"Topic2\", \"Topic2\", \"Topic2\", \"Topic2\", \"Topic2\", \"Topic2\", \"Topic2\", \"Topic2\", \"Topic2\", \"Topic2\", \"Topic2\", \"Topic2\", \"Topic2\", \"Topic2\", \"Topic2\", \"Topic2\", \"Topic2\", \"Topic2\", \"Topic2\", \"Topic2\", \"Topic2\", \"Topic2\", \"Topic2\", \"Topic2\", \"Topic2\", \"Topic2\", \"Topic2\", \"Topic2\", \"Topic2\", \"Topic2\", \"Topic2\", \"Topic2\", \"Topic2\", \"Topic2\", \"Topic2\", \"Topic2\", \"Topic2\", \"Topic2\", \"Topic2\", \"Topic2\", \"Topic2\", \"Topic3\", \"Topic3\", \"Topic3\", \"Topic3\", \"Topic3\", \"Topic3\", \"Topic3\", \"Topic3\", \"Topic3\", \"Topic3\", \"Topic3\", \"Topic3\", \"Topic3\", \"Topic3\", \"Topic3\", \"Topic3\", \"Topic3\", \"Topic3\", \"Topic3\", \"Topic3\", \"Topic3\", \"Topic3\", \"Topic3\", \"Topic3\", \"Topic3\", \"Topic3\", \"Topic3\", \"Topic3\", \"Topic3\", \"Topic3\", \"Topic3\", \"Topic3\", \"Topic3\", \"Topic3\", \"Topic3\", \"Topic3\", \"Topic3\", \"Topic3\", \"Topic3\", \"Topic3\", \"Topic3\", \"Topic3\", \"Topic3\", \"Topic3\", \"Topic3\", \"Topic3\", \"Topic3\", \"Topic3\", \"Topic3\", \"Topic3\", \"Topic3\", \"Topic3\", \"Topic3\", \"Topic3\", \"Topic3\", \"Topic3\", \"Topic3\", \"Topic3\", \"Topic3\", \"Topic3\", \"Topic3\", \"Topic3\", \"Topic3\", \"Topic3\", \"Topic3\", \"Topic3\", \"Topic3\", \"Topic3\", \"Topic3\", \"Topic3\", \"Topic3\", \"Topic3\", \"Topic3\", \"Topic3\", \"Topic3\", \"Topic3\", \"Topic3\", \"Topic3\", \"Topic3\", \"Topic4\", \"Topic4\", \"Topic4\", \"Topic4\", \"Topic4\", \"Topic4\", \"Topic4\", \"Topic4\", \"Topic4\", \"Topic4\", \"Topic4\", \"Topic4\", \"Topic4\", \"Topic4\", \"Topic4\", \"Topic4\", \"Topic4\", \"Topic4\", \"Topic4\", \"Topic4\", \"Topic4\", \"Topic4\", \"Topic4\", \"Topic4\", \"Topic4\", \"Topic4\", \"Topic4\", \"Topic4\", \"Topic4\", \"Topic4\", \"Topic4\", \"Topic4\", \"Topic4\", \"Topic4\", \"Topic4\", \"Topic4\", \"Topic4\", \"Topic4\", \"Topic4\", \"Topic4\", \"Topic4\", \"Topic4\", \"Topic4\", \"Topic4\", \"Topic4\", \"Topic4\", \"Topic4\", \"Topic4\", \"Topic4\", \"Topic4\", \"Topic4\", \"Topic4\", \"Topic4\", \"Topic4\", \"Topic4\", \"Topic4\", \"Topic4\", \"Topic4\", \"Topic4\", \"Topic4\", \"Topic4\", \"Topic4\", \"Topic4\", \"Topic4\", \"Topic4\", \"Topic4\", \"Topic4\", \"Topic4\", \"Topic4\", \"Topic4\", \"Topic4\", \"Topic4\", \"Topic4\", \"Topic4\", \"Topic4\", \"Topic4\", \"Topic4\", \"Topic4\", \"Topic4\", \"Topic4\", \"Topic5\", \"Topic5\", \"Topic5\", \"Topic5\", \"Topic5\", \"Topic5\", \"Topic5\", \"Topic5\", \"Topic5\", \"Topic5\", \"Topic5\", \"Topic5\", \"Topic5\", \"Topic5\", \"Topic5\", \"Topic5\", \"Topic5\", \"Topic5\", \"Topic5\", \"Topic5\", \"Topic5\", \"Topic5\", \"Topic5\", \"Topic5\", \"Topic5\", \"Topic5\", \"Topic5\", \"Topic5\", \"Topic5\", \"Topic5\", \"Topic5\", \"Topic5\", \"Topic5\", \"Topic5\", \"Topic5\", \"Topic5\", \"Topic5\", \"Topic5\", \"Topic5\", \"Topic5\", \"Topic5\", \"Topic5\", \"Topic5\", \"Topic5\", \"Topic5\", \"Topic5\", \"Topic5\", \"Topic5\", \"Topic5\", \"Topic5\", \"Topic5\", \"Topic5\", \"Topic5\", \"Topic5\", \"Topic5\", \"Topic5\", \"Topic5\", \"Topic5\", \"Topic5\", \"Topic5\", \"Topic5\", \"Topic5\", \"Topic5\", \"Topic5\", \"Topic5\", \"Topic5\", \"Topic5\", \"Topic5\", \"Topic5\", \"Topic5\", \"Topic5\", \"Topic5\", \"Topic5\", \"Topic5\", \"Topic5\", \"Topic5\", \"Topic5\", \"Topic5\", \"Topic5\", \"Topic5\"], \"logprob\": [30.0, 29.0, 28.0, 27.0, 26.0, 25.0, 24.0, 23.0, 22.0, 21.0, 20.0, 19.0, 18.0, 17.0, 16.0, 15.0, 14.0, 13.0, 12.0, 11.0, 10.0, 9.0, 8.0, 7.0, 6.0, 5.0, 4.0, 3.0, 2.0, 1.0, -8.0068, -8.3921, -8.3929, -8.2098, -8.2527, -8.9028, -8.903, -8.9036, -8.9039, -8.9045, -8.3929, -9.0558, -9.0558, -9.0559, -9.0559, -9.056, -9.056, -9.0561, -9.0561, -9.056, -9.056, -9.0563, -9.0564, -9.0562, -9.0563, -9.0562, -9.0565, -9.0565, -9.0566, -9.0564, -8.2857, -8.3477, -8.1653, -8.2337, -8.413, -7.9912, -8.2863, -8.3643, -8.2957, -8.4471, -8.2596, -8.5175, -8.5079, -8.4611, -7.8718, -4.8389, -5.2749, -8.4789, -8.3943, -4.4877, -6.1375, -5.4915, -7.6404, -3.2194, -6.0142, -4.9541, -7.4657, -8.0086, -4.0599, -4.9235, -6.497, -4.7752, -6.6446, -5.4879, -5.142, -5.9905, -5.8021, -6.2862, -5.7427, -5.2581, -5.3688, -5.0463, -5.7567, -6.1621, -6.6255, -5.1626, -5.6964, -6.0979, -6.2666, -5.2815, -5.5391, -5.5781, -5.8968, -5.8141, -5.0372, -5.4458, -5.6336, -5.3872, -5.7101, -5.827, -5.7049, -5.733, -5.6962, -5.7874, -5.7836, -8.0117, -8.0918, -8.0915, -7.9512, -8.0956, -7.9928, -8.0828, -8.6024, -8.7554, -8.7555, -8.7558, -8.7558, -8.7561, -8.7563, -8.628, -8.7562, -8.7564, -8.7563, -8.7564, -8.7565, -8.7567, -8.7565, -8.7566, -8.7569, -8.7568, -8.7568, -8.7569, -8.7575, -8.7586, -8.7581, -8.0073, -8.5225, -6.4606, -8.094, -8.2311, -8.2418, -8.0452, -8.2646, -7.7131, -7.9811, -6.9685, -5.0523, -7.342, -8.0029, -4.4079, -7.2231, -5.4922, -7.6959, -5.9942, -6.9186, -7.5149, -5.9803, -5.0237, -5.2645, -5.3105, -5.4573, -5.4767, -5.7127, -4.6453, -4.3118, -6.0738, -5.9876, -5.8848, -5.3958, -5.3629, -5.922, -3.9176, -5.3477, -5.5782, -5.4206, -6.2363, -5.8293, -5.905, -5.9857, -5.5556, -5.8912, -6.0568, -5.7618, -5.3002, -5.257, -5.3315, -5.4987, -5.5508, -5.5116, -5.6947, -5.5928, -5.686, -5.7277, -5.6771, -5.7201, -7.8046, -7.713, -8.1922, -8.4613, -8.163, -8.7033, -8.704, -8.7069, -8.1948, -8.117, -8.1938, -8.8041, -8.1995, -8.1955, -5.9872, -8.208, -8.8569, -8.857, -8.8571, -8.8574, -8.8575, -8.8574, -8.8573, -8.8571, -8.8575, -8.8573, -8.8573, -8.8574, -8.8574, -8.8577, -8.2044, -8.0025, -8.0593, -8.1812, -8.1948, -8.1708, -8.2786, -5.8714, -7.2589, -4.521, -5.0986, -4.8215, -4.8914, -6.5822, -5.3485, -6.2962, -5.1443, -4.6385, -5.2657, -3.5208, -5.0744, -5.5262, -5.3944, -4.2815, -5.6987, -5.0805, -5.2123, -6.3742, -5.043, -6.4337, -5.9595, -6.1575, -5.3353, -5.5696, -5.4973, -4.9797, -5.5725, -5.9709, -5.7738, -5.6618, -5.7333, -5.495, -5.5248, -5.7838, -5.6896, -5.6348, -5.6357, -5.6422, -5.7282, -8.0806, -8.4546, -8.5883, -8.0744, -8.7379, -8.7382, -8.7382, -8.7384, -8.7386, -8.7389, -8.7388, -8.7388, -8.7389, -8.7393, -8.7394, -8.7394, -8.7396, -8.7395, -8.7394, -8.7397, -8.7398, -8.7399, -8.74, -8.7403, -8.7404, -8.7408, -8.7416, -8.742, -8.742, -8.7426, -8.0472, -7.9211, -8.0061, -7.5414, -8.0483, -7.1057, -5.0304, -4.7258, -4.7484, -6.6048, -4.7757, -8.4521, -7.7067, -4.6842, -4.3743, -6.5133, -3.3449, -6.1112, -5.7496, -5.0284, -7.5864, -4.7494, -6.519, -6.4298, -6.6395, -5.3117, -5.9017, -4.8689, -5.261, -5.6667, -5.2231, -6.0123, -5.764, -5.8044, -5.1179, -5.8538, -5.3028, -5.3392, -5.9889, -5.7233, -5.4964, -5.6929, -5.2921, -5.5511, -5.5658, -5.0116, -5.7254, -5.3804, -5.6969, -5.6887, -7.7694, -7.7701, -7.7723, -7.7724, -7.7733, -7.7702, -7.8582, -8.4342, -8.4344, -8.4344, -8.4344, -8.4346, -8.4348, -8.4348, -8.4348, -8.4349, -8.4355, -8.4355, -8.4359, -8.4355, -8.4359, -8.4359, -8.4359, -8.4358, -8.4361, -8.4365, -8.4366, -8.4368, -8.4374, -8.4373, -7.7709, -7.6724, -8.1472, -6.561, -4.4821, -7.6803, -8.1485, -6.9888, -4.8021, -7.7446, -4.4635, -5.4951, -7.1179, -7.6181, -5.3658, -4.7168, -6.9802, -7.4267, -5.8495, -5.4958, -7.485, -5.9153, -5.179, -7.0001, -6.1291, -5.0381, -5.0818, -5.0316, -5.7612, -5.6339, -5.3026, -5.3503, -4.4688, -3.9873, -5.0607, -5.0499, -5.3058, -5.4716, -5.2969, -5.4653, -5.5004, -6.0735, -5.6698, -5.5779, -5.17, -5.384, -5.4184, -5.2897, -5.5871, -5.6282], \"loglift\": [30.0, 29.0, 28.0, 27.0, 26.0, 25.0, 24.0, 23.0, 22.0, 21.0, 20.0, 19.0, 18.0, 17.0, 16.0, 15.0, 14.0, 13.0, 12.0, 11.0, 10.0, 9.0, 8.0, 7.0, 6.0, 5.0, 4.0, 3.0, 2.0, 1.0, 1.2595, 1.2347, 1.2341, 1.2108, 1.1724, 1.1675, 1.1675, 1.1668, 1.1665, 1.1659, 1.1645, 1.1417, 1.1416, 1.1415, 1.1415, 1.1415, 1.1415, 1.1414, 1.1414, 1.1414, 1.1414, 1.1414, 1.1413, 1.1413, 1.1413, 1.1413, 1.1412, 1.1412, 1.1412, 1.1411, 1.1387, 1.1356, 1.1309, 1.1272, 1.1308, 1.1215, 1.1254, 1.1236, 1.1199, 1.1098, 1.0929, 1.1062, 1.1048, 1.0995, 1.039, 0.7471, 0.7745, 1.0883, 1.0796, 0.6755, 0.8515, 0.7345, 0.9826, 0.294, 0.6998, 0.4889, 0.9286, 1.02, 0.2787, 0.4248, 0.703, 0.3246, 0.7251, 0.4527, 0.3673, 0.5489, 0.4885, 0.6153, 0.4629, 0.3208, 0.3274, 0.1809, 0.3954, 0.5224, 0.6614, 0.1002, 0.2949, 0.4326, 0.4897, 0.1066, 0.2031, 0.1907, 0.3204, 0.2707, -0.2302, 0.0088, 0.0974, -0.2838, 0.0844, 0.1959, -0.122, -0.125, -0.2721, -0.0275, -0.2817, 1.4212, 1.4158, 1.4157, 1.4149, 1.4125, 1.3761, 1.3584, 1.3579, 1.3357, 1.3355, 1.3354, 1.3353, 1.3352, 1.3352, 1.3352, 1.3351, 1.335, 1.335, 1.3349, 1.3349, 1.3348, 1.3348, 1.3346, 1.3346, 1.3346, 1.3345, 1.3344, 1.3341, 1.3334, 1.3333, 1.3124, 1.3274, 1.2448, 1.2857, 1.2954, 1.2949, 1.2722, 1.2765, 1.2013, 1.2313, 1.0646, 0.7061, 1.1002, 1.2038, 0.559, 1.057, 0.6789, 1.1265, 0.7726, 0.9555, 1.065, 0.6981, 0.3645, 0.4208, 0.4317, 0.466, 0.4644, 0.5162, 0.1618, 0.0267, 0.5984, 0.5564, 0.4995, 0.3126, 0.2643, 0.4823, -0.4041, 0.2312, 0.3275, 0.2546, 0.6019, 0.3982, 0.4222, 0.4496, 0.2131, 0.3917, 0.4822, 0.2611, -0.1001, -0.1571, -0.1043, 0.0208, -0.0962, -0.2488, 0.0364, -0.1772, 0.0103, 0.0116, -0.1753, -0.2285, 1.4466, 1.436, 1.4199, 1.3817, 1.3763, 1.3538, 1.3531, 1.35, 1.3448, 1.3436, 1.3377, 1.3368, 1.3356, 1.3341, 1.3334, 1.3317, 1.3276, 1.3276, 1.3276, 1.3276, 1.3275, 1.3275, 1.3275, 1.3275, 1.3275, 1.3274, 1.3274, 1.3274, 1.3273, 1.3273, 1.3262, 1.298, 1.2919, 1.2793, 1.277, 1.2479, 1.2607, 0.9133, 1.105, 0.5823, 0.6634, 0.6026, 0.6002, 0.897, 0.6451, 0.8115, 0.4637, 0.3284, 0.4736, -0.0074, 0.4129, 0.499, 0.4521, 0.057, 0.5185, 0.2677, 0.3072, 0.6751, 0.1571, 0.6733, 0.446, 0.5237, 0.1665, 0.2163, 0.1779, -0.1727, 0.1359, 0.379, 0.2304, 0.1326, 0.1724, -0.1069, -0.1092, 0.1574, -0.0624, -0.2108, -0.4085, -0.3794, -0.2852, 1.5992, 1.5527, 1.5302, 1.5206, 1.5063, 1.506, 1.506, 1.5059, 1.5055, 1.5054, 1.5052, 1.5052, 1.5051, 1.505, 1.505, 1.5049, 1.5048, 1.5047, 1.5047, 1.5047, 1.5044, 1.5043, 1.504, 1.5039, 1.5039, 1.5034, 1.5026, 1.5021, 1.5021, 1.5019, 1.4917, 1.4747, 1.4522, 1.369, 1.4187, 1.2928, 0.9709, 0.8571, 0.6672, 1.0549, 0.6483, 1.4446, 1.2783, 0.5786, 0.4327, 0.9622, 0.1686, 0.8464, 0.7322, 0.4734, 1.1828, 0.3539, 0.8595, 0.8159, 0.8781, 0.4276, 0.6096, 0.231, 0.2585, 0.4181, 0.2198, 0.5566, 0.4283, 0.4409, 0.1093, 0.4568, 0.1517, 0.1701, 0.5062, 0.3495, 0.1892, 0.275, -0.092, 0.057, 0.0614, -0.6731, 0.198, -0.4135, 0.0629, 0.0197, 1.9627, 1.9623, 1.9598, 1.9595, 1.9588, 1.8805, 1.8649, 1.856, 1.8559, 1.8559, 1.8558, 1.8557, 1.8556, 1.8553, 1.8553, 1.8553, 1.8548, 1.8547, 1.8546, 1.8546, 1.8545, 1.8543, 1.8543, 1.8543, 1.8541, 1.8541, 1.8536, 1.8532, 1.8528, 1.8526, 1.8028, 1.7606, 1.7978, 1.4713, 1.0052, 1.696, 1.7946, 1.5159, 0.8835, 1.6668, 0.7366, 0.8852, 1.4169, 1.5692, 0.7023, 0.4464, 1.3171, 1.4757, 0.861, 0.7231, 1.4945, 0.8765, 0.5809, 1.2977, 0.9094, 0.4164, 0.4275, 0.3924, 0.7153, 0.6114, 0.3936, 0.4081, -0.1302, -0.4738, 0.1665, 0.05, 0.1859, 0.2904, 0.1272, 0.2201, 0.2418, 0.6546, 0.298, 0.2165, -0.203, -0.0358, -0.0027, -0.4826, 0.0209, -0.001]}, \"token.table\": {\"Topic\": [1, 2, 3, 4, 5, 1, 1, 2, 3, 4, 5, 4, 1, 2, 3, 4, 5, 2, 3, 4, 5, 1, 2, 3, 4, 5, 5, 1, 2, 3, 4, 5, 1, 4, 1, 2, 3, 4, 5, 1, 2, 3, 4, 1, 4, 1, 2, 3, 4, 5, 1, 2, 3, 4, 5, 1, 2, 3, 4, 5, 3, 1, 3, 1, 2, 3, 4, 5, 1, 2, 3, 4, 5, 1, 2, 3, 4, 5, 1, 2, 3, 4, 5, 2, 4, 1, 2, 3, 4, 5, 3, 1, 2, 4, 1, 2, 3, 4, 5, 1, 3, 5, 1, 1, 2, 3, 4, 5, 1, 1, 2, 3, 4, 5, 1, 2, 3, 4, 5, 1, 2, 3, 4, 5, 2, 4, 1, 2, 3, 4, 5, 2, 4, 1, 2, 3, 1, 2, 3, 4, 5, 1, 2, 3, 4, 5, 1, 2, 3, 4, 5, 2, 1, 2, 3, 4, 5, 1, 2, 3, 4, 5, 1, 3, 5, 4, 3, 5, 1, 2, 3, 4, 5, 2, 3, 1, 2, 3, 4, 5, 1, 1, 4, 3, 1, 2, 3, 4, 1, 2, 3, 5, 4, 1, 2, 3, 4, 5, 1, 2, 3, 4, 5, 1, 1, 2, 3, 4, 5, 3, 1, 2, 3, 4, 5, 2, 3, 2, 1, 2, 3, 4, 5, 1, 2, 3, 4, 5, 1, 2, 3, 4, 5, 1, 2, 3, 4, 5, 1, 2, 1, 2, 3, 4, 5, 5, 5, 4, 1, 2, 4, 2, 2, 3, 2, 1, 5, 1, 2, 3, 4, 5, 1, 2, 5, 1, 1, 2, 3, 4, 5, 1, 2, 3, 4, 5, 1, 2, 3, 4, 5, 4, 5, 2, 1, 1, 2, 3, 4, 5, 3, 1, 2, 3, 4, 5, 1, 5, 1, 2, 3, 4, 5, 1, 3, 3, 3, 2, 1, 5, 1, 2, 5, 1, 3, 4, 5, 1, 2, 3, 4, 5, 1, 2, 3, 4, 5, 4, 1, 1, 2, 3, 4, 5, 3, 5, 1, 2, 4, 5, 3, 4, 3, 1, 3, 5, 2, 4, 1, 2, 3, 4, 5, 1, 2, 3, 4, 5, 1, 2, 3, 4, 5, 1, 2, 3, 4, 5, 1, 2, 3, 4, 5, 1, 2, 3, 4, 5, 1, 2, 3, 4, 5, 1, 2, 3, 4, 5, 5, 1, 2, 4, 3, 1, 2, 3, 4, 5, 1, 2, 3, 4, 5, 5, 1, 2, 3, 4, 5, 1, 2, 3, 4, 5, 1, 2, 3, 4, 5, 1, 2, 3, 4, 5, 3, 1, 5, 1, 2, 3, 4, 5, 1, 2, 3, 4, 5, 4, 5, 3, 1, 1, 2, 3, 4, 5, 1, 2, 4, 1, 3, 1, 2, 3, 4, 5, 5, 4, 1, 2, 3, 4, 5, 4, 5, 1, 2, 3, 4, 5, 4, 1, 2, 3, 4, 5, 1, 2, 3, 4, 5, 1, 2, 3, 1, 1, 2, 3, 4, 5, 2, 1, 2, 3, 1, 5, 1, 2, 3, 4, 5, 4, 5, 3, 1, 3, 4, 5, 1, 2, 3, 4, 5, 5, 1, 2, 3, 4, 5, 1, 2, 3, 4, 5, 1, 2, 3, 4, 5, 1, 2, 3, 4, 5, 4, 1, 2, 3, 4, 5, 1, 2, 3, 4, 5, 1, 5, 1, 2, 3, 4, 5, 5, 1, 2, 3, 4, 5, 1, 2, 3, 4, 5, 1, 1, 2, 4, 1, 2, 3, 4, 5, 1, 1, 1, 2, 3, 4, 5, 2, 1, 3, 1, 2, 3, 4, 2, 3, 1, 2, 3, 4, 5, 5, 1, 2, 3, 5, 1, 2, 3, 4, 5, 1, 2, 4, 5, 2, 1, 2, 3, 4, 5, 1, 1, 2, 3, 4, 5, 5, 2, 1, 2, 3, 4, 5, 1, 2, 3, 4, 5, 1, 2, 3, 4, 5, 1, 2, 3, 4, 5, 1, 2, 3, 4, 5, 1, 2, 3, 4, 5, 1, 1, 2, 3, 4, 5, 2, 5, 1, 2, 1, 3, 4, 2, 1, 2, 3, 4, 5, 4, 1, 2, 3, 4, 5, 5, 1, 1, 2, 3, 4, 5, 2, 3, 1, 2, 2, 3, 4, 1, 2, 3, 4, 5, 1, 2, 3, 4, 5, 1, 2, 3, 4, 5, 1, 2, 3, 4, 5, 1, 3, 1, 2, 1, 5, 2, 1, 2, 3, 4, 5, 1, 2, 3, 4, 5, 1, 2, 3, 4, 5, 2, 2, 3, 3, 1, 2, 3, 4, 5, 5, 2, 5, 1, 3, 4, 2, 3, 3, 1, 3, 1, 2, 3, 4, 5, 3, 1, 2, 3, 4, 5, 5, 1, 2, 3, 4, 5, 1, 2, 3, 4, 5, 1, 2, 3, 4, 5, 1, 2, 3, 4, 5, 2, 1, 2, 3, 4, 5, 1, 2, 3, 1, 1, 2, 3, 4, 5, 1, 2, 3, 1, 2, 3, 4, 5, 1, 2, 3, 1, 2, 3, 4, 5, 4, 2, 1, 3, 2, 1, 2, 3, 4, 5, 1, 1, 1, 2, 3, 4, 5, 1, 2, 3, 4, 5, 4, 1, 2, 3, 4, 5, 1, 2, 3, 4, 5, 1, 2, 3, 5, 4, 1, 2, 1, 2, 3, 4, 5, 2, 1, 4, 5, 3, 2, 5, 4, 1, 2, 3, 4, 5, 2, 4, 4, 5, 2, 4, 2, 1, 2, 3, 4, 5, 2, 4, 5, 3, 2, 1, 3, 5, 1, 2, 3, 4, 5, 5, 4, 1, 2, 3, 4, 5, 4, 5, 2, 2, 1, 3, 5, 1, 4, 1, 2, 3, 4, 5, 5, 1, 2, 3, 4, 5, 1, 2, 3, 4, 5, 3, 2, 2, 1, 2, 3, 4, 5, 1, 2, 3, 4, 5, 4, 1, 2, 3, 4, 5, 4], \"Freq\": [0.22301388091096866, 0.0857745695811418, 0.13723931132982686, 0.428872847905709, 0.13723931132982686, 0.862768519953909, 0.06596999328419005, 0.06596999328419005, 0.2638799731367602, 0.032984996642095026, 0.5277599462735204, 0.8513261837076993, 0.25337950375005436, 0.0987750607839195, 0.4122785145763596, 0.15889901082630528, 0.07300765362289702, 0.06892539236937865, 0.1378507847387573, 0.5514031389550292, 0.20677617710813595, 0.15767549914210496, 0.14641296348909746, 0.14641296348909746, 0.4167138191612774, 0.13515042783608996, 0.9026291841148467, 0.1610628770720365, 0.09474286886590383, 0.5400343525356518, 0.07579429509272306, 0.13264001641226536, 0.9095790426006203, 0.1515965071001034, 0.15691736902128028, 0.13076447418440024, 0.43152276480852075, 0.15691736902128028, 0.13076447418440024, 0.08552262621590231, 0.17104525243180463, 0.08552262621590231, 0.5986583835113162, 0.862596845797823, 0.9039202301920202, 0.1506414953855493, 0.20982208285844364, 0.2528625101114577, 0.134501335165669, 0.2528625101114577, 0.1720210896258886, 0.27430389967371427, 0.2185132760112639, 0.2510578064810266, 0.07903671685513801, 0.22857563594409752, 0.39789092182861424, 0.1439179930018392, 0.1269864644133875, 0.10158917153071001, 0.7494608327279434, 0.139166332522672, 0.834997995136032, 0.184082004865565, 0.3618163543909381, 0.2031249708861407, 0.13964841748422174, 0.10791014078326225, 0.2241189597777024, 0.35044055528877105, 0.13039648568884504, 0.19559472853326756, 0.09779736426663378, 0.17279852370047621, 0.19748402708625853, 0.43199630925119054, 0.1481130203146939, 0.049371006771564634, 0.24621981516792069, 0.2724134125262101, 0.1152518283764735, 0.2724134125262101, 0.08905823101818407, 0.7757209165121308, 0.9038487004880108, 0.19571874168354778, 0.1093203782376573, 0.3879110195529775, 0.2539053946164944, 0.052896957211769666, 0.9069318759777395, 0.7410559456847198, 0.12350932428078663, 0.12350932428078663, 0.20649779986803357, 0.32695484979105316, 0.22944199985337063, 0.1319291499156881, 0.10898494993035104, 0.8625946943679956, 0.22293329408121054, 0.6687998822436316, 0.8626639907921042, 0.16766060124744306, 0.13364250824071547, 0.17495019260602754, 0.34018093006727573, 0.18223978396461202, 0.7596985960285428, 0.14694995789087414, 0.09096902155149351, 0.19593327718783218, 0.37087370324839664, 0.19593327718783218, 0.1493941899923698, 0.18553794563568507, 0.19517628047390248, 0.34698005417582667, 0.12288876918727194, 0.32244355730263485, 0.17702783538183875, 0.05690180422987674, 0.1454157219207961, 0.29715386653380077, 0.8124294311842323, 0.9036393896788243, 0.22814352442098565, 0.6273946921577105, 0.05703588110524641, 0.05703588110524641, 0.05703588110524641, 0.8367154517601886, 0.11953077882288408, 0.1269136543964704, 0.7614819263788224, 0.1269136543964704, 0.3513687446883989, 0.12854954073965813, 0.20567926518345303, 0.2142492345660969, 0.10283963259172652, 0.3574731911611227, 0.2780347042364288, 0.1390173521182144, 0.14185444093695346, 0.07943848692469394, 0.16507118623344968, 0.6272705076871088, 0.033014237246689934, 0.033014237246689934, 0.13205694898675974, 0.7756452184343021, 0.09384114791240229, 0.3861332479674258, 0.3015223768988664, 0.11845521949598323, 0.10153304528227133, 0.2760054471645919, 0.22080435773167353, 0.3189396278346396, 0.1288025420101429, 0.055201089432918383, 0.15409501708200973, 0.15409501708200973, 0.7704750854100486, 0.903740927347258, 0.8207486818320942, 0.11724981169029917, 0.23666743308244384, 0.10688206655336173, 0.1984952664562432, 0.31301176633484507, 0.14505423317956234, 0.1375995302293617, 0.8255971813761701, 0.43708721000794254, 0.32567282314317286, 0.05142202470681677, 0.08570337451136129, 0.10284404941363354, 0.7596637483438534, 0.7604489619458585, 0.1520897923891717, 0.8514979203727905, 0.07937636390145061, 0.07937636390145061, 0.15875272780290123, 0.7143872751130556, 0.11924991488172666, 0.8347494041720867, 0.11924991488172666, 0.9464521210679896, 0.9038152045426234, 0.5631674221081981, 0.16350021932173495, 0.12716683725023828, 0.09537512793767872, 0.049958400348307896, 0.1965016155189205, 0.2887978288687165, 0.20245620992858476, 0.19054702110925625, 0.12504648260294943, 0.7596445036192568, 0.5309840088779199, 0.12915827242976427, 0.15786011074748968, 0.12915827242976427, 0.05740367663545079, 0.8515214954673729, 0.1302839652611537, 0.47460587345134564, 0.24195593548499975, 0.12097796774249987, 0.02791799255596151, 0.7754855638633626, 0.8515770930127564, 0.7756762130710779, 0.11959369614063639, 0.25627220601564943, 0.36732349528909747, 0.16230573047657795, 0.09396647553907145, 0.2359937349246528, 0.08791923457977262, 0.2683850318750953, 0.1619564847522127, 0.24987571933198532, 0.520798658229156, 0.31777545247880706, 0.04413547951094542, 0.07944386311970177, 0.03530838360875634, 0.19530153729175803, 0.1502319517628908, 0.0751159758814454, 0.40562626975980515, 0.19530153729175803, 0.9751958145688967, 0.7756433382804157, 0.196949148900209, 0.1074268084910231, 0.2596147871866391, 0.2059013829411276, 0.24171031910480195, 0.9465089798723169, 0.9463961216509731, 0.9036828752710493, 0.7477503800939729, 0.14955007601879458, 0.903858502590585, 0.7758464807933902, 0.878855967311931, 0.12555085247313302, 0.9098277570285298, 0.7146101855089666, 0.23820339516965555, 0.28154214453336845, 0.21467588520669345, 0.2463493764666974, 0.10205902739334607, 0.15484817949335267, 0.7862956216561742, 0.13104927027602903, 0.9463722516328057, 0.862458276817494, 0.4791509603178665, 0.1810125850089718, 0.09583019206357331, 0.14906918765444735, 0.08518239294539849, 0.4141432240916466, 0.16990491244785502, 0.1911430265038369, 0.12742868433589127, 0.09557151325191846, 0.28746191544737354, 0.1716499207347626, 0.14890113605907118, 0.31848298545968, 0.07445056802953559, 0.8566978079011458, 0.9462211873712324, 0.7762000779401872, 0.8625573843876497, 0.3173356191422182, 0.3407182437105922, 0.12025349778020901, 0.06346712382844363, 0.15699762210193954, 0.7495967171742155, 0.38749059517620627, 0.15600270714886227, 0.2063261610678501, 0.11071159862177321, 0.13587332558126713, 0.17892199336024114, 0.7156879734409646, 0.4040835329672934, 0.2497970931070541, 0.1322455198802051, 0.08081670659345867, 0.1322455198802051, 0.14886973346380528, 0.7443486673190264, 0.8516542210671861, 0.8067836221560111, 0.8653512855663368, 0.7654193427576876, 0.15308386855153755, 0.1310048538452944, 0.1310048538452944, 0.6550242692264721, 0.1489247408085278, 0.8935484448511668, 0.7440443546278416, 0.14880887092556833, 0.13992650030189618, 0.3997900008625605, 0.09994750021564013, 0.20988975045284428, 0.13992650030189618, 0.23989392359871853, 0.1750577280314973, 0.3371482169495504, 0.19450858670166368, 0.058352576010499105, 0.9037047468033099, 0.8625597458267524, 0.4521996421242002, 0.10378352442194759, 0.17050150440748532, 0.16308839552020335, 0.10378352442194759, 0.8518524114407476, 0.9467250545954133, 0.12906202887222537, 0.12906202887222537, 0.30114473403519254, 0.47322743919815974, 0.8518810374998061, 0.9038497044570898, 0.85167627380121, 0.1319597958115955, 0.791758774869573, 0.1319597958115955, 0.15741177350028535, 0.7870588675014267, 0.1523780294439426, 0.22455709602265223, 0.29406286383918745, 0.2299036935470011, 0.09623875543827953, 0.18406350814160075, 0.30354332921597316, 0.24864719520882905, 0.18083432378823933, 0.0807296088340354, 0.04758196967787368, 0.7613115148459789, 0.07137295451681053, 0.07137295451681053, 0.04758196967787368, 0.24775771241522965, 0.21984135045295025, 0.2686949838869392, 0.17098771701896132, 0.09072817637740804, 0.2632235805969209, 0.23356458560008475, 0.3410784424636158, 0.08526961061590395, 0.0741474874920904, 0.0845274094743282, 0.6339555710574615, 0.0422637047371641, 0.0845274094743282, 0.1267911142114923, 0.15135716208176206, 0.2738843885289028, 0.2018095494423494, 0.3243367758894901, 0.04324490345193202, 0.21720716244303878, 0.15071517394006773, 0.3590567379160437, 0.18174476857478755, 0.08865598467062807, 0.9464095468075605, 0.8628443314434863, 0.7758343429493667, 0.9037520769798141, 0.8516669349253521, 0.6632488449565892, 0.09474983499379847, 0.04737491749689923, 0.09474983499379847, 0.04737491749689923, 0.548568620470137, 0.15428492450722603, 0.10857087280138128, 0.12857077042268836, 0.05714256463230594, 0.9464022081055852, 0.1587304766492531, 0.1587304766492531, 0.10582031776616874, 0.05291015888308437, 0.582011747713928, 0.22095709494335472, 0.13573078689377505, 0.1294177270382506, 0.21464403508783028, 0.29987034313740996, 0.14272288161397517, 0.09514858774265011, 0.04757429387132506, 0.6660401141985508, 0.09514858774265011, 0.054522154789491455, 0.27261077394745725, 0.10904430957898291, 0.054522154789491455, 0.4906993931054231, 0.8518333109164596, 0.7968728331521033, 0.1328121388586839, 0.16010972848721414, 0.22972265391643767, 0.15314843594429178, 0.2088387762876706, 0.25060653154520474, 0.3438651481604541, 0.22650783029185045, 0.22979055246999322, 0.09109554044346159, 0.10832983187871109, 0.9039737075397756, 0.9463917373064124, 0.8517977047088366, 0.9065214124841776, 0.2712550388032839, 0.1002464273838223, 0.23587394678546422, 0.2830487361425571, 0.10614327605345891, 0.7773682538711476, 0.09717103173389345, 0.09717103173389345, 0.8626335982844481, 0.8929059056547605, 0.42359681046462494, 0.19338115260341573, 0.15654664734562226, 0.12892076840227715, 0.09208626314448369, 0.9463888752821391, 0.9039254990173021, 0.18429725332134508, 0.28425508563122714, 0.25926562755375665, 0.16243147750355838, 0.10932887908893352, 0.9039879674422846, 0.9463482603984132, 0.1579092563774816, 0.08024896635576934, 0.32876189442524856, 0.09578102436011178, 0.33911659976147684, 0.9038210962569937, 0.15542643510401596, 0.35618558044670323, 0.19428304388001993, 0.15542643510401596, 0.1424742321786813, 0.24276542996019457, 0.21765176479189857, 0.13393954756424528, 0.23439420823742924, 0.1674244344553066, 0.6972832458789127, 0.13945664917578254, 0.13945664917578254, 0.759557230267823, 0.15178644488656165, 0.22767966732984246, 0.5312525571029657, 0.07589322244328083, 0.018973305610820206, 0.7756769708663817, 0.1453780407197807, 0.6542011832390131, 0.1453780407197807, 0.8625310222614885, 0.9462585980677528, 0.21978547057011044, 0.07326182352337014, 0.19536486272898707, 0.19536486272898707, 0.3052575980140423, 0.9038287043183353, 0.946518022844865, 0.851892841783774, 0.08505683605219663, 0.25517050815658987, 0.08505683605219663, 0.5103410163131797, 0.31842242564945633, 0.28746468982242585, 0.14594361175600082, 0.1282534769976977, 0.11940840961854612, 0.902555878830842, 0.4113720132313609, 0.16699259943055245, 0.24845240403082192, 0.08960578506029643, 0.08960578506029643, 0.20107507261914348, 0.3872556954146467, 0.1266028235009422, 0.1266028235009422, 0.15639172314822272, 0.15560895441597045, 0.35567761009364673, 0.24452835693938213, 0.14078905399540184, 0.1111492531542646, 0.18199283586674664, 0.17679304055626816, 0.3951844435963641, 0.09879611089909103, 0.14819416634863655, 0.7971089528326198, 0.03237868717212871, 0.08094671793032178, 0.8256565228892822, 0.03237868717212871, 0.016189343586064355, 0.3604843062712826, 0.22330886229194497, 0.10208405133346056, 0.13079519077099633, 0.1818372164377266, 0.16642181343140855, 0.8321090671570428, 0.3602107794694165, 0.1880124556255003, 0.09664191644301418, 0.22491209644919663, 0.1300273057596918, 0.9026800270900928, 0.39869440712386145, 0.10361549563670976, 0.2838163576135963, 0.09460545253786544, 0.11938307105968733, 0.3113478428515506, 0.19958195054586578, 0.14369900439302336, 0.19958195054586578, 0.145694823898482, 0.9749262559352697, 0.10736279689994063, 0.7515395782995844, 0.10736279689994063, 0.23070920794199107, 0.17944049506599305, 0.11393047305777336, 0.4186944884873171, 0.054116974702442346, 0.8626666590124945, 0.8627573061721312, 0.09325646944794333, 0.2231494090361501, 0.3497117604297875, 0.2731082319546912, 0.05995058750224928, 0.7754691150094443, 0.7576333258224909, 0.15152666516449817, 0.7146975790094061, 0.07941084211215624, 0.07941084211215624, 0.07941084211215624, 0.14826348103233555, 0.8895808861940133, 0.5418665447992637, 0.13546663619981592, 0.11379197440784537, 0.13004797075182328, 0.07586131627189692, 0.94631232283752, 0.10674811483522541, 0.7472368038465779, 0.10674811483522541, 0.946388772077928, 0.15703070239184064, 0.10468713492789375, 0.4841779990415086, 0.23554605358776093, 0.026171783731973437, 0.13849607306880818, 0.13849607306880818, 0.6924803653440409, 0.13849607306880818, 0.775764858171771, 0.23351435373504253, 0.3376491331033723, 0.12937957436671274, 0.1451575712407021, 0.15462436936509572, 0.8626773313512516, 0.24821615074282719, 0.35230679460272246, 0.09208018495298427, 0.21618826032439786, 0.08807669865068062, 0.9462575896539889, 0.7757349536861102, 0.5009415052342566, 0.14088979834713466, 0.10958095426999363, 0.20350748650141676, 0.03130884407714104, 0.544126390160913, 0.06801579877011413, 0.08501974846264267, 0.22105134600287094, 0.08501974846264267, 0.15122638421933085, 0.09451649013708179, 0.18903298027416357, 0.47258245068540894, 0.09451649013708179, 0.23074039592261633, 0.1109890512032838, 0.3446502116312497, 0.1898496928477223, 0.12559287373003167, 0.049701455188626294, 0.6461189174521418, 0.049701455188626294, 0.1491043655658789, 0.049701455188626294, 0.1154197735909506, 0.4481002974707494, 0.15276146504684637, 0.09844627747463434, 0.1867084572794789, 0.8625816215317225, 0.25157467124275396, 0.16998288597483374, 0.1631835705358404, 0.1903808322918138, 0.22097775176728388, 0.7456847996100635, 0.1491369599220127, 0.8099726748946514, 0.1619945349789303, 0.7473206672831189, 0.12455344454718648, 0.12455344454718648, 0.907264236917713, 0.315562095855956, 0.27440182248344, 0.20237134408153704, 0.150921002365892, 0.05831038727773101, 0.9037301728490437, 0.2649313648681358, 0.16303468607269897, 0.2527037634126834, 0.19971749043905623, 0.11820014740270675, 0.9464101660532593, 0.8625979370480968, 0.7147101550495121, 0.08933876938118901, 0.08933876938118901, 0.08933876938118901, 0.08933876938118901, 0.14758190136982963, 0.8854914082189778, 0.8011422276079518, 0.16022844552159035, 0.13729950660440765, 0.13729950660440765, 0.8237970396264459, 0.4234533143821664, 0.11886408824762565, 0.16343812134048527, 0.22287016546429808, 0.07181371998294049, 0.29068783197049974, 0.3188189124837739, 0.19457330688347965, 0.10314729521533861, 0.09377026837758055, 0.19532945274860064, 0.2517579613204186, 0.2734612338480409, 0.21703272527622292, 0.06076916307734242, 0.20002539695640725, 0.43595278823832345, 0.1538656899664671, 0.10770598297652698, 0.10770598297652698, 0.8484854451895171, 0.14141424086491952, 0.14697608142835583, 0.7348804071417792, 0.22336448094932249, 0.6700934428479675, 0.7756644136001002, 0.12315498558944053, 0.30788746397360134, 0.14954533964432065, 0.13195177027440058, 0.29029389460368127, 0.3491935769665945, 0.1474452796666362, 0.21541395736662214, 0.21073886313328977, 0.07695924353331743, 0.5110607939859323, 0.11606508874405787, 0.10857701850250576, 0.07113666729474515, 0.19281780871996712, 0.7756757425715459, 0.147443662238476, 0.8846619734308558, 0.8932892857657367, 0.2771243563269536, 0.3694991417692714, 0.17388194906789242, 0.13041146180091934, 0.048904298175344744, 0.9466323541672039, 0.7424626240639379, 0.14849252481278757, 0.1233582341205774, 0.7401494047234645, 0.1233582341205774, 0.1376079552734615, 0.8256477316407691, 0.8515349625625478, 0.7893721574544886, 0.13156202624241475, 0.2124027715645208, 0.3068040033709745, 0.2596033874677477, 0.11800153975806713, 0.1062013857822604, 0.749572854921109, 0.1992630203501426, 0.14094213634522282, 0.39609600386674687, 0.12393187851045455, 0.14094213634522282, 0.9027286386426205, 0.3434595519820387, 0.1834920894150618, 0.11291820887080725, 0.2728856714377842, 0.0893935820227224, 0.04259003832947311, 0.44293639862652034, 0.2981302683063118, 0.11073409965663009, 0.11073409965663009, 0.19698623351173214, 0.1864803010577731, 0.2573953451219967, 0.28628665937038406, 0.0761680102912031, 0.3757683695425203, 0.06615640308847189, 0.15612911128879364, 0.21170048988311005, 0.19053044089479904, 0.7754837035133308, 0.6043254656803873, 0.22081122784475687, 0.05810821785388339, 0.046486574283106714, 0.06972986142466008, 0.8172457340722645, 0.11674939058175207, 0.9607570027393143, 0.8627617181429497, 0.20715756457670506, 0.25960251763409875, 0.18224621187444306, 0.27402487972488204, 0.07604518193322085, 0.8625972094555401, 0.14771615236542396, 0.8862969141925436, 0.28736481918535756, 0.2279100290090767, 0.20148567781961854, 0.16184915103543127, 0.11890958035256176, 0.04596171437215483, 0.27577028623292893, 0.6434640012101676, 0.359843919819716, 0.1557533384294293, 0.3652147245931445, 0.05370804773428596, 0.06982046205457175, 0.9037577971914358, 0.7755798946790002, 0.8625122648905784, 0.8516692183908514, 0.8658661729225249, 0.25780201799970986, 0.33574216297636633, 0.16787108148818317, 0.07794014497665647, 0.15588028995331293, 0.7596741520241372, 0.8627890837154957, 0.18127505484712264, 0.17173426248674778, 0.20989743192824728, 0.13357109304524828, 0.29576456317162114, 0.2630430839789443, 0.20041377826967188, 0.1427948170171412, 0.20792929495478457, 0.18788791712781738, 0.9041382943060561, 0.1669376964938651, 0.14990323766796051, 0.42245457888243415, 0.09539296942506578, 0.1669376964938651, 0.2224957549614903, 0.3310302695768514, 0.1845086748461139, 0.16822849765380973, 0.097681063153825, 0.12648066890040052, 0.12648066890040052, 0.12648066890040052, 0.6324033445020025, 0.9038029467778057, 0.13496254002506175, 0.8097752401503705, 0.24820963910209767, 0.09928385564083907, 0.262393047050789, 0.29785156692251724, 0.09928385564083907, 0.8764262547999372, 0.925518303164612, 0.9039279003608286, 0.9464818638244454, 0.8936135006352797, 0.13386130563203924, 0.6693065281601963, 0.9036966056980077, 0.15774233481631558, 0.21689571037243394, 0.09858895926019724, 0.4337914207448679, 0.09858895926019724, 0.775796749989484, 0.9036718406229522, 0.9038119662287578, 0.9461255678548163, 0.12897885665409545, 0.7738731399245727, 0.7757472097955991, 0.1408007410638968, 0.5632029642555872, 0.02816014821277936, 0.1408007410638968, 0.11264059285111744, 0.7172593303866885, 0.0796954811540765, 0.159390962308153, 0.8151167145296329, 0.9369108372188943, 0.20941141998067903, 0.20941141998067903, 0.6282342599420371, 0.15748067678746883, 0.15748067678746883, 0.07874033839373441, 0.07874033839373441, 0.5511823687561409, 0.9464174192342036, 0.9508832115576773, 0.29390944047679585, 0.347347520563486, 0.12023568019505283, 0.173673760281743, 0.06679760010836269, 0.9039356585296014, 0.9463422503155541, 0.7758609484003419, 0.8650713423840608, 0.8445992309516522, 0.14076653849194204, 0.9463935158013178, 0.7963151099790539, 0.13271918499650898, 0.20454573693578332, 0.045454608207951844, 0.18181843283180738, 0.5227279943914462, 0.06818191231192777, 0.9029351401753459, 0.12625539681140543, 0.20006624417807325, 0.25445318434298636, 0.16316082049473934, 0.2583379657833373, 0.11048605528529211, 0.1878262939849966, 0.1933505967492612, 0.2762151382132303, 0.22649641333484882, 0.8516050439154197, 0.7758084627050731, 0.7757405878224418, 0.12119529193584529, 0.19477814775403707, 0.0649260492513457, 0.471795957893112, 0.14716571163638356, 0.4219553205148688, 0.265889654023068, 0.1445052467516674, 0.132944827011534, 0.02890104935033348, 0.904078157772745, 0.171986204509565, 0.171986204509565, 0.0859931022547825, 0.12898965338217375, 0.47296206240130373, 0.9038283255127114], \"Term\": [\"ac\", \"ac\", \"ac\", \"ac\", \"ac\", \"ad\", \"address\", \"address\", \"address\", \"address\", \"address\", \"adult\", \"air\", \"air\", \"air\", \"air\", \"air\", \"allow\", \"allow\", \"allow\", \"allow\", \"always\", \"always\", \"always\", \"always\", \"always\", \"amenity\", \"annoying\", \"annoying\", \"annoying\", \"annoying\", \"annoying\", \"ant\", \"ant\", \"anything\", \"anything\", \"anything\", \"anything\", \"anything\", \"apologetic\", \"apologetic\", \"apologetic\", \"apologetic\", \"apologise\", \"apologizes\", \"area\", \"area\", \"area\", \"area\", \"area\", \"around\", \"around\", \"around\", \"around\", \"around\", \"arrived\", \"arrived\", \"arrived\", \"arrived\", \"arrived\", \"arrogant\", \"arround\", \"arround\", \"ask\", \"ask\", \"ask\", \"ask\", \"ask\", \"asked\", \"asked\", \"asked\", \"asked\", \"asked\", \"attitude\", \"attitude\", \"attitude\", \"attitude\", \"attitude\", \"back\", \"back\", \"back\", \"back\", \"back\", \"backdoor\", \"backwards\", \"bad\", \"bad\", \"bad\", \"bad\", \"bad\", \"ban\", \"banging\", \"banging\", \"banging\", \"bar\", \"bar\", \"bar\", \"bar\", \"bar\", \"bare\", \"basin\", \"basin\", \"batch\", \"bathroom\", \"bathroom\", \"bathroom\", \"bathroom\", \"bathroom\", \"bc\", \"beach\", \"beach\", \"beach\", \"beach\", \"beach\", \"bed\", \"bed\", \"bed\", \"bed\", \"bed\", \"beds\", \"beds\", \"beds\", \"beds\", \"beds\", \"begging\", \"beng\", \"besides\", \"besides\", \"besides\", \"besides\", \"besides\", \"bien\", \"bien\", \"blows\", \"blows\", \"blows\", \"booked\", \"booked\", \"booked\", \"booked\", \"booked\", \"booking\", \"booking\", \"booking\", \"booking\", \"booking\", \"boring\", \"boring\", \"boring\", \"boring\", \"boring\", \"brains\", \"breakfast\", \"breakfast\", \"breakfast\", \"breakfast\", \"breakfast\", \"broken\", \"broken\", \"broken\", \"broken\", \"broken\", \"buses\", \"buses\", \"buses\", \"busses\", \"cabin\", \"cabin\", \"came\", \"came\", \"came\", \"came\", \"came\", \"cap\", \"cap\", \"card\", \"card\", \"card\", \"card\", \"card\", \"carries\", \"category\", \"category\", \"ceilings\", \"changes\", \"changes\", \"changes\", \"changes\", \"chaos\", \"chaos\", \"chaos\", \"chaps\", \"chase\", \"cheap\", \"cheap\", \"cheap\", \"cheap\", \"cheap\", \"check\", \"check\", \"check\", \"check\", \"check\", \"cities\", \"city\", \"city\", \"city\", \"city\", \"city\", \"clamp\", \"cleaned\", \"cleaned\", \"cleaned\", \"cleaned\", \"cleaned\", \"climed\", \"clustered\", \"cobweb\", \"coffee\", \"coffee\", \"coffee\", \"coffee\", \"coffee\", \"cold\", \"cold\", \"cold\", \"cold\", \"cold\", \"com\", \"com\", \"com\", \"com\", \"com\", \"complain\", \"complain\", \"complain\", \"complain\", \"complain\", \"component\", \"consisted\", \"construction\", \"construction\", \"construction\", \"construction\", \"construction\", \"conversations\", \"coped\", \"coughing\", \"countryside\", \"countryside\", \"cranky\", \"crash\", \"creaking\", \"creaking\", \"crowd\", \"cruise\", \"cruise\", \"day\", \"day\", \"day\", \"day\", \"day\", \"delta\", \"delta\", \"dies\", \"dietary\", \"different\", \"different\", \"different\", \"different\", \"different\", \"difficult\", \"difficult\", \"difficult\", \"difficult\", \"difficult\", \"dirty\", \"dirty\", \"dirty\", \"dirty\", \"dirty\", \"dirtytoilet\", \"discharged\", \"dispeners\", \"doable\", \"door\", \"door\", \"door\", \"door\", \"door\", \"drops\", \"due\", \"due\", \"due\", \"due\", \"due\", \"dying\", \"dying\", \"early\", \"early\", \"early\", \"early\", \"early\", \"echoed\", \"echoed\", \"edges\", \"eg\", \"elevetor\", \"emails\", \"emails\", \"entering\", \"entering\", \"entering\", \"equipments\", \"equipments\", \"erratic\", \"erratic\", \"every\", \"every\", \"every\", \"every\", \"every\", \"everything\", \"everything\", \"everything\", \"everything\", \"everything\", \"expecially\", \"facebook\", \"far\", \"far\", \"far\", \"far\", \"far\", \"fashion\", \"fatty\", \"fi\", \"fi\", \"fi\", \"fi\", \"fibre\", \"flashed\", \"flavour\", \"flights\", \"flights\", \"flights\", \"flood\", \"flood\", \"floor\", \"floor\", \"floor\", \"floor\", \"floor\", \"food\", \"food\", \"food\", \"food\", \"food\", \"fried\", \"fried\", \"fried\", \"fried\", \"fried\", \"get\", \"get\", \"get\", \"get\", \"get\", \"go\", \"go\", \"go\", \"go\", \"go\", \"goes\", \"goes\", \"goes\", \"goes\", \"goes\", \"good\", \"good\", \"good\", \"good\", \"good\", \"got\", \"got\", \"got\", \"got\", \"got\", \"gotta\", \"grain\", \"grear\", \"grimy\", \"grossly\", \"group\", \"group\", \"group\", \"group\", \"group\", \"guests\", \"guests\", \"guests\", \"guests\", \"guests\", \"hammering\", \"hang\", \"hang\", \"hang\", \"hang\", \"hang\", \"hard\", \"hard\", \"hard\", \"hard\", \"hard\", \"hardly\", \"hardly\", \"hardly\", \"hardly\", \"hardly\", \"heater\", \"heater\", \"heater\", \"heater\", \"heater\", \"highlighting\", \"homestays\", \"homestays\", \"hot\", \"hot\", \"hot\", \"hot\", \"hot\", \"hotel\", \"hotel\", \"hotel\", \"hotel\", \"hotel\", \"hotspot\", \"hrs\", \"identify\", \"industrial\", \"issue\", \"issue\", \"issue\", \"issue\", \"issue\", \"japanese\", \"japanese\", \"japanese\", \"kikis\", \"lac\", \"late\", \"late\", \"late\", \"late\", \"late\", \"lengths\", \"lesser\", \"like\", \"like\", \"like\", \"like\", \"like\", \"lil\", \"litteredpoor\", \"little\", \"little\", \"little\", \"little\", \"little\", \"logging\", \"long\", \"long\", \"long\", \"long\", \"long\", \"loud\", \"loud\", \"loud\", \"loud\", \"loud\", \"lousy\", \"lousy\", \"lousy\", \"loved\", \"luggage\", \"luggage\", \"luggage\", \"luggage\", \"luggage\", \"lux\", \"maintained\", \"maintained\", \"maintained\", \"manages\", \"maple\", \"market\", \"market\", \"market\", \"market\", \"market\", \"marriotte\", \"mayo\", \"micro\", \"monotonous\", \"monotonous\", \"monotonous\", \"monotonous\", \"morning\", \"morning\", \"morning\", \"morning\", \"morning\", \"motorcyklens\", \"much\", \"much\", \"much\", \"much\", \"much\", \"music\", \"music\", \"music\", \"music\", \"music\", \"near\", \"near\", \"near\", \"near\", \"near\", \"need\", \"need\", \"need\", \"need\", \"need\", \"neibourhood\", \"neighbors\", \"neighbors\", \"neighbors\", \"neighbors\", \"neighbors\", \"next\", \"next\", \"next\", \"next\", \"next\", \"nguyet\", \"nguyet\", \"night\", \"night\", \"night\", \"night\", \"night\", \"noice\", \"noise\", \"noise\", \"noise\", \"noise\", \"noise\", \"noisy\", \"noisy\", \"noisy\", \"noisy\", \"noisy\", \"nonetheless\", \"noodle\", \"noodle\", \"noodle\", \"nothing\", \"nothing\", \"nothing\", \"nothing\", \"nothing\", \"nye\", \"offenders\", \"old\", \"old\", \"old\", \"old\", \"old\", \"om\", \"outbreak\", \"outbreak\", \"outdated\", \"outdated\", \"outdated\", \"outdated\", \"outdoors\", \"outdoors\", \"outside\", \"outside\", \"outside\", \"outside\", \"outside\", \"overpowering\", \"package\", \"package\", \"package\", \"padlock\", \"parking\", \"parking\", \"parking\", \"parking\", \"parking\", \"password\", \"password\", \"password\", \"password\", \"pastries\", \"pay\", \"pay\", \"pay\", \"pay\", \"pay\", \"pedicure\", \"people\", \"people\", \"people\", \"people\", \"people\", \"perfumed\", \"permanent\", \"photos\", \"photos\", \"photos\", \"photos\", \"photos\", \"pictures\", \"pictures\", \"pictures\", \"pictures\", \"pictures\", \"pillows\", \"pillows\", \"pillows\", \"pillows\", \"pillows\", \"place\", \"place\", \"place\", \"place\", \"place\", \"police\", \"police\", \"police\", \"police\", \"police\", \"pool\", \"pool\", \"pool\", \"pool\", \"pool\", \"poop\", \"poor\", \"poor\", \"poor\", \"poor\", \"poor\", \"porter\", \"porter\", \"possibility\", \"possibility\", \"posted\", \"posted\", \"posted\", \"potatoes\", \"price\", \"price\", \"price\", \"price\", \"price\", \"primary\", \"problem\", \"problem\", \"problem\", \"problem\", \"problem\", \"professionnal\", \"proofed\", \"proofing\", \"proofing\", \"proofing\", \"proofing\", \"proofing\", \"proved\", \"proved\", \"publish\", \"publish\", \"pushing\", \"pushing\", \"pushing\", \"quite\", \"quite\", \"quite\", \"quite\", \"quite\", \"really\", \"really\", \"really\", \"really\", \"really\", \"reception\", \"reception\", \"reception\", \"reception\", \"reception\", \"receptionist\", \"receptionist\", \"receptionist\", \"receptionist\", \"receptionist\", \"region\", \"region\", \"registered\", \"registered\", \"regulate\", \"regulate\", \"reopen\", \"road\", \"road\", \"road\", \"road\", \"road\", \"room\", \"room\", \"room\", \"room\", \"room\", \"rooms\", \"rooms\", \"rooms\", \"rooms\", \"rooms\", \"rusted\", \"rustic\", \"rustic\", \"sachet\", \"said\", \"said\", \"said\", \"said\", \"said\", \"scheme\", \"scolded\", \"scolded\", \"screen\", \"screen\", \"screen\", \"sealed\", \"sealed\", \"secondly\", \"separated\", \"separated\", \"service\", \"service\", \"service\", \"service\", \"service\", \"shoe\", \"shower\", \"shower\", \"shower\", \"shower\", \"shower\", \"signing\", \"sleep\", \"sleep\", \"sleep\", \"sleep\", \"sleep\", \"slow\", \"slow\", \"slow\", \"slow\", \"slow\", \"small\", \"small\", \"small\", \"small\", \"small\", \"smell\", \"smell\", \"smell\", \"smell\", \"smell\", \"soreness\", \"sound\", \"sound\", \"sound\", \"sound\", \"sound\", \"speaks\", \"speaks\", \"spiral\", \"splitting\", \"staff\", \"staff\", \"staff\", \"staff\", \"staff\", \"stages\", \"stairwell\", \"stairwell\", \"stay\", \"stay\", \"stay\", \"stay\", \"stay\", \"steep\", \"steep\", \"steep\", \"still\", \"still\", \"still\", \"still\", \"still\", \"stool\", \"strength\", \"stumbling\", \"survive\", \"tait\", \"take\", \"take\", \"take\", \"take\", \"take\", \"techniques\", \"tempering\", \"thing\", \"thing\", \"thing\", \"thing\", \"thing\", \"time\", \"time\", \"time\", \"time\", \"time\", \"timings\", \"toilet\", \"toilet\", \"toilet\", \"toilet\", \"toilet\", \"told\", \"told\", \"told\", \"told\", \"told\", \"toothbrush\", \"toothbrush\", \"toothbrush\", \"toothbrush\", \"topmost\", \"tout\", \"tout\", \"towels\", \"towels\", \"towels\", \"towels\", \"towels\", \"tr\", \"track\", \"transfers\", \"trashy\", \"traveled\", \"tree\", \"tree\", \"truong\", \"try\", \"try\", \"try\", \"try\", \"try\", \"umbrella\", \"uncaring\", \"uncomfy\", \"underpowered\", \"unfortunate\", \"unfortunate\", \"unfriendliness\", \"unfriendly\", \"unfriendly\", \"unfriendly\", \"unfriendly\", \"unfriendly\", \"unhelpful\", \"unhelpful\", \"unhelpful\", \"units\", \"unpredictable\", \"updating\", \"updating\", \"updating\", \"urgent\", \"urgent\", \"urgent\", \"urgent\", \"urgent\", \"vacay\", \"venue\", \"view\", \"view\", \"view\", \"view\", \"view\", \"villager\", \"villagethe\", \"villas\", \"virus\", \"visible\", \"visible\", \"volunteering\", \"waking\", \"waking\", \"walking\", \"walking\", \"walking\", \"walking\", \"walking\", \"ward\", \"water\", \"water\", \"water\", \"water\", \"water\", \"weak\", \"weak\", \"weak\", \"weak\", \"weak\", \"weathered\", \"wedged\", \"wideawake\", \"wifi\", \"wifi\", \"wifi\", \"wifi\", \"wifi\", \"window\", \"window\", \"window\", \"window\", \"window\", \"withstanding\", \"word\", \"word\", \"word\", \"word\", \"word\", \"yoga\"]}, \"R\": 30, \"lambda.step\": 0.01, \"plot.opts\": {\"xlab\": \"PC1\", \"ylab\": \"PC2\"}, \"topic.order\": [1, 2, 5, 4, 3]};\n",
       "\n",
       "function LDAvis_load_lib(url, callback){\n",
       "  var s = document.createElement('script');\n",
       "  s.src = url;\n",
       "  s.async = true;\n",
       "  s.onreadystatechange = s.onload = callback;\n",
       "  s.onerror = function(){console.warn(\"failed to load library \" + url);};\n",
       "  document.getElementsByTagName(\"head\")[0].appendChild(s);\n",
       "}\n",
       "\n",
       "if(typeof(LDAvis) !== \"undefined\"){\n",
       "   // already loaded: just create the visualization\n",
       "   !function(LDAvis){\n",
       "       new LDAvis(\"#\" + \"ldavis_el189161343853055552666762093\", ldavis_el189161343853055552666762093_data);\n",
       "   }(LDAvis);\n",
       "}else if(typeof define === \"function\" && define.amd){\n",
       "   // require.js is available: use it to load d3/LDAvis\n",
       "   require.config({paths: {d3: \"https://d3js.org/d3.v5\"}});\n",
       "   require([\"d3\"], function(d3){\n",
       "      window.d3 = d3;\n",
       "      LDAvis_load_lib(\"https://cdn.jsdelivr.net/gh/bmabey/pyLDAvis@3.4.0/pyLDAvis/js/ldavis.v3.0.0.js\", function(){\n",
       "        new LDAvis(\"#\" + \"ldavis_el189161343853055552666762093\", ldavis_el189161343853055552666762093_data);\n",
       "      });\n",
       "    });\n",
       "}else{\n",
       "    // require.js not available: dynamically load d3 & LDAvis\n",
       "    LDAvis_load_lib(\"https://d3js.org/d3.v5.js\", function(){\n",
       "         LDAvis_load_lib(\"https://cdn.jsdelivr.net/gh/bmabey/pyLDAvis@3.4.0/pyLDAvis/js/ldavis.v3.0.0.js\", function(){\n",
       "                 new LDAvis(\"#\" + \"ldavis_el189161343853055552666762093\", ldavis_el189161343853055552666762093_data);\n",
       "            })\n",
       "         });\n",
       "}\n",
       "</script>"
      ],
      "text/plain": [
       "<IPython.core.display.HTML object>"
      ]
     },
     "execution_count": 223,
     "metadata": {},
     "output_type": "execute_result"
    }
   ],
   "source": [
    "import os\n",
    "import pickle\n",
    "import pyLDAvis\n",
    "import pyLDAvis.gensim_models\n",
    "\n",
    "# Khai báo đường dẫn đến thư mục lưu trữ dữ liệu\n",
    "LDAvis_data_dir = os.path.join(\"E:\\\\NCKH\\\\NCKHNew\\\\img\", 'neg_Results')\n",
    "if not os.path.exists(LDAvis_data_dir):\n",
    "    os.makedirs(LDAvis_data_dir)\n",
    "\n",
    "# Đường dẫn tới tệp dữ liệu của pyLDAvis\n",
    "LDAvis_data_filepath = os.path.join(LDAvis_data_dir, 'ldavis_prepared_'+str(num_topics))\n",
    "\n",
    "# Kiểm tra xem liệu quá trình chuẩn bị dữ liệu cho trực quan hóa đã được thực hiện chưa\n",
    "if 1 == 1:\n",
    "    # Chuẩn bị dữ liệu cho trực quan hóa\n",
    "    LDAvis_prepared = pyLDAvis.gensim_models.prepare(lda_model, corpus, id2word)\n",
    "    # Lưu trữ dữ liệu vào một tệp\n",
    "    with open(LDAvis_data_filepath, 'wb') as f:\n",
    "        pickle.dump(LDAvis_prepared, f)\n",
    "\n",
    "# Load dữ liệu đã chuẩn bị từ tệp\n",
    "with open(LDAvis_data_filepath, 'rb') as f:\n",
    "    LDAvis_prepared = pickle.load(f)\n",
    "\n",
    "# Lưu trữ trực quan hóa dưới dạng một tệp HTML\n",
    "pyLDAvis.save_html(LDAvis_prepared, 'ldavis_prepared_'+ str(num_topics) +'.html')\n",
    "\n",
    "# Hiển thị trực quan hóa trên trình duyệt web\n",
    "pyLDAvis.display(LDAvis_prepared)\n"
   ]
  }
 ],
 "metadata": {
  "kernelspec": {
   "display_name": "Python 3",
   "language": "python",
   "name": "python3"
  },
  "language_info": {
   "codemirror_mode": {
    "name": "ipython",
    "version": 3
   },
   "file_extension": ".py",
   "mimetype": "text/x-python",
   "name": "python",
   "nbconvert_exporter": "python",
   "pygments_lexer": "ipython3",
   "version": "3.11.8"
  }
 },
 "nbformat": 4,
 "nbformat_minor": 2
}
